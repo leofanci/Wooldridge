{
 "cells": [
  {
   "cell_type": "markdown",
   "id": "6e22896a",
   "metadata": {},
   "source": [
    "# 1 "
   ]
  },
  {
   "cell_type": "markdown",
   "id": "18b78979",
   "metadata": {},
   "source": [
    "## PART 1"
   ]
  },
  {
   "cell_type": "markdown",
   "id": "f06d2f2d",
   "metadata": {},
   "source": [
    "### Use the bwght dataset from the Wooldridge python module to answer the following question."
   ]
  },
  {
   "cell_type": "code",
   "execution_count": 1,
   "id": "76bad5f9",
   "metadata": {},
   "outputs": [],
   "source": [
    "import numpy as np\n",
    "import wooldridge as woo\n",
    "import matplotlib.pyplot as plt\n",
    "import seaborn as sns\n",
    "import scipy.stats as stats\n",
    "import statsmodels.formula.api as smf"
   ]
  },
  {
   "cell_type": "code",
   "execution_count": 2,
   "id": "cb6d0041",
   "metadata": {},
   "outputs": [
    {
     "data": {
      "text/html": [
       "<div>\n",
       "<style scoped>\n",
       "    .dataframe tbody tr th:only-of-type {\n",
       "        vertical-align: middle;\n",
       "    }\n",
       "\n",
       "    .dataframe tbody tr th {\n",
       "        vertical-align: top;\n",
       "    }\n",
       "\n",
       "    .dataframe thead th {\n",
       "        text-align: right;\n",
       "    }\n",
       "</style>\n",
       "<table border=\"1\" class=\"dataframe\">\n",
       "  <thead>\n",
       "    <tr style=\"text-align: right;\">\n",
       "      <th></th>\n",
       "      <th>faminc</th>\n",
       "      <th>cigtax</th>\n",
       "      <th>cigprice</th>\n",
       "      <th>bwght</th>\n",
       "      <th>fatheduc</th>\n",
       "      <th>motheduc</th>\n",
       "      <th>parity</th>\n",
       "      <th>male</th>\n",
       "      <th>white</th>\n",
       "      <th>cigs</th>\n",
       "      <th>lbwght</th>\n",
       "      <th>bwghtlbs</th>\n",
       "      <th>packs</th>\n",
       "      <th>lfaminc</th>\n",
       "    </tr>\n",
       "  </thead>\n",
       "  <tbody>\n",
       "    <tr>\n",
       "      <th>0</th>\n",
       "      <td>13.5</td>\n",
       "      <td>16.5</td>\n",
       "      <td>122.300003</td>\n",
       "      <td>109</td>\n",
       "      <td>12.0</td>\n",
       "      <td>12.0</td>\n",
       "      <td>1</td>\n",
       "      <td>1</td>\n",
       "      <td>1</td>\n",
       "      <td>0</td>\n",
       "      <td>4.691348</td>\n",
       "      <td>6.8125</td>\n",
       "      <td>0.0</td>\n",
       "      <td>2.602690</td>\n",
       "    </tr>\n",
       "    <tr>\n",
       "      <th>1</th>\n",
       "      <td>7.5</td>\n",
       "      <td>16.5</td>\n",
       "      <td>122.300003</td>\n",
       "      <td>133</td>\n",
       "      <td>6.0</td>\n",
       "      <td>12.0</td>\n",
       "      <td>2</td>\n",
       "      <td>1</td>\n",
       "      <td>0</td>\n",
       "      <td>0</td>\n",
       "      <td>4.890349</td>\n",
       "      <td>8.3125</td>\n",
       "      <td>0.0</td>\n",
       "      <td>2.014903</td>\n",
       "    </tr>\n",
       "    <tr>\n",
       "      <th>2</th>\n",
       "      <td>0.5</td>\n",
       "      <td>16.5</td>\n",
       "      <td>122.300003</td>\n",
       "      <td>129</td>\n",
       "      <td>NaN</td>\n",
       "      <td>12.0</td>\n",
       "      <td>2</td>\n",
       "      <td>0</td>\n",
       "      <td>0</td>\n",
       "      <td>0</td>\n",
       "      <td>4.859812</td>\n",
       "      <td>8.0625</td>\n",
       "      <td>0.0</td>\n",
       "      <td>-0.693147</td>\n",
       "    </tr>\n",
       "    <tr>\n",
       "      <th>3</th>\n",
       "      <td>15.5</td>\n",
       "      <td>16.5</td>\n",
       "      <td>122.300003</td>\n",
       "      <td>126</td>\n",
       "      <td>12.0</td>\n",
       "      <td>12.0</td>\n",
       "      <td>2</td>\n",
       "      <td>1</td>\n",
       "      <td>0</td>\n",
       "      <td>0</td>\n",
       "      <td>4.836282</td>\n",
       "      <td>7.8750</td>\n",
       "      <td>0.0</td>\n",
       "      <td>2.740840</td>\n",
       "    </tr>\n",
       "    <tr>\n",
       "      <th>4</th>\n",
       "      <td>27.5</td>\n",
       "      <td>16.5</td>\n",
       "      <td>122.300003</td>\n",
       "      <td>134</td>\n",
       "      <td>14.0</td>\n",
       "      <td>12.0</td>\n",
       "      <td>2</td>\n",
       "      <td>1</td>\n",
       "      <td>1</td>\n",
       "      <td>0</td>\n",
       "      <td>4.897840</td>\n",
       "      <td>8.3750</td>\n",
       "      <td>0.0</td>\n",
       "      <td>3.314186</td>\n",
       "    </tr>\n",
       "  </tbody>\n",
       "</table>\n",
       "</div>"
      ],
      "text/plain": [
       "   faminc  cigtax    cigprice  bwght  fatheduc  motheduc  parity  male  white  \\\n",
       "0    13.5    16.5  122.300003    109      12.0      12.0       1     1      1   \n",
       "1     7.5    16.5  122.300003    133       6.0      12.0       2     1      0   \n",
       "2     0.5    16.5  122.300003    129       NaN      12.0       2     0      0   \n",
       "3    15.5    16.5  122.300003    126      12.0      12.0       2     1      0   \n",
       "4    27.5    16.5  122.300003    134      14.0      12.0       2     1      1   \n",
       "\n",
       "   cigs    lbwght  bwghtlbs  packs   lfaminc  \n",
       "0     0  4.691348    6.8125    0.0  2.602690  \n",
       "1     0  4.890349    8.3125    0.0  2.014903  \n",
       "2     0  4.859812    8.0625    0.0 -0.693147  \n",
       "3     0  4.836282    7.8750    0.0  2.740840  \n",
       "4     0  4.897840    8.3750    0.0  3.314186  "
      ]
     },
     "execution_count": 2,
     "metadata": {},
     "output_type": "execute_result"
    }
   ],
   "source": [
    "women = woo.data(\"bwght\")\n",
    "women.head()"
   ]
  },
  {
   "cell_type": "markdown",
   "id": "5a95ccaa",
   "metadata": {},
   "source": [
    "### How many women are in the sample? How many report smoking during pregnancy?"
   ]
  },
  {
   "cell_type": "code",
   "execution_count": 3,
   "id": "f4347b3d",
   "metadata": {},
   "outputs": [
    {
     "name": "stdout",
     "output_type": "stream",
     "text": [
      "There are 1388 women in the sample\n"
     ]
    }
   ],
   "source": [
    "print(\"There are\", women.shape[0], \"women in the sample\")"
   ]
  },
  {
   "cell_type": "code",
   "execution_count": 4,
   "id": "8afcbd29",
   "metadata": {},
   "outputs": [
    {
     "name": "stdout",
     "output_type": "stream",
     "text": [
      "<class 'pandas.core.frame.DataFrame'>\n",
      "RangeIndex: 1388 entries, 0 to 1387\n",
      "Data columns (total 14 columns):\n",
      " #   Column    Non-Null Count  Dtype  \n",
      "---  ------    --------------  -----  \n",
      " 0   faminc    1388 non-null   float64\n",
      " 1   cigtax    1388 non-null   float64\n",
      " 2   cigprice  1388 non-null   float64\n",
      " 3   bwght     1388 non-null   int64  \n",
      " 4   fatheduc  1192 non-null   float64\n",
      " 5   motheduc  1387 non-null   float64\n",
      " 6   parity    1388 non-null   int64  \n",
      " 7   male      1388 non-null   int64  \n",
      " 8   white     1388 non-null   int64  \n",
      " 9   cigs      1388 non-null   int64  \n",
      " 10  lbwght    1388 non-null   float64\n",
      " 11  bwghtlbs  1388 non-null   float64\n",
      " 12  packs     1388 non-null   float64\n",
      " 13  lfaminc   1388 non-null   float64\n",
      "dtypes: float64(9), int64(5)\n",
      "memory usage: 151.9 KB\n"
     ]
    }
   ],
   "source": [
    "women.info()"
   ]
  },
  {
   "cell_type": "code",
   "execution_count": 5,
   "id": "c01212c0",
   "metadata": {},
   "outputs": [
    {
     "name": "stdout",
     "output_type": "stream",
     "text": [
      "212 women reported smoking during pregnancy at least one cigarette per day\n"
     ]
    }
   ],
   "source": [
    "women_cigs = women.cigs==0\n",
    "women_smoking = women.shape[0]-sum(women_cigs)\n",
    "print(women_smoking, \"women reported smoking during pregnancy at least one cigarette per day\")"
   ]
  },
  {
   "cell_type": "markdown",
   "id": "d65c0318",
   "metadata": {},
   "source": [
    "### Generate a table of summary statistics for the dataframe. What is the average number of cigarettes smoked in a day? Is the mean a good measure of the typical women’s smoking habits? Explain."
   ]
  },
  {
   "cell_type": "code",
   "execution_count": 6,
   "id": "850cf673",
   "metadata": {},
   "outputs": [
    {
     "data": {
      "text/html": [
       "<div>\n",
       "<style scoped>\n",
       "    .dataframe tbody tr th:only-of-type {\n",
       "        vertical-align: middle;\n",
       "    }\n",
       "\n",
       "    .dataframe tbody tr th {\n",
       "        vertical-align: top;\n",
       "    }\n",
       "\n",
       "    .dataframe thead th {\n",
       "        text-align: right;\n",
       "    }\n",
       "</style>\n",
       "<table border=\"1\" class=\"dataframe\">\n",
       "  <thead>\n",
       "    <tr style=\"text-align: right;\">\n",
       "      <th></th>\n",
       "      <th>faminc</th>\n",
       "      <th>cigtax</th>\n",
       "      <th>cigprice</th>\n",
       "      <th>bwght</th>\n",
       "      <th>fatheduc</th>\n",
       "      <th>motheduc</th>\n",
       "      <th>parity</th>\n",
       "      <th>male</th>\n",
       "      <th>white</th>\n",
       "      <th>cigs</th>\n",
       "      <th>lbwght</th>\n",
       "      <th>bwghtlbs</th>\n",
       "      <th>packs</th>\n",
       "      <th>lfaminc</th>\n",
       "    </tr>\n",
       "  </thead>\n",
       "  <tbody>\n",
       "    <tr>\n",
       "      <th>count</th>\n",
       "      <td>1388.000000</td>\n",
       "      <td>1388.000000</td>\n",
       "      <td>1388.000000</td>\n",
       "      <td>1388.000000</td>\n",
       "      <td>1192.000000</td>\n",
       "      <td>1387.000000</td>\n",
       "      <td>1388.000000</td>\n",
       "      <td>1388.000000</td>\n",
       "      <td>1388.000000</td>\n",
       "      <td>1388.000000</td>\n",
       "      <td>1388.000000</td>\n",
       "      <td>1388.000000</td>\n",
       "      <td>1388.000000</td>\n",
       "      <td>1388.000000</td>\n",
       "    </tr>\n",
       "    <tr>\n",
       "      <th>mean</th>\n",
       "      <td>29.026657</td>\n",
       "      <td>19.552954</td>\n",
       "      <td>130.559006</td>\n",
       "      <td>118.699568</td>\n",
       "      <td>13.186242</td>\n",
       "      <td>12.935833</td>\n",
       "      <td>1.632565</td>\n",
       "      <td>0.520893</td>\n",
       "      <td>0.784582</td>\n",
       "      <td>2.087176</td>\n",
       "      <td>4.760031</td>\n",
       "      <td>7.418723</td>\n",
       "      <td>0.104359</td>\n",
       "      <td>3.071271</td>\n",
       "    </tr>\n",
       "    <tr>\n",
       "      <th>std</th>\n",
       "      <td>18.739285</td>\n",
       "      <td>7.795598</td>\n",
       "      <td>10.244485</td>\n",
       "      <td>20.353964</td>\n",
       "      <td>2.745985</td>\n",
       "      <td>2.376728</td>\n",
       "      <td>0.894027</td>\n",
       "      <td>0.499743</td>\n",
       "      <td>0.411260</td>\n",
       "      <td>5.972688</td>\n",
       "      <td>0.190662</td>\n",
       "      <td>1.272123</td>\n",
       "      <td>0.298634</td>\n",
       "      <td>0.918065</td>\n",
       "    </tr>\n",
       "    <tr>\n",
       "      <th>min</th>\n",
       "      <td>0.500000</td>\n",
       "      <td>2.000000</td>\n",
       "      <td>103.800003</td>\n",
       "      <td>23.000000</td>\n",
       "      <td>1.000000</td>\n",
       "      <td>2.000000</td>\n",
       "      <td>1.000000</td>\n",
       "      <td>0.000000</td>\n",
       "      <td>0.000000</td>\n",
       "      <td>0.000000</td>\n",
       "      <td>3.135494</td>\n",
       "      <td>1.437500</td>\n",
       "      <td>0.000000</td>\n",
       "      <td>-0.693147</td>\n",
       "    </tr>\n",
       "    <tr>\n",
       "      <th>25%</th>\n",
       "      <td>14.500000</td>\n",
       "      <td>15.000000</td>\n",
       "      <td>122.800003</td>\n",
       "      <td>107.000000</td>\n",
       "      <td>12.000000</td>\n",
       "      <td>12.000000</td>\n",
       "      <td>1.000000</td>\n",
       "      <td>0.000000</td>\n",
       "      <td>1.000000</td>\n",
       "      <td>0.000000</td>\n",
       "      <td>4.672829</td>\n",
       "      <td>6.687500</td>\n",
       "      <td>0.000000</td>\n",
       "      <td>2.674149</td>\n",
       "    </tr>\n",
       "    <tr>\n",
       "      <th>50%</th>\n",
       "      <td>27.500000</td>\n",
       "      <td>20.000000</td>\n",
       "      <td>130.800003</td>\n",
       "      <td>120.000000</td>\n",
       "      <td>12.000000</td>\n",
       "      <td>12.000000</td>\n",
       "      <td>1.000000</td>\n",
       "      <td>1.000000</td>\n",
       "      <td>1.000000</td>\n",
       "      <td>0.000000</td>\n",
       "      <td>4.787492</td>\n",
       "      <td>7.500000</td>\n",
       "      <td>0.000000</td>\n",
       "      <td>3.314186</td>\n",
       "    </tr>\n",
       "    <tr>\n",
       "      <th>75%</th>\n",
       "      <td>37.500000</td>\n",
       "      <td>26.000000</td>\n",
       "      <td>137.000000</td>\n",
       "      <td>132.000000</td>\n",
       "      <td>16.000000</td>\n",
       "      <td>14.000000</td>\n",
       "      <td>2.000000</td>\n",
       "      <td>1.000000</td>\n",
       "      <td>1.000000</td>\n",
       "      <td>0.000000</td>\n",
       "      <td>4.882802</td>\n",
       "      <td>8.250000</td>\n",
       "      <td>0.000000</td>\n",
       "      <td>3.624341</td>\n",
       "    </tr>\n",
       "    <tr>\n",
       "      <th>max</th>\n",
       "      <td>65.000000</td>\n",
       "      <td>38.000000</td>\n",
       "      <td>152.500000</td>\n",
       "      <td>271.000000</td>\n",
       "      <td>18.000000</td>\n",
       "      <td>18.000000</td>\n",
       "      <td>6.000000</td>\n",
       "      <td>1.000000</td>\n",
       "      <td>1.000000</td>\n",
       "      <td>50.000000</td>\n",
       "      <td>5.602119</td>\n",
       "      <td>16.937500</td>\n",
       "      <td>2.500000</td>\n",
       "      <td>4.174387</td>\n",
       "    </tr>\n",
       "  </tbody>\n",
       "</table>\n",
       "</div>"
      ],
      "text/plain": [
       "            faminc       cigtax     cigprice        bwght     fatheduc  \\\n",
       "count  1388.000000  1388.000000  1388.000000  1388.000000  1192.000000   \n",
       "mean     29.026657    19.552954   130.559006   118.699568    13.186242   \n",
       "std      18.739285     7.795598    10.244485    20.353964     2.745985   \n",
       "min       0.500000     2.000000   103.800003    23.000000     1.000000   \n",
       "25%      14.500000    15.000000   122.800003   107.000000    12.000000   \n",
       "50%      27.500000    20.000000   130.800003   120.000000    12.000000   \n",
       "75%      37.500000    26.000000   137.000000   132.000000    16.000000   \n",
       "max      65.000000    38.000000   152.500000   271.000000    18.000000   \n",
       "\n",
       "          motheduc       parity         male        white         cigs  \\\n",
       "count  1387.000000  1388.000000  1388.000000  1388.000000  1388.000000   \n",
       "mean     12.935833     1.632565     0.520893     0.784582     2.087176   \n",
       "std       2.376728     0.894027     0.499743     0.411260     5.972688   \n",
       "min       2.000000     1.000000     0.000000     0.000000     0.000000   \n",
       "25%      12.000000     1.000000     0.000000     1.000000     0.000000   \n",
       "50%      12.000000     1.000000     1.000000     1.000000     0.000000   \n",
       "75%      14.000000     2.000000     1.000000     1.000000     0.000000   \n",
       "max      18.000000     6.000000     1.000000     1.000000    50.000000   \n",
       "\n",
       "            lbwght     bwghtlbs        packs      lfaminc  \n",
       "count  1388.000000  1388.000000  1388.000000  1388.000000  \n",
       "mean      4.760031     7.418723     0.104359     3.071271  \n",
       "std       0.190662     1.272123     0.298634     0.918065  \n",
       "min       3.135494     1.437500     0.000000    -0.693147  \n",
       "25%       4.672829     6.687500     0.000000     2.674149  \n",
       "50%       4.787492     7.500000     0.000000     3.314186  \n",
       "75%       4.882802     8.250000     0.000000     3.624341  \n",
       "max       5.602119    16.937500     2.500000     4.174387  "
      ]
     },
     "execution_count": 6,
     "metadata": {},
     "output_type": "execute_result"
    }
   ],
   "source": [
    "women.describe()"
   ]
  },
  {
   "cell_type": "markdown",
   "id": "bbc9a1b2",
   "metadata": {},
   "source": [
    "The average number we get from the column \"cigs\" is 2.087176. However, this is not a good measure of typical women's smiking habit as the women in the sample were pregnant, thus, the information is biased. We can understand that as most of the anserws were 0."
   ]
  },
  {
   "cell_type": "markdown",
   "id": "58192b45",
   "metadata": {},
   "source": [
    "### Find the average fatheduc in the sample. Why are only 1,192 observations used to compute this average?"
   ]
  },
  {
   "cell_type": "code",
   "execution_count": 7,
   "id": "dc43517e",
   "metadata": {},
   "outputs": [
    {
     "name": "stdout",
     "output_type": "stream",
     "text": [
      "The average fatheduc is 13.186241610738255\n"
     ]
    }
   ],
   "source": [
    "print(\"The average fatheduc is\", women[\"fatheduc\"].mean())"
   ]
  },
  {
   "cell_type": "markdown",
   "id": "d55cfc81",
   "metadata": {},
   "source": [
    "There are only 1,192 observations because the other values were missing. As from the table above: \"fatheduc  1192 non-null   float64\". That means only 1192 values were not NaN.\n"
   ]
  },
  {
   "cell_type": "markdown",
   "id": "1010a49d",
   "metadata": {},
   "source": [
    "## PART 2"
   ]
  },
  {
   "cell_type": "markdown",
   "id": "bee533cd",
   "metadata": {},
   "source": [
    "### Generate two different histograms of bwght using Sturge’s and FD binning methods. What are the strengths and weaknesses of each method?"
   ]
  },
  {
   "cell_type": "code",
   "execution_count": 8,
   "id": "36c1c4a0",
   "metadata": {},
   "outputs": [
    {
     "data": {
      "image/png": "[encoded data removed]",
      "text/plain": [
       "<Figure size 432x288 with 1 Axes>"
      ]
     },
     "metadata": {
      "needs_background": "light"
     },
     "output_type": "display_data"
    }
   ],
   "source": [
    "plt.hist(women.bwght, alpha=1, bins=\"sturges\")\n",
    "plt.title(\"Birthweight in Ounces Using Sturges\")\n",
    "plt.xlabel(\"Birthweight\")\n",
    "plt.ylabel(\"Frequency\")\n",
    "plt.grid()\n",
    "plt.show()"
   ]
  },
  {
   "cell_type": "code",
   "execution_count": 9,
   "id": "7c5a63ac",
   "metadata": {
    "scrolled": true
   },
   "outputs": [
    {
     "data": {
      "image/png": "[encoded data removed]",
      "text/plain": [
       "<Figure size 432x288 with 1 Axes>"
      ]
     },
     "metadata": {
      "needs_background": "light"
     },
     "output_type": "display_data"
    }
   ],
   "source": [
    "plt.hist(women.bwght, alpha=1, bins=\"fd\")\n",
    "plt.title(\"Birthweight in Ounces Using Freedman's and Diaconis\")\n",
    "plt.xlabel(\"Birthweight\")\n",
    "plt.ylabel(\"Frequency\")\n",
    "plt.grid()\n",
    "plt.show()"
   ]
  },
  {
   "cell_type": "markdown",
   "id": "04ab2a15",
   "metadata": {},
   "source": [
    "STURGES | Pros: useful for not too large and not too small datasets, and optimal for normal distribution | Cons: the number of bins is too low for more complex distribution, so the data presentation might be biased as you cannot understand perfectly the real distribution because of the minimal number of bins. Same when the sample is too large."
   ]
  },
  {
   "cell_type": "markdown",
   "id": "34cb7221",
   "metadata": {},
   "source": [
    "FD | Pros: great with complex data set and allows the representation of a wide array of distributions and their skews or outliers. Hence, it adapts more to the sample | Cons: it might need to be adjusted for too large or small samples."
   ]
  },
  {
   "cell_type": "markdown",
   "id": "fc0576e0",
   "metadata": {},
   "source": [
    "### Create a histogram of bwght and overlay a density curve."
   ]
  },
  {
   "cell_type": "code",
   "execution_count": 10,
   "id": "56824ba1",
   "metadata": {},
   "outputs": [
    {
     "data": {
      "image/png": "[encoded data removed]",
      "text/plain": [
       "<Figure size 432x288 with 1 Axes>"
      ]
     },
     "metadata": {
      "needs_background": "light"
     },
     "output_type": "display_data"
    }
   ],
   "source": [
    "sns.histplot(women.bwght, stat=\"density\")\n",
    "sns.kdeplot(women.bwght, color=\"red\")\n",
    "plt.title(\"Density of Birthweight Distribution\")\n",
    "plt.xlabel(\"Birthweight\")\n",
    "plt.ylabel(\"Density\")\n",
    "plt.grid()\n",
    "plt.show()"
   ]
  },
  {
   "cell_type": "markdown",
   "id": "8be2fffb",
   "metadata": {},
   "source": [
    "### Using a q-q plot, do you believe bwght is approximately normally distributed? Why are why not?"
   ]
  },
  {
   "cell_type": "code",
   "execution_count": 11,
   "id": "16138b95",
   "metadata": {},
   "outputs": [
    {
     "data": {
      "image/png": "[encoded data removed]",
      "text/plain": [
       "<Figure size 432x288 with 1 Axes>"
      ]
     },
     "metadata": {
      "needs_background": "light"
     },
     "output_type": "display_data"
    }
   ],
   "source": [
    "stats.probplot(women.bwght, dist=\"norm\", plot=plt)\n",
    "plt.title(\"Probability plot to observe bwght normality\")\n",
    "plt.xlabel(\"Normal theoretical quantiles\")\n",
    "plt.ylabel(\"Birthweight\")\n",
    "plt.show()"
   ]
  },
  {
   "cell_type": "markdown",
   "id": "11d8cd07",
   "metadata": {},
   "source": [
    "The dataset \"bwght\" does not look normal, the line formed by each observation is deviated on the negative part. "
   ]
  },
  {
   "cell_type": "markdown",
   "id": "69487f61",
   "metadata": {},
   "source": [
    "### Create a boxplot conditioning on whether or not the mother was a smoker. Do you observe any differences? If so, what?"
   ]
  },
  {
   "cell_type": "code",
   "execution_count": 12,
   "id": "8fccc700",
   "metadata": {},
   "outputs": [
    {
     "data": {
      "image/png": "[encoded data removed]",
      "text/plain": [
       "<Figure size 432x288 with 1 Axes>"
      ]
     },
     "metadata": {
      "needs_background": "light"
     },
     "output_type": "display_data"
    }
   ],
   "source": [
    "data = [women[women.cigs==0].bwght, women[women.cigs>0].bwght]\n",
    "plt.boxplot(data)\n",
    "plt.title(\"Non-smoking vs Smoking Mother\")\n",
    "plt.xticks([1,2], [\"Non-smoker\", \"Smoker\"])\n",
    "plt.ylabel(\"Birthweight\")\n",
    "plt.show()"
   ]
  },
  {
   "cell_type": "markdown",
   "id": "933e373b",
   "metadata": {},
   "source": [
    "When the mother is a non-smoker, we have a lot of outliers. This means the birthweigh is still variable even if the mother does not smoke. This might be due to the fact that we have a lot more observations of non-smoking mothers."
   ]
  },
  {
   "cell_type": "markdown",
   "id": "3b1b5bbb",
   "metadata": {},
   "source": [
    "## PART 3"
   ]
  },
  {
   "cell_type": "markdown",
   "id": "0901c0b1",
   "metadata": {},
   "source": [
    "### Estimate the parameters for the following simple regression: bwˆght = βˆ0 + βˆ1cigs, report the intercept and slope. What do these tell you about the association between cigarette use and birth weight?"
   ]
  },
  {
   "cell_type": "code",
   "execution_count": 13,
   "id": "4786908c",
   "metadata": {},
   "outputs": [
    {
     "data": {
      "text/plain": [
       "Intercept    119.771900\n",
       "cigs          -0.513772\n",
       "dtype: float64"
      ]
     },
     "execution_count": 13,
     "metadata": {},
     "output_type": "execute_result"
    }
   ],
   "source": [
    "regr = smf.ols('bwght ~ cigs', data=women)\n",
    "result = regr.fit()\n",
    "result.params"
   ]
  },
  {
   "cell_type": "markdown",
   "id": "d6e61340",
   "metadata": {},
   "source": [
    "Let's try it manually to be more sure."
   ]
  },
  {
   "cell_type": "code",
   "execution_count": 14,
   "id": "504ad0ef",
   "metadata": {},
   "outputs": [
    {
     "name": "stdout",
     "output_type": "stream",
     "text": [
      "The model is: bwght_hat = 119.77190039834969 -0.5137720928233933 * cigs\n"
     ]
    }
   ],
   "source": [
    "x = women.cigs\n",
    "y = women.bwght\n",
    "cov_xy = np.cov(x,y)[1,0]\n",
    "var_x = np.var(x, ddof=1)\n",
    "b1 = cov_xy/var_x\n",
    "b0 = np.mean(y)-b1*np.mean(x)\n",
    "\n",
    "print(\"The model is: bwght_hat =\", b0, b1, \"* cigs\")"
   ]
  },
  {
   "cell_type": "markdown",
   "id": "cbaf8f46",
   "metadata": {},
   "source": [
    "We can observe that if the number of cigarettes smoked per day while a woman is pregnant increases of a unit, the weight at birth of a child decreases of 0.514 ounces. "
   ]
  },
  {
   "cell_type": "markdown",
   "id": "3756fd78",
   "metadata": {},
   "source": [
    "### What is the predicted value of birthweight when cigs = 0? When cigs = 3?"
   ]
  },
  {
   "cell_type": "code",
   "execution_count": 15,
   "id": "92392c5d",
   "metadata": {},
   "outputs": [
    {
     "name": "stdout",
     "output_type": "stream",
     "text": [
      "When cigs=0, birthweight predicted value is 119.77190039834969\n"
     ]
    }
   ],
   "source": [
    "bwght_hat_0 = b0+b1*0\n",
    "print(\"When cigs=0, birthweight predicted value is\", bwght_hat_0)"
   ]
  },
  {
   "cell_type": "code",
   "execution_count": 16,
   "id": "87209813",
   "metadata": {},
   "outputs": [
    {
     "name": "stdout",
     "output_type": "stream",
     "text": [
      "When cigs=3, birthweight predicted value is 118.23058411987951\n"
     ]
    }
   ],
   "source": [
    "bwght_hat_3 = b0+b1*3\n",
    "print(\"When cigs=3, birthweight predicted value is\", bwght_hat_3)"
   ]
  },
  {
   "cell_type": "markdown",
   "id": "0feec550",
   "metadata": {},
   "source": [
    "### Verify the residuals of this regression sum (approximately) to zero."
   ]
  },
  {
   "cell_type": "code",
   "execution_count": 17,
   "id": "4e492357",
   "metadata": {},
   "outputs": [
    {
     "data": {
      "text/plain": [
       "2.1582479639514282e-14"
      ]
     },
     "execution_count": 17,
     "metadata": {},
     "output_type": "execute_result"
    }
   ],
   "source": [
    "# mean of the residuals\n",
    "result.resid.mean()"
   ]
  },
  {
   "cell_type": "code",
   "execution_count": 18,
   "id": "efb4cd1a",
   "metadata": {},
   "outputs": [
    {
     "data": {
      "text/plain": [
       "0      -10.7719\n",
       "1       13.2281\n",
       "2        9.2281\n",
       "3        6.2281\n",
       "4       14.2281\n",
       "         ...   \n",
       "1383    -9.7719\n",
       "1384    26.2281\n",
       "1385    15.2281\n",
       "1386    -1.7719\n",
       "1387    -8.7719\n",
       "Length: 1388, dtype: float64"
      ]
     },
     "execution_count": 18,
     "metadata": {},
     "output_type": "execute_result"
    }
   ],
   "source": [
    "bwght_hat = b0 + b1*women.cigs\n",
    "u_hat = women.bwght - bwght_hat\n",
    "u_hat"
   ]
  },
  {
   "cell_type": "code",
   "execution_count": 19,
   "id": "96b2fa50",
   "metadata": {},
   "outputs": [
    {
     "data": {
      "text/plain": [
       "5.8548721426632255e-12"
      ]
     },
     "execution_count": 19,
     "metadata": {},
     "output_type": "execute_result"
    }
   ],
   "source": [
    "# sum of the residuals approximately to zero\n",
    "u_hat.sum()"
   ]
  },
  {
   "cell_type": "code",
   "execution_count": 20,
   "id": "d05b6824",
   "metadata": {},
   "outputs": [
    {
     "data": {
      "text/plain": [
       "2.2112089936854318e-11"
      ]
     },
     "execution_count": 20,
     "metadata": {},
     "output_type": "execute_result"
    }
   ],
   "source": [
    "result.resid.sum()"
   ]
  },
  {
   "cell_type": "code",
   "execution_count": 21,
   "id": "6c508bab",
   "metadata": {},
   "outputs": [
    {
     "data": {
      "text/plain": [
       "0      -10.7719\n",
       "1       13.2281\n",
       "2        9.2281\n",
       "3        6.2281\n",
       "4       14.2281\n",
       "         ...   \n",
       "1383    -9.7719\n",
       "1384    26.2281\n",
       "1385    15.2281\n",
       "1386    -1.7719\n",
       "1387    -8.7719\n",
       "Length: 1388, dtype: float64"
      ]
     },
     "execution_count": 21,
     "metadata": {},
     "output_type": "execute_result"
    }
   ],
   "source": [
    "result.resid"
   ]
  },
  {
   "cell_type": "markdown",
   "id": "99a9e0cd",
   "metadata": {},
   "source": [
    "Despite we receive two different values - due to approximation - when using the manual method, the sum approximate to 0."
   ]
  },
  {
   "cell_type": "markdown",
   "id": "2a37c9a5",
   "metadata": {},
   "source": [
    "### Using a scatter plot, show the observed values against the values predicted by a regression."
   ]
  },
  {
   "cell_type": "code",
   "execution_count": 22,
   "id": "e008da5d",
   "metadata": {},
   "outputs": [
    {
     "data": {
      "image/png": "[encoded data removed]",
      "text/plain": [
       "<Figure size 432x288 with 1 Axes>"
      ]
     },
     "metadata": {
      "needs_background": "light"
     },
     "output_type": "display_data"
    }
   ],
   "source": [
    "plt.scatter(women.cigs, women.bwght)\n",
    "plt.plot(women.cigs, result.fittedvalues, color = \"red\")\n",
    "plt.title(\"Analysis on birthweight and cigaretted smoked per day\")\n",
    "plt.ylabel(\"Birthweight in ounces\")\n",
    "plt.xlabel(\"Cigarettes per day\")\n",
    "plt.grid()"
   ]
  }
 ],
 "metadata": {
  "kernelspec": {
   "display_name": "Python 3 (ipykernel)",
   "language": "python",
   "name": "python3"
  },
  "language_info": {
   "codemirror_mode": {
    "name": "ipython",
    "version": 3
   },
   "file_extension": ".py",
   "mimetype": "text/x-python",
   "name": "python",
   "nbconvert_exporter": "python",
   "pygments_lexer": "ipython3",
   "version": "3.9.12"
  }
 },
 "nbformat": 4,
 "nbformat_minor": 5
}
