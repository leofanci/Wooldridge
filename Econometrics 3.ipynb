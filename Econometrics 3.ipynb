{
 "cells": [
  {
   "cell_type": "markdown",
   "id": "3133dccb",
   "metadata": {},
   "source": [
    "# 3"
   ]
  },
  {
   "cell_type": "code",
   "execution_count": 1,
   "id": "cfd6d656",
   "metadata": {},
   "outputs": [],
   "source": [
    "import pandas as pd\n",
    "import numpy as np\n",
    "import wooldridge as woo\n",
    "import matplotlib.pyplot as plt\n",
    "import seaborn as sns\n",
    "import scipy.stats as stats\n",
    "import statsmodels.formula.api as smf\n",
    "import statsmodels.stats.api as sms\n",
    "from simple_colors import *\n",
    "from RegscorePy import mallow\n",
    "from sklearn.model_selection import KFold\n",
    "import warnings \n",
    "warnings.filterwarnings('ignore')"
   ]
  },
  {
   "cell_type": "markdown",
   "id": "156ccffe",
   "metadata": {},
   "source": [
    "## PART 1"
   ]
  },
  {
   "cell_type": "markdown",
   "id": "07896467",
   "metadata": {},
   "source": [
    "### Use the WAGE1 dataset from the Wooldridge python module to answer the following question. Import this data into your notebook."
   ]
  },
  {
   "cell_type": "code",
   "execution_count": 2,
   "id": "e75ec4ac",
   "metadata": {},
   "outputs": [
    {
     "data": {
      "text/html": [
       "<div>\n",
       "<style scoped>\n",
       "    .dataframe tbody tr th:only-of-type {\n",
       "        vertical-align: middle;\n",
       "    }\n",
       "\n",
       "    .dataframe tbody tr th {\n",
       "        vertical-align: top;\n",
       "    }\n",
       "\n",
       "    .dataframe thead th {\n",
       "        text-align: right;\n",
       "    }\n",
       "</style>\n",
       "<table border=\"1\" class=\"dataframe\">\n",
       "  <thead>\n",
       "    <tr style=\"text-align: right;\">\n",
       "      <th></th>\n",
       "      <th>wage</th>\n",
       "      <th>educ</th>\n",
       "      <th>exper</th>\n",
       "      <th>tenure</th>\n",
       "      <th>nonwhite</th>\n",
       "      <th>female</th>\n",
       "      <th>married</th>\n",
       "      <th>numdep</th>\n",
       "      <th>smsa</th>\n",
       "      <th>northcen</th>\n",
       "      <th>...</th>\n",
       "      <th>trcommpu</th>\n",
       "      <th>trade</th>\n",
       "      <th>services</th>\n",
       "      <th>profserv</th>\n",
       "      <th>profocc</th>\n",
       "      <th>clerocc</th>\n",
       "      <th>servocc</th>\n",
       "      <th>lwage</th>\n",
       "      <th>expersq</th>\n",
       "      <th>tenursq</th>\n",
       "    </tr>\n",
       "  </thead>\n",
       "  <tbody>\n",
       "    <tr>\n",
       "      <th>0</th>\n",
       "      <td>3.10</td>\n",
       "      <td>11</td>\n",
       "      <td>2</td>\n",
       "      <td>0</td>\n",
       "      <td>0</td>\n",
       "      <td>1</td>\n",
       "      <td>0</td>\n",
       "      <td>2</td>\n",
       "      <td>1</td>\n",
       "      <td>0</td>\n",
       "      <td>...</td>\n",
       "      <td>0</td>\n",
       "      <td>0</td>\n",
       "      <td>0</td>\n",
       "      <td>0</td>\n",
       "      <td>0</td>\n",
       "      <td>0</td>\n",
       "      <td>0</td>\n",
       "      <td>1.131402</td>\n",
       "      <td>4</td>\n",
       "      <td>0</td>\n",
       "    </tr>\n",
       "    <tr>\n",
       "      <th>1</th>\n",
       "      <td>3.24</td>\n",
       "      <td>12</td>\n",
       "      <td>22</td>\n",
       "      <td>2</td>\n",
       "      <td>0</td>\n",
       "      <td>1</td>\n",
       "      <td>1</td>\n",
       "      <td>3</td>\n",
       "      <td>1</td>\n",
       "      <td>0</td>\n",
       "      <td>...</td>\n",
       "      <td>0</td>\n",
       "      <td>0</td>\n",
       "      <td>1</td>\n",
       "      <td>0</td>\n",
       "      <td>0</td>\n",
       "      <td>0</td>\n",
       "      <td>1</td>\n",
       "      <td>1.175573</td>\n",
       "      <td>484</td>\n",
       "      <td>4</td>\n",
       "    </tr>\n",
       "    <tr>\n",
       "      <th>2</th>\n",
       "      <td>3.00</td>\n",
       "      <td>11</td>\n",
       "      <td>2</td>\n",
       "      <td>0</td>\n",
       "      <td>0</td>\n",
       "      <td>0</td>\n",
       "      <td>0</td>\n",
       "      <td>2</td>\n",
       "      <td>0</td>\n",
       "      <td>0</td>\n",
       "      <td>...</td>\n",
       "      <td>0</td>\n",
       "      <td>1</td>\n",
       "      <td>0</td>\n",
       "      <td>0</td>\n",
       "      <td>0</td>\n",
       "      <td>0</td>\n",
       "      <td>0</td>\n",
       "      <td>1.098612</td>\n",
       "      <td>4</td>\n",
       "      <td>0</td>\n",
       "    </tr>\n",
       "    <tr>\n",
       "      <th>3</th>\n",
       "      <td>6.00</td>\n",
       "      <td>8</td>\n",
       "      <td>44</td>\n",
       "      <td>28</td>\n",
       "      <td>0</td>\n",
       "      <td>0</td>\n",
       "      <td>1</td>\n",
       "      <td>0</td>\n",
       "      <td>1</td>\n",
       "      <td>0</td>\n",
       "      <td>...</td>\n",
       "      <td>0</td>\n",
       "      <td>0</td>\n",
       "      <td>0</td>\n",
       "      <td>0</td>\n",
       "      <td>0</td>\n",
       "      <td>1</td>\n",
       "      <td>0</td>\n",
       "      <td>1.791759</td>\n",
       "      <td>1936</td>\n",
       "      <td>784</td>\n",
       "    </tr>\n",
       "    <tr>\n",
       "      <th>4</th>\n",
       "      <td>5.30</td>\n",
       "      <td>12</td>\n",
       "      <td>7</td>\n",
       "      <td>2</td>\n",
       "      <td>0</td>\n",
       "      <td>0</td>\n",
       "      <td>1</td>\n",
       "      <td>1</td>\n",
       "      <td>0</td>\n",
       "      <td>0</td>\n",
       "      <td>...</td>\n",
       "      <td>0</td>\n",
       "      <td>0</td>\n",
       "      <td>0</td>\n",
       "      <td>0</td>\n",
       "      <td>0</td>\n",
       "      <td>0</td>\n",
       "      <td>0</td>\n",
       "      <td>1.667707</td>\n",
       "      <td>49</td>\n",
       "      <td>4</td>\n",
       "    </tr>\n",
       "  </tbody>\n",
       "</table>\n",
       "<p>5 rows × 24 columns</p>\n",
       "</div>"
      ],
      "text/plain": [
       "   wage  educ  exper  tenure  nonwhite  female  married  numdep  smsa  \\\n",
       "0  3.10    11      2       0         0       1        0       2     1   \n",
       "1  3.24    12     22       2         0       1        1       3     1   \n",
       "2  3.00    11      2       0         0       0        0       2     0   \n",
       "3  6.00     8     44      28         0       0        1       0     1   \n",
       "4  5.30    12      7       2         0       0        1       1     0   \n",
       "\n",
       "   northcen  ...  trcommpu  trade  services  profserv  profocc  clerocc  \\\n",
       "0         0  ...         0      0         0         0        0        0   \n",
       "1         0  ...         0      0         1         0        0        0   \n",
       "2         0  ...         0      1         0         0        0        0   \n",
       "3         0  ...         0      0         0         0        0        1   \n",
       "4         0  ...         0      0         0         0        0        0   \n",
       "\n",
       "   servocc     lwage  expersq  tenursq  \n",
       "0        0  1.131402        4        0  \n",
       "1        1  1.175573      484        4  \n",
       "2        0  1.098612        4        0  \n",
       "3        0  1.791759     1936      784  \n",
       "4        0  1.667707       49        4  \n",
       "\n",
       "[5 rows x 24 columns]"
      ]
     },
     "execution_count": 2,
     "metadata": {},
     "output_type": "execute_result"
    }
   ],
   "source": [
    "wage = woo.data(\"wage1\")\n",
    "wage.head()"
   ]
  },
  {
   "cell_type": "markdown",
   "id": "fea648a2",
   "metadata": {},
   "source": [
    "### Consider the following model: \n",
    "### log(wage) = β0 + β1educ + β2exper + β3tenure + β4female + β5married + β6numdep\n",
    "### are the residuals from this regression normally distributed? Use a statistical test to support your conclusion."
   ]
  },
  {
   "cell_type": "code",
   "execution_count": 3,
   "id": "1ff9cd8c",
   "metadata": {},
   "outputs": [
    {
     "data": {
      "text/html": [
       "<table class=\"simpletable\">\n",
       "<caption>OLS Regression Results</caption>\n",
       "<tr>\n",
       "  <th>Dep. Variable:</th>      <td>np.log(wage)</td>   <th>  R-squared:         </th> <td>   0.404</td>\n",
       "</tr>\n",
       "<tr>\n",
       "  <th>Model:</th>                   <td>OLS</td>       <th>  Adj. R-squared:    </th> <td>   0.397</td>\n",
       "</tr>\n",
       "<tr>\n",
       "  <th>Method:</th>             <td>Least Squares</td>  <th>  F-statistic:       </th> <td>   58.54</td>\n",
       "</tr>\n",
       "<tr>\n",
       "  <th>Date:</th>             <td>Sun, 30 Oct 2022</td> <th>  Prob (F-statistic):</th> <td>3.15e-55</td>\n",
       "</tr>\n",
       "<tr>\n",
       "  <th>Time:</th>                 <td>20:22:52</td>     <th>  Log-Likelihood:    </th> <td> -277.50</td>\n",
       "</tr>\n",
       "<tr>\n",
       "  <th>No. Observations:</th>      <td>   526</td>      <th>  AIC:               </th> <td>   569.0</td>\n",
       "</tr>\n",
       "<tr>\n",
       "  <th>Df Residuals:</th>          <td>   519</td>      <th>  BIC:               </th> <td>   598.9</td>\n",
       "</tr>\n",
       "<tr>\n",
       "  <th>Df Model:</th>              <td>     6</td>      <th>                     </th>     <td> </td>   \n",
       "</tr>\n",
       "<tr>\n",
       "  <th>Covariance Type:</th>      <td>nonrobust</td>    <th>                     </th>     <td> </td>   \n",
       "</tr>\n",
       "</table>\n",
       "<table class=\"simpletable\">\n",
       "<tr>\n",
       "      <td></td>         <th>coef</th>     <th>std err</th>      <th>t</th>      <th>P>|t|</th>  <th>[0.025</th>    <th>0.975]</th>  \n",
       "</tr>\n",
       "<tr>\n",
       "  <th>Intercept</th> <td>    0.4894</td> <td>    0.109</td> <td>    4.492</td> <td> 0.000</td> <td>    0.275</td> <td>    0.703</td>\n",
       "</tr>\n",
       "<tr>\n",
       "  <th>educ</th>      <td>    0.0839</td> <td>    0.007</td> <td>   11.534</td> <td> 0.000</td> <td>    0.070</td> <td>    0.098</td>\n",
       "</tr>\n",
       "<tr>\n",
       "  <th>exper</th>     <td>    0.0031</td> <td>    0.002</td> <td>    1.830</td> <td> 0.068</td> <td>   -0.000</td> <td>    0.007</td>\n",
       "</tr>\n",
       "<tr>\n",
       "  <th>tenure</th>    <td>    0.0169</td> <td>    0.003</td> <td>    5.700</td> <td> 0.000</td> <td>    0.011</td> <td>    0.023</td>\n",
       "</tr>\n",
       "<tr>\n",
       "  <th>female</th>    <td>   -0.2856</td> <td>    0.037</td> <td>   -7.648</td> <td> 0.000</td> <td>   -0.359</td> <td>   -0.212</td>\n",
       "</tr>\n",
       "<tr>\n",
       "  <th>married</th>   <td>    0.1256</td> <td>    0.041</td> <td>    3.046</td> <td> 0.002</td> <td>    0.045</td> <td>    0.207</td>\n",
       "</tr>\n",
       "<tr>\n",
       "  <th>numdep</th>    <td>    0.0003</td> <td>    0.015</td> <td>    0.018</td> <td> 0.986</td> <td>   -0.030</td> <td>    0.030</td>\n",
       "</tr>\n",
       "</table>\n",
       "<table class=\"simpletable\">\n",
       "<tr>\n",
       "  <th>Omnibus:</th>       <td>11.872</td> <th>  Durbin-Watson:     </th> <td>   1.785</td>\n",
       "</tr>\n",
       "<tr>\n",
       "  <th>Prob(Omnibus):</th> <td> 0.003</td> <th>  Jarque-Bera (JB):  </th> <td>  21.133</td>\n",
       "</tr>\n",
       "<tr>\n",
       "  <th>Skew:</th>          <td> 0.071</td> <th>  Prob(JB):          </th> <td>2.58e-05</td>\n",
       "</tr>\n",
       "<tr>\n",
       "  <th>Kurtosis:</th>      <td> 3.972</td> <th>  Cond. No.          </th> <td>    151.</td>\n",
       "</tr>\n",
       "</table><br/><br/>Notes:<br/>[1] Standard Errors assume that the covariance matrix of the errors is correctly specified."
      ],
      "text/plain": [
       "<class 'statsmodels.iolib.summary.Summary'>\n",
       "\"\"\"\n",
       "                            OLS Regression Results                            \n",
       "==============================================================================\n",
       "Dep. Variable:           np.log(wage)   R-squared:                       0.404\n",
       "Model:                            OLS   Adj. R-squared:                  0.397\n",
       "Method:                 Least Squares   F-statistic:                     58.54\n",
       "Date:                Sun, 30 Oct 2022   Prob (F-statistic):           3.15e-55\n",
       "Time:                        20:22:52   Log-Likelihood:                -277.50\n",
       "No. Observations:                 526   AIC:                             569.0\n",
       "Df Residuals:                     519   BIC:                             598.9\n",
       "Df Model:                           6                                         \n",
       "Covariance Type:            nonrobust                                         \n",
       "==============================================================================\n",
       "                 coef    std err          t      P>|t|      [0.025      0.975]\n",
       "------------------------------------------------------------------------------\n",
       "Intercept      0.4894      0.109      4.492      0.000       0.275       0.703\n",
       "educ           0.0839      0.007     11.534      0.000       0.070       0.098\n",
       "exper          0.0031      0.002      1.830      0.068      -0.000       0.007\n",
       "tenure         0.0169      0.003      5.700      0.000       0.011       0.023\n",
       "female        -0.2856      0.037     -7.648      0.000      -0.359      -0.212\n",
       "married        0.1256      0.041      3.046      0.002       0.045       0.207\n",
       "numdep         0.0003      0.015      0.018      0.986      -0.030       0.030\n",
       "==============================================================================\n",
       "Omnibus:                       11.872   Durbin-Watson:                   1.785\n",
       "Prob(Omnibus):                  0.003   Jarque-Bera (JB):               21.133\n",
       "Skew:                           0.071   Prob(JB):                     2.58e-05\n",
       "Kurtosis:                       3.972   Cond. No.                         151.\n",
       "==============================================================================\n",
       "\n",
       "Notes:\n",
       "[1] Standard Errors assume that the covariance matrix of the errors is correctly specified.\n",
       "\"\"\""
      ]
     },
     "execution_count": 3,
     "metadata": {},
     "output_type": "execute_result"
    }
   ],
   "source": [
    "wreg = smf.ols('np.log(wage) ~ educ + exper + tenure + female + married + numdep', data=wage)\n",
    "wresult = wreg.fit()\n",
    "wresult.summary()"
   ]
  },
  {
   "cell_type": "code",
   "execution_count": 4,
   "id": "584d0313",
   "metadata": {},
   "outputs": [
    {
     "data": {
      "text/plain": [
       "Jarque_beraResult(statistic=21.133269206920836, pvalue=2.576136668841489e-05)"
      ]
     },
     "execution_count": 4,
     "metadata": {},
     "output_type": "execute_result"
    }
   ],
   "source": [
    "stats.jarque_bera(wresult.resid)"
   ]
  },
  {
   "cell_type": "markdown",
   "id": "40b9e5ac",
   "metadata": {},
   "source": [
    "We reject $ H_{0} $, the residuals are not normally distributed."
   ]
  },
  {
   "cell_type": "markdown",
   "id": "c5dca53b",
   "metadata": {},
   "source": [
    "### On a single plot show the fitted values, observed values, prediction interval, and confidence interval from the regression in part (a). Use exper as the variable on the x-axis. (Hint: A range of x-values needs to be included in a dataframe for each dependent variable used in the regression. This new data is used in get prediction)."
   ]
  },
  {
   "cell_type": "code",
   "execution_count": 5,
   "id": "7e56659b",
   "metadata": {},
   "outputs": [],
   "source": [
    "xrange = np.linspace(wage.educ.min(), wage.educ.max(), 500)\n",
    "xrange1 = np.linspace(wage.exper.min(), wage.exper.max(), 500)\n",
    "xrange2 = np.linspace(wage.tenure.min(), wage.tenure.max(), 500)\n",
    "xrange3 = np.linspace(wage.female.min(), wage.female.max(), 500)\n",
    "xrange4 = np.linspace(wage.married.min(), wage.married.max(), 500)\n",
    "xrange5 = np.linspace(wage.numdep.min(), wage.numdep.max(), 500)\n",
    "\n",
    "new_wage = pd.DataFrame(xrange, columns = [\"educ\"])\n",
    "new_wage1 = pd.DataFrame(xrange1, columns = [\"exper\"])\n",
    "new_wage2 = pd.DataFrame(xrange2, columns = [\"tenure\"])\n",
    "new_wage3 = pd.DataFrame(xrange3, columns = [\"female\"])\n",
    "new_wage4 = pd.DataFrame(xrange4, columns = [\"married\"])\n",
    "new_wage5 = pd.DataFrame(xrange5, columns = [\"numdep\"])"
   ]
  },
  {
   "cell_type": "code",
   "execution_count": 6,
   "id": "b3a543bd",
   "metadata": {},
   "outputs": [
    {
     "data": {
      "text/html": [
       "<div>\n",
       "<style scoped>\n",
       "    .dataframe tbody tr th:only-of-type {\n",
       "        vertical-align: middle;\n",
       "    }\n",
       "\n",
       "    .dataframe tbody tr th {\n",
       "        vertical-align: top;\n",
       "    }\n",
       "\n",
       "    .dataframe thead th {\n",
       "        text-align: right;\n",
       "    }\n",
       "</style>\n",
       "<table border=\"1\" class=\"dataframe\">\n",
       "  <thead>\n",
       "    <tr style=\"text-align: right;\">\n",
       "      <th></th>\n",
       "      <th>exper</th>\n",
       "      <th>educ</th>\n",
       "      <th>tenure</th>\n",
       "      <th>female</th>\n",
       "      <th>married</th>\n",
       "      <th>numdep</th>\n",
       "    </tr>\n",
       "  </thead>\n",
       "  <tbody>\n",
       "    <tr>\n",
       "      <th>0</th>\n",
       "      <td>1.000000</td>\n",
       "      <td>0.000000</td>\n",
       "      <td>0.000000</td>\n",
       "      <td>0.000000</td>\n",
       "      <td>0.000000</td>\n",
       "      <td>0.000000</td>\n",
       "    </tr>\n",
       "    <tr>\n",
       "      <th>1</th>\n",
       "      <td>1.100200</td>\n",
       "      <td>0.036072</td>\n",
       "      <td>0.088176</td>\n",
       "      <td>0.002004</td>\n",
       "      <td>0.002004</td>\n",
       "      <td>0.012024</td>\n",
       "    </tr>\n",
       "    <tr>\n",
       "      <th>2</th>\n",
       "      <td>1.200401</td>\n",
       "      <td>0.072144</td>\n",
       "      <td>0.176353</td>\n",
       "      <td>0.004008</td>\n",
       "      <td>0.004008</td>\n",
       "      <td>0.024048</td>\n",
       "    </tr>\n",
       "    <tr>\n",
       "      <th>3</th>\n",
       "      <td>1.300601</td>\n",
       "      <td>0.108216</td>\n",
       "      <td>0.264529</td>\n",
       "      <td>0.006012</td>\n",
       "      <td>0.006012</td>\n",
       "      <td>0.036072</td>\n",
       "    </tr>\n",
       "    <tr>\n",
       "      <th>4</th>\n",
       "      <td>1.400802</td>\n",
       "      <td>0.144289</td>\n",
       "      <td>0.352705</td>\n",
       "      <td>0.008016</td>\n",
       "      <td>0.008016</td>\n",
       "      <td>0.048096</td>\n",
       "    </tr>\n",
       "    <tr>\n",
       "      <th>...</th>\n",
       "      <td>...</td>\n",
       "      <td>...</td>\n",
       "      <td>...</td>\n",
       "      <td>...</td>\n",
       "      <td>...</td>\n",
       "      <td>...</td>\n",
       "    </tr>\n",
       "    <tr>\n",
       "      <th>495</th>\n",
       "      <td>50.599198</td>\n",
       "      <td>17.855711</td>\n",
       "      <td>43.647295</td>\n",
       "      <td>0.991984</td>\n",
       "      <td>0.991984</td>\n",
       "      <td>5.951904</td>\n",
       "    </tr>\n",
       "    <tr>\n",
       "      <th>496</th>\n",
       "      <td>50.699399</td>\n",
       "      <td>17.891784</td>\n",
       "      <td>43.735471</td>\n",
       "      <td>0.993988</td>\n",
       "      <td>0.993988</td>\n",
       "      <td>5.963928</td>\n",
       "    </tr>\n",
       "    <tr>\n",
       "      <th>497</th>\n",
       "      <td>50.799599</td>\n",
       "      <td>17.927856</td>\n",
       "      <td>43.823647</td>\n",
       "      <td>0.995992</td>\n",
       "      <td>0.995992</td>\n",
       "      <td>5.975952</td>\n",
       "    </tr>\n",
       "    <tr>\n",
       "      <th>498</th>\n",
       "      <td>50.899800</td>\n",
       "      <td>17.963928</td>\n",
       "      <td>43.911824</td>\n",
       "      <td>0.997996</td>\n",
       "      <td>0.997996</td>\n",
       "      <td>5.987976</td>\n",
       "    </tr>\n",
       "    <tr>\n",
       "      <th>499</th>\n",
       "      <td>51.000000</td>\n",
       "      <td>18.000000</td>\n",
       "      <td>44.000000</td>\n",
       "      <td>1.000000</td>\n",
       "      <td>1.000000</td>\n",
       "      <td>6.000000</td>\n",
       "    </tr>\n",
       "  </tbody>\n",
       "</table>\n",
       "<p>500 rows × 6 columns</p>\n",
       "</div>"
      ],
      "text/plain": [
       "         exper       educ     tenure    female   married    numdep\n",
       "0     1.000000   0.000000   0.000000  0.000000  0.000000  0.000000\n",
       "1     1.100200   0.036072   0.088176  0.002004  0.002004  0.012024\n",
       "2     1.200401   0.072144   0.176353  0.004008  0.004008  0.024048\n",
       "3     1.300601   0.108216   0.264529  0.006012  0.006012  0.036072\n",
       "4     1.400802   0.144289   0.352705  0.008016  0.008016  0.048096\n",
       "..         ...        ...        ...       ...       ...       ...\n",
       "495  50.599198  17.855711  43.647295  0.991984  0.991984  5.951904\n",
       "496  50.699399  17.891784  43.735471  0.993988  0.993988  5.963928\n",
       "497  50.799599  17.927856  43.823647  0.995992  0.995992  5.975952\n",
       "498  50.899800  17.963928  43.911824  0.997996  0.997996  5.987976\n",
       "499  51.000000  18.000000  44.000000  1.000000  1.000000  6.000000\n",
       "\n",
       "[500 rows x 6 columns]"
      ]
     },
     "execution_count": 6,
     "metadata": {},
     "output_type": "execute_result"
    }
   ],
   "source": [
    "xrange = pd.DataFrame(new_wage1, columns = [\"exper\"])\n",
    "xrange[\"educ\"] = new_wage\n",
    "xrange[\"tenure\"] = new_wage2\n",
    "xrange[\"female\"] = new_wage3\n",
    "xrange[\"married\"] = new_wage4\n",
    "xrange[\"numdep\"] = new_wage5\n",
    "xrange"
   ]
  },
  {
   "cell_type": "code",
   "execution_count": 7,
   "id": "127ceb32",
   "metadata": {},
   "outputs": [
    {
     "data": {
      "text/html": [
       "<div>\n",
       "<style scoped>\n",
       "    .dataframe tbody tr th:only-of-type {\n",
       "        vertical-align: middle;\n",
       "    }\n",
       "\n",
       "    .dataframe tbody tr th {\n",
       "        vertical-align: top;\n",
       "    }\n",
       "\n",
       "    .dataframe thead th {\n",
       "        text-align: right;\n",
       "    }\n",
       "</style>\n",
       "<table border=\"1\" class=\"dataframe\">\n",
       "  <thead>\n",
       "    <tr style=\"text-align: right;\">\n",
       "      <th></th>\n",
       "      <th>exper</th>\n",
       "      <th>educ</th>\n",
       "      <th>tenure</th>\n",
       "      <th>female</th>\n",
       "      <th>married</th>\n",
       "      <th>numdep</th>\n",
       "    </tr>\n",
       "  </thead>\n",
       "  <tbody>\n",
       "    <tr>\n",
       "      <th>0</th>\n",
       "      <td>1.000000</td>\n",
       "      <td>0.000000</td>\n",
       "      <td>0.000000</td>\n",
       "      <td>0.000000</td>\n",
       "      <td>0.000000</td>\n",
       "      <td>0.000000</td>\n",
       "    </tr>\n",
       "    <tr>\n",
       "      <th>1</th>\n",
       "      <td>1.100200</td>\n",
       "      <td>0.036072</td>\n",
       "      <td>0.088176</td>\n",
       "      <td>0.002004</td>\n",
       "      <td>0.002004</td>\n",
       "      <td>0.012024</td>\n",
       "    </tr>\n",
       "    <tr>\n",
       "      <th>2</th>\n",
       "      <td>1.200401</td>\n",
       "      <td>0.072144</td>\n",
       "      <td>0.176353</td>\n",
       "      <td>0.004008</td>\n",
       "      <td>0.004008</td>\n",
       "      <td>0.024048</td>\n",
       "    </tr>\n",
       "    <tr>\n",
       "      <th>3</th>\n",
       "      <td>1.300601</td>\n",
       "      <td>0.108216</td>\n",
       "      <td>0.264529</td>\n",
       "      <td>0.006012</td>\n",
       "      <td>0.006012</td>\n",
       "      <td>0.036072</td>\n",
       "    </tr>\n",
       "    <tr>\n",
       "      <th>4</th>\n",
       "      <td>1.400802</td>\n",
       "      <td>0.144289</td>\n",
       "      <td>0.352705</td>\n",
       "      <td>0.008016</td>\n",
       "      <td>0.008016</td>\n",
       "      <td>0.048096</td>\n",
       "    </tr>\n",
       "  </tbody>\n",
       "</table>\n",
       "</div>"
      ],
      "text/plain": [
       "      exper      educ    tenure    female   married    numdep\n",
       "0  1.000000  0.000000  0.000000  0.000000  0.000000  0.000000\n",
       "1  1.100200  0.036072  0.088176  0.002004  0.002004  0.012024\n",
       "2  1.200401  0.072144  0.176353  0.004008  0.004008  0.024048\n",
       "3  1.300601  0.108216  0.264529  0.006012  0.006012  0.036072\n",
       "4  1.400802  0.144289  0.352705  0.008016  0.008016  0.048096"
      ]
     },
     "execution_count": 7,
     "metadata": {},
     "output_type": "execute_result"
    }
   ],
   "source": [
    "xrange = pd.DataFrame(xrange, columns = ['exper','educ','tenure', 'female', 'married', 'numdep'])\n",
    "xrange.head()"
   ]
  },
  {
   "cell_type": "code",
   "execution_count": 8,
   "id": "6fcae668",
   "metadata": {},
   "outputs": [
    {
     "data": {
      "text/html": [
       "<div>\n",
       "<style scoped>\n",
       "    .dataframe tbody tr th:only-of-type {\n",
       "        vertical-align: middle;\n",
       "    }\n",
       "\n",
       "    .dataframe tbody tr th {\n",
       "        vertical-align: top;\n",
       "    }\n",
       "\n",
       "    .dataframe thead th {\n",
       "        text-align: right;\n",
       "    }\n",
       "</style>\n",
       "<table border=\"1\" class=\"dataframe\">\n",
       "  <thead>\n",
       "    <tr style=\"text-align: right;\">\n",
       "      <th></th>\n",
       "      <th>mean</th>\n",
       "      <th>mean_se</th>\n",
       "      <th>mean_ci_lower</th>\n",
       "      <th>mean_ci_upper</th>\n",
       "      <th>obs_ci_lower</th>\n",
       "      <th>obs_ci_upper</th>\n",
       "    </tr>\n",
       "  </thead>\n",
       "  <tbody>\n",
       "    <tr>\n",
       "      <th>0</th>\n",
       "      <td>0.492490</td>\n",
       "      <td>0.108152</td>\n",
       "      <td>0.280019</td>\n",
       "      <td>0.704960</td>\n",
       "      <td>-0.345946</td>\n",
       "      <td>1.330926</td>\n",
       "    </tr>\n",
       "    <tr>\n",
       "      <th>1</th>\n",
       "      <td>0.497002</td>\n",
       "      <td>0.107761</td>\n",
       "      <td>0.285301</td>\n",
       "      <td>0.708704</td>\n",
       "      <td>-0.341239</td>\n",
       "      <td>1.335243</td>\n",
       "    </tr>\n",
       "    <tr>\n",
       "      <th>2</th>\n",
       "      <td>0.501514</td>\n",
       "      <td>0.107370</td>\n",
       "      <td>0.290581</td>\n",
       "      <td>0.712448</td>\n",
       "      <td>-0.336533</td>\n",
       "      <td>1.339562</td>\n",
       "    </tr>\n",
       "    <tr>\n",
       "      <th>3</th>\n",
       "      <td>0.506027</td>\n",
       "      <td>0.106980</td>\n",
       "      <td>0.295860</td>\n",
       "      <td>0.716193</td>\n",
       "      <td>-0.331828</td>\n",
       "      <td>1.343882</td>\n",
       "    </tr>\n",
       "    <tr>\n",
       "      <th>4</th>\n",
       "      <td>0.510539</td>\n",
       "      <td>0.106590</td>\n",
       "      <td>0.301139</td>\n",
       "      <td>0.719940</td>\n",
       "      <td>-0.327124</td>\n",
       "      <td>1.348202</td>\n",
       "    </tr>\n",
       "  </tbody>\n",
       "</table>\n",
       "</div>"
      ],
      "text/plain": [
       "       mean   mean_se  mean_ci_lower  mean_ci_upper  obs_ci_lower  \\\n",
       "0  0.492490  0.108152       0.280019       0.704960     -0.345946   \n",
       "1  0.497002  0.107761       0.285301       0.708704     -0.341239   \n",
       "2  0.501514  0.107370       0.290581       0.712448     -0.336533   \n",
       "3  0.506027  0.106980       0.295860       0.716193     -0.331828   \n",
       "4  0.510539  0.106590       0.301139       0.719940     -0.327124   \n",
       "\n",
       "   obs_ci_upper  \n",
       "0      1.330926  \n",
       "1      1.335243  \n",
       "2      1.339562  \n",
       "3      1.343882  \n",
       "4      1.348202  "
      ]
     },
     "execution_count": 8,
     "metadata": {},
     "output_type": "execute_result"
    }
   ],
   "source": [
    "prediction = wresult.get_prediction(xrange)\n",
    "prediction = prediction.summary_frame(alpha=0.05)\n",
    "prediction.head()"
   ]
  },
  {
   "cell_type": "code",
   "execution_count": 9,
   "id": "268fdc1d",
   "metadata": {},
   "outputs": [
    {
     "data": {
      "text/plain": [
       "<matplotlib.legend.Legend at 0x1b52d472e20>"
      ]
     },
     "execution_count": 9,
     "metadata": {},
     "output_type": "execute_result"
    },
    {
     "data": {
      "image/png": "[encoded data removed]",
      "text/plain": [
       "<Figure size 1080x432 with 1 Axes>"
      ]
     },
     "metadata": {
      "needs_background": "light"
     },
     "output_type": "display_data"
    }
   ],
   "source": [
    "plt.figure(figsize = (15, 6))\n",
    "plt.scatter(wage.exper, np.log(wage.wage))\n",
    "plt.plot(xrange[\"exper\"], prediction[\"mean\"], color = \"black\")\n",
    "\n",
    "plt.xlabel(\"Experience\")\n",
    "plt.ylabel(\"Log-Wage\")\n",
    "\n",
    "plt.plot(xrange[\"exper\"], prediction[\"mean_ci_lower\"], color = \"orange\", linestyle = '--')\n",
    "plt.plot(xrange[\"exper\"], prediction[\"mean_ci_upper\"], color = \"orange\", linestyle = '--')\n",
    "\n",
    "# prediction Intervals\n",
    "plt.plot(xrange[\"exper\"], prediction[\"obs_ci_lower\"], color = \"red\", linestyle = '--')\n",
    "plt.plot(xrange[\"exper\"], prediction[\"obs_ci_upper\"], color = \"red\", linestyle = '--')\n",
    "\n",
    "plt.legend([\"Observations\", \"Fitted\", \"Lower CI\", \"Upper CI\",\"Lower PI\", \"Upper PI\"])"
   ]
  },
  {
   "cell_type": "markdown",
   "id": "d19d07da",
   "metadata": {},
   "source": [
    "### Generate bootstrap standard errors, and a 95% confidence interval for β2 from the regression in part (a). You may use any of the methods shown in class to generate the bootstrap CI. Based on this confidence interval, determine whether β2 is different from 0."
   ]
  },
  {
   "cell_type": "code",
   "execution_count": 10,
   "id": "57109a1d",
   "metadata": {},
   "outputs": [],
   "source": [
    "coefs = pd.DataFrame(columns = [\"B2\"])\n",
    "\n",
    "for i in range(1000):\n",
    "      \n",
    "    sample = wage.sample(wage.shape[0] ,replace = True)\n",
    "    \n",
    "    w_result = smf.ols('np.log(wage) ~ educ + exper + tenure + female + married + numdep', sample).fit()\n",
    "\n",
    "    b2 = w_result.params[2]\n",
    "    \n",
    "    coefs = coefs.append({\"B2\":b2}, ignore_index = True)\n",
    "\n",
    "b2_u = coefs.B2.quantile(.975)\n",
    "\n",
    "b2_l = coefs.B2.quantile(.025)"
   ]
  },
  {
   "cell_type": "code",
   "execution_count": 11,
   "id": "33af8a4d",
   "metadata": {},
   "outputs": [
    {
     "data": {
      "text/plain": [
       "<matplotlib.lines.Line2D at 0x1b527eb48b0>"
      ]
     },
     "execution_count": 11,
     "metadata": {},
     "output_type": "execute_result"
    },
    {
     "data": {
      "image/png": "[encoded data removed]",
      "text/plain": [
       "<Figure size 432x288 with 1 Axes>"
      ]
     },
     "metadata": {
      "needs_background": "light"
     },
     "output_type": "display_data"
    }
   ],
   "source": [
    "coefs.B2.hist()\n",
    "plt.xlabel(\"Bootstrap Intercepts\")\n",
    "plt.ylabel(\"Frequency\")\n",
    "plt.axvline(b2_u, color = \"red\")\n",
    "plt.axvline(b2_l, color = \"red\")"
   ]
  },
  {
   "cell_type": "code",
   "execution_count": 12,
   "id": "bd802dd6",
   "metadata": {},
   "outputs": [
    {
     "name": "stdout",
     "output_type": "stream",
     "text": [
      "The extreme values of the CI for b2 are: 0.00016188978397815618 0.006435382989588098\n"
     ]
    }
   ],
   "source": [
    "print(\"The extreme values of the CI for b2 are:\", b2_l, b2_u)"
   ]
  },
  {
   "cell_type": "markdown",
   "id": "0f064830",
   "metadata": {},
   "source": [
    "As 0 is not included in the interval for $ b_{2} $, we might have reliable evidence that the parameter is statistically significant. However, if we run the code multiple times, we may expect different results, with 0 included in the interval. Therefore, it is difficult to say."
   ]
  },
  {
   "cell_type": "markdown",
   "id": "6285baee",
   "metadata": {},
   "source": [
    "### Try at least 5 different possible sub-models using Mallow’s CP. Which yielded the best result according to Mallow’s CP?"
   ]
  },
  {
   "cell_type": "code",
   "execution_count": 13,
   "id": "b227727d",
   "metadata": {},
   "outputs": [],
   "source": [
    "subdat = wage[['wage', 'educ', 'exper', 'tenure', 'female', 'married', 'numdep']].copy()"
   ]
  },
  {
   "cell_type": "code",
   "execution_count": 14,
   "id": "e56393f5",
   "metadata": {},
   "outputs": [],
   "source": [
    "import itertools\n",
    "\n",
    "model = smf.ols(formula='np.log(wage) ~ educ + exper + tenure + female + married + numdep', data=wage)\n",
    "results = model.fit()\n",
    "y = np.log(wage['wage'])\n",
    "y_pred = results.fittedvalues\n",
    "\n",
    "storage_cp = pd.DataFrame(columns = [\"Variables\", \"CP\"])\n",
    "k = 7\n",
    "\n",
    "for L in range(1, len(subdat.columns[1:]) + 1):\n",
    "    for subset in itertools.combinations(subdat.columns[1:], L):\n",
    "        \n",
    "        formula1 = 'np.log(wage)~'+'+'.join(subset)\n",
    "        \n",
    "        result = smf.ols(formula=formula1, data=wage).fit()\n",
    "        y_sub = result.fittedvalues\n",
    "        p = len(subset)+1 \n",
    "        \n",
    "        cp = mallow.mallow(y, y_pred, y_sub, k, p)\n",
    "               \n",
    "        storage_cp = storage_cp.append({'Variables': subset, 'CP': cp}, ignore_index = True)"
   ]
  },
  {
   "cell_type": "code",
   "execution_count": 15,
   "id": "74ca91fa",
   "metadata": {},
   "outputs": [
    {
     "data": {
      "text/html": [
       "<div>\n",
       "<style scoped>\n",
       "    .dataframe tbody tr th:only-of-type {\n",
       "        vertical-align: middle;\n",
       "    }\n",
       "\n",
       "    .dataframe tbody tr th {\n",
       "        vertical-align: top;\n",
       "    }\n",
       "\n",
       "    .dataframe thead th {\n",
       "        text-align: right;\n",
       "    }\n",
       "</style>\n",
       "<table border=\"1\" class=\"dataframe\">\n",
       "  <thead>\n",
       "    <tr style=\"text-align: right;\">\n",
       "      <th></th>\n",
       "      <th>Variables</th>\n",
       "      <th>CP</th>\n",
       "    </tr>\n",
       "  </thead>\n",
       "  <tbody>\n",
       "    <tr>\n",
       "      <th>56</th>\n",
       "      <td>(educ, exper, tenure, female, married)</td>\n",
       "      <td>5.000309</td>\n",
       "    </tr>\n",
       "    <tr>\n",
       "      <th>47</th>\n",
       "      <td>(educ, tenure, female, married)</td>\n",
       "      <td>6.465083</td>\n",
       "    </tr>\n",
       "    <tr>\n",
       "      <th>62</th>\n",
       "      <td>(educ, exper, tenure, female, married, numdep)</td>\n",
       "      <td>7.0</td>\n",
       "    </tr>\n",
       "    <tr>\n",
       "      <th>60</th>\n",
       "      <td>(educ, tenure, female, married, numdep)</td>\n",
       "      <td>8.3484</td>\n",
       "    </tr>\n",
       "    <tr>\n",
       "      <th>41</th>\n",
       "      <td>(educ, exper, tenure, female)</td>\n",
       "      <td>12.869873</td>\n",
       "    </tr>\n",
       "    <tr>\n",
       "      <th>...</th>\n",
       "      <td>...</td>\n",
       "      <td>...</td>\n",
       "    </tr>\n",
       "    <tr>\n",
       "      <th>4</th>\n",
       "      <td>(married,)</td>\n",
       "      <td>284.48298</td>\n",
       "    </tr>\n",
       "    <tr>\n",
       "      <th>13</th>\n",
       "      <td>(exper, married)</td>\n",
       "      <td>285.850191</td>\n",
       "    </tr>\n",
       "    <tr>\n",
       "      <th>14</th>\n",
       "      <td>(exper, numdep)</td>\n",
       "      <td>332.524918</td>\n",
       "    </tr>\n",
       "    <tr>\n",
       "      <th>1</th>\n",
       "      <td>(exper,)</td>\n",
       "      <td>337.443768</td>\n",
       "    </tr>\n",
       "    <tr>\n",
       "      <th>5</th>\n",
       "      <td>(numdep,)</td>\n",
       "      <td>340.335104</td>\n",
       "    </tr>\n",
       "  </tbody>\n",
       "</table>\n",
       "<p>63 rows × 2 columns</p>\n",
       "</div>"
      ],
      "text/plain": [
       "                                         Variables          CP\n",
       "56          (educ, exper, tenure, female, married)    5.000309\n",
       "47                 (educ, tenure, female, married)    6.465083\n",
       "62  (educ, exper, tenure, female, married, numdep)         7.0\n",
       "60         (educ, tenure, female, married, numdep)      8.3484\n",
       "41                   (educ, exper, tenure, female)   12.869873\n",
       "..                                             ...         ...\n",
       "4                                       (married,)   284.48298\n",
       "13                                (exper, married)  285.850191\n",
       "14                                 (exper, numdep)  332.524918\n",
       "1                                         (exper,)  337.443768\n",
       "5                                        (numdep,)  340.335104\n",
       "\n",
       "[63 rows x 2 columns]"
      ]
     },
     "execution_count": 15,
     "metadata": {},
     "output_type": "execute_result"
    }
   ],
   "source": [
    "storage_cp.sort_values(by = \"CP\")"
   ]
  },
  {
   "cell_type": "code",
   "execution_count": 16,
   "id": "2bc7ace0",
   "metadata": {},
   "outputs": [
    {
     "name": "stdout",
     "output_type": "stream",
     "text": [
      "According to Mallows Cp algorithm, the best models are:\n",
      "                                          Variables         CP\n",
      "56          (educ, exper, tenure, female, married)   5.000309\n",
      "47                 (educ, tenure, female, married)   6.465083\n",
      "62  (educ, exper, tenure, female, married, numdep)        7.0\n",
      "60         (educ, tenure, female, married, numdep)     8.3484\n",
      "41                   (educ, exper, tenure, female)  12.869873\n",
      "The best submodel is log(wage) = b0 + b1*educ + b3*tenure + b4*female + b5*married\n"
     ]
    }
   ],
   "source": [
    "print(\"According to Mallows Cp algorithm, the best models are:\\n\", storage_cp.sort_values(by = \"CP\").head())\n",
    "print(\"The best submodel is log(wage) = b0 + b1*educ + b3*tenure + b4*female + b5*married\")"
   ]
  },
  {
   "cell_type": "code",
   "execution_count": 17,
   "id": "ead7784d",
   "metadata": {},
   "outputs": [
    {
     "data": {
      "text/html": [
       "<table class=\"simpletable\">\n",
       "<caption>OLS Regression Results</caption>\n",
       "<tr>\n",
       "  <th>Dep. Variable:</th>      <td>np.log(wage)</td>   <th>  R-squared:         </th> <td>   0.400</td>\n",
       "</tr>\n",
       "<tr>\n",
       "  <th>Model:</th>                   <td>OLS</td>       <th>  Adj. R-squared:    </th> <td>   0.395</td>\n",
       "</tr>\n",
       "<tr>\n",
       "  <th>Method:</th>             <td>Least Squares</td>  <th>  F-statistic:       </th> <td>   86.70</td>\n",
       "</tr>\n",
       "<tr>\n",
       "  <th>Date:</th>             <td>Sun, 30 Oct 2022</td> <th>  Prob (F-statistic):</th> <td>1.99e-56</td>\n",
       "</tr>\n",
       "<tr>\n",
       "  <th>Time:</th>                 <td>20:25:47</td>     <th>  Log-Likelihood:    </th> <td> -279.25</td>\n",
       "</tr>\n",
       "<tr>\n",
       "  <th>No. Observations:</th>      <td>   526</td>      <th>  AIC:               </th> <td>   568.5</td>\n",
       "</tr>\n",
       "<tr>\n",
       "  <th>Df Residuals:</th>          <td>   521</td>      <th>  BIC:               </th> <td>   589.8</td>\n",
       "</tr>\n",
       "<tr>\n",
       "  <th>Df Model:</th>              <td>     4</td>      <th>                     </th>     <td> </td>   \n",
       "</tr>\n",
       "<tr>\n",
       "  <th>Covariance Type:</th>      <td>nonrobust</td>    <th>                     </th>     <td> </td>   \n",
       "</tr>\n",
       "</table>\n",
       "<table class=\"simpletable\">\n",
       "<tr>\n",
       "      <td></td>         <th>coef</th>     <th>std err</th>      <th>t</th>      <th>P>|t|</th>  <th>[0.025</th>    <th>0.975]</th>  \n",
       "</tr>\n",
       "<tr>\n",
       "  <th>Intercept</th> <td>    0.5702</td> <td>    0.092</td> <td>    6.218</td> <td> 0.000</td> <td>    0.390</td> <td>    0.750</td>\n",
       "</tr>\n",
       "<tr>\n",
       "  <th>educ</th>      <td>    0.0795</td> <td>    0.007</td> <td>   12.090</td> <td> 0.000</td> <td>    0.067</td> <td>    0.092</td>\n",
       "</tr>\n",
       "<tr>\n",
       "  <th>tenure</th>    <td>    0.0194</td> <td>    0.003</td> <td>    7.423</td> <td> 0.000</td> <td>    0.014</td> <td>    0.025</td>\n",
       "</tr>\n",
       "<tr>\n",
       "  <th>female</th>    <td>   -0.2804</td> <td>    0.037</td> <td>   -7.527</td> <td> 0.000</td> <td>   -0.354</td> <td>   -0.207</td>\n",
       "</tr>\n",
       "<tr>\n",
       "  <th>married</th>   <td>    0.1468</td> <td>    0.038</td> <td>    3.818</td> <td> 0.000</td> <td>    0.071</td> <td>    0.222</td>\n",
       "</tr>\n",
       "</table>\n",
       "<table class=\"simpletable\">\n",
       "<tr>\n",
       "  <th>Omnibus:</th>       <td>12.344</td> <th>  Durbin-Watson:     </th> <td>   1.793</td>\n",
       "</tr>\n",
       "<tr>\n",
       "  <th>Prob(Omnibus):</th> <td> 0.002</td> <th>  Jarque-Bera (JB):  </th> <td>  22.322</td>\n",
       "</tr>\n",
       "<tr>\n",
       "  <th>Skew:</th>          <td> 0.075</td> <th>  Prob(JB):          </th> <td>1.42e-05</td>\n",
       "</tr>\n",
       "<tr>\n",
       "  <th>Kurtosis:</th>      <td> 3.998</td> <th>  Cond. No.          </th> <td>    73.1</td>\n",
       "</tr>\n",
       "</table><br/><br/>Notes:<br/>[1] Standard Errors assume that the covariance matrix of the errors is correctly specified."
      ],
      "text/plain": [
       "<class 'statsmodels.iolib.summary.Summary'>\n",
       "\"\"\"\n",
       "                            OLS Regression Results                            \n",
       "==============================================================================\n",
       "Dep. Variable:           np.log(wage)   R-squared:                       0.400\n",
       "Model:                            OLS   Adj. R-squared:                  0.395\n",
       "Method:                 Least Squares   F-statistic:                     86.70\n",
       "Date:                Sun, 30 Oct 2022   Prob (F-statistic):           1.99e-56\n",
       "Time:                        20:25:47   Log-Likelihood:                -279.25\n",
       "No. Observations:                 526   AIC:                             568.5\n",
       "Df Residuals:                     521   BIC:                             589.8\n",
       "Df Model:                           4                                         \n",
       "Covariance Type:            nonrobust                                         \n",
       "==============================================================================\n",
       "                 coef    std err          t      P>|t|      [0.025      0.975]\n",
       "------------------------------------------------------------------------------\n",
       "Intercept      0.5702      0.092      6.218      0.000       0.390       0.750\n",
       "educ           0.0795      0.007     12.090      0.000       0.067       0.092\n",
       "tenure         0.0194      0.003      7.423      0.000       0.014       0.025\n",
       "female        -0.2804      0.037     -7.527      0.000      -0.354      -0.207\n",
       "married        0.1468      0.038      3.818      0.000       0.071       0.222\n",
       "==============================================================================\n",
       "Omnibus:                       12.344   Durbin-Watson:                   1.793\n",
       "Prob(Omnibus):                  0.002   Jarque-Bera (JB):               22.322\n",
       "Skew:                           0.075   Prob(JB):                     1.42e-05\n",
       "Kurtosis:                       3.998   Cond. No.                         73.1\n",
       "==============================================================================\n",
       "\n",
       "Notes:\n",
       "[1] Standard Errors assume that the covariance matrix of the errors is correctly specified.\n",
       "\"\"\""
      ]
     },
     "execution_count": 17,
     "metadata": {},
     "output_type": "execute_result"
    }
   ],
   "source": [
    "sub_wreg = smf.ols('np.log(wage) ~ educ + tenure + female + married', wage)\n",
    "sub_wresult = sub_wreg.fit()\n",
    "sub_wresult.summary()"
   ]
  },
  {
   "cell_type": "markdown",
   "id": "fe772177",
   "metadata": {},
   "source": [
    "**Let's try another way**"
   ]
  },
  {
   "cell_type": "code",
   "execution_count": 18,
   "id": "039ddb7d",
   "metadata": {},
   "outputs": [
    {
     "data": {
      "text/plain": [
       "5.0003089148746085"
      ]
     },
     "execution_count": 18,
     "metadata": {},
     "output_type": "execute_result"
    }
   ],
   "source": [
    "model = smf.ols(formula='np.log(wage) ~ educ + exper + tenure + female + married + numdep', data=wage)\n",
    "results = model.fit()\n",
    "y = np.log(wage['wage'])\n",
    "y_pred=results.fittedvalues\n",
    "\n",
    "mr_sub = smf.ols(formula='np.log(wage) ~ educ + exper + tenure + female + married', data=wage)\n",
    "mr_sub_fit = mr_sub.fit()\n",
    "y_sub=mr_sub_fit.fittedvalues\n",
    "\n",
    "k = 7 \n",
    "p = 6 \n",
    "\n",
    "mallow.mallow(y, y_pred,y_sub, k, p)"
   ]
  },
  {
   "cell_type": "code",
   "execution_count": 19,
   "id": "70dcaa45",
   "metadata": {},
   "outputs": [
    {
     "data": {
      "text/plain": [
       "14.278596762829125"
      ]
     },
     "execution_count": 19,
     "metadata": {},
     "output_type": "execute_result"
    }
   ],
   "source": [
    "model = smf.ols(formula='np.log(wage) ~ educ + exper + tenure + female + married + numdep', data=wage)\n",
    "results = model.fit()\n",
    "y = np.log(wage['wage'])\n",
    "y_pred=results.fittedvalues\n",
    "\n",
    "mr_sub = smf.ols(formula='np.log(wage) ~ educ + exper + tenure + female + numdep', data=wage)\n",
    "mr_sub_fit = mr_sub.fit()\n",
    "y_sub=mr_sub_fit.fittedvalues\n",
    "\n",
    "k = 7 \n",
    "p = 6 \n",
    "\n",
    "mallow.mallow(y, y_pred,y_sub, k, p)"
   ]
  },
  {
   "cell_type": "code",
   "execution_count": 20,
   "id": "2b4af0ad",
   "metadata": {},
   "outputs": [
    {
     "data": {
      "text/plain": [
       "63.48977888443801"
      ]
     },
     "execution_count": 20,
     "metadata": {},
     "output_type": "execute_result"
    }
   ],
   "source": [
    "model = smf.ols(formula='np.log(wage) ~ educ + exper + tenure + female + married + numdep', data=wage)\n",
    "results = model.fit()\n",
    "y = np.log(wage['wage'])\n",
    "y_pred=results.fittedvalues\n",
    "\n",
    "mr_sub = smf.ols(formula='np.log(wage) ~ educ + exper + tenure + married + numdep', data=wage)\n",
    "mr_sub_fit = mr_sub.fit()\n",
    "y_sub=mr_sub_fit.fittedvalues\n",
    "\n",
    "k = 7 \n",
    "p = 6\n",
    "\n",
    "mallow.mallow(y, y_pred,y_sub, k, p)"
   ]
  },
  {
   "cell_type": "code",
   "execution_count": 21,
   "id": "70571f08",
   "metadata": {},
   "outputs": [
    {
     "data": {
      "text/plain": [
       "37.492648446126736"
      ]
     },
     "execution_count": 21,
     "metadata": {},
     "output_type": "execute_result"
    }
   ],
   "source": [
    "model = smf.ols(formula='np.log(wage) ~ educ + exper + tenure + female + married + numdep', data=wage)\n",
    "results = model.fit()\n",
    "y = np.log(wage['wage'])\n",
    "y_pred=results.fittedvalues\n",
    "\n",
    "mr_sub = smf.ols(formula='np.log(wage) ~ educ + exper + female + married + numdep', data=wage)\n",
    "mr_sub_fit = mr_sub.fit()\n",
    "y_sub=mr_sub_fit.fittedvalues\n",
    "\n",
    "k = 7 \n",
    "p = 6\n",
    "\n",
    "mallow.mallow(y, y_pred,y_sub, k, p)"
   ]
  },
  {
   "cell_type": "code",
   "execution_count": 22,
   "id": "8072cf8e",
   "metadata": {},
   "outputs": [
    {
     "data": {
      "text/plain": [
       "8.34839992344007"
      ]
     },
     "execution_count": 22,
     "metadata": {},
     "output_type": "execute_result"
    }
   ],
   "source": [
    "model = smf.ols(formula='np.log(wage) ~ educ + exper + tenure + female + married + numdep', data=wage)\n",
    "results = model.fit()\n",
    "y = np.log(wage['wage'])\n",
    "y_pred=results.fittedvalues\n",
    "\n",
    "mr_sub = smf.ols(formula='np.log(wage) ~ educ + tenure + female + married + numdep', data=wage)\n",
    "mr_sub_fit = mr_sub.fit()\n",
    "y_sub=mr_sub_fit.fittedvalues\n",
    "\n",
    "k = 7\n",
    "p = 6\n",
    "\n",
    "mallow.mallow(y, y_pred,y_sub, k, p)"
   ]
  },
  {
   "cell_type": "markdown",
   "id": "5f5aa42a",
   "metadata": {},
   "source": [
    "With this approach, we confirm the previous Mallow scores. The best 5 x-variables and second best sub-model is: \n",
    "\n",
    "$ log(wage) = b_{0} + b_{1} * educ + b_{3} * tenure + b_{4} * female + b_{5} * married + b_{6} * numdep $"
   ]
  },
  {
   "cell_type": "markdown",
   "id": "049cee47",
   "metadata": {},
   "source": [
    "In general, we can say that the best model includes all the 6 x-variables from the original regression. The model performs similarly without the variables *exper* and *numdep*. We can still have a great performance when removing *exper* only; this is our best 5 x-variables estimator for *wage*. "
   ]
  },
  {
   "cell_type": "code",
   "execution_count": 23,
   "id": "90e4a924",
   "metadata": {},
   "outputs": [
    {
     "data": {
      "text/plain": [
       "138.03152731474142"
      ]
     },
     "execution_count": 23,
     "metadata": {},
     "output_type": "execute_result"
    }
   ],
   "source": [
    "# FOR CURIOSITY\n",
    "model = smf.ols(formula='np.log(wage) ~ educ + exper + tenure + female + married + numdep', data=wage)\n",
    "results = model.fit()\n",
    "y = np.log(wage['wage'])\n",
    "y_pred=results.fittedvalues\n",
    "\n",
    "mr_sub = smf.ols(formula='np.log(wage) ~ exper + tenure + female + married + numdep', data=wage)\n",
    "mr_sub_fit = mr_sub.fit()\n",
    "y_sub=mr_sub_fit.fittedvalues\n",
    "\n",
    "k = 7 \n",
    "p = 6 \n",
    "\n",
    "mallow.mallow(y, y_pred,y_sub, k, p)"
   ]
  },
  {
   "cell_type": "markdown",
   "id": "2db620b5",
   "metadata": {},
   "source": [
    "We may notice how the score worsens when removing *educ*. This is an indicator of how much education is important in determining the salary."
   ]
  },
  {
   "cell_type": "markdown",
   "id": "497a8dea",
   "metadata": {},
   "source": [
    "### Using 5-fold cross validation, compare the RMSE of the model in (a) to the one you chose in (d). Which performs the best?"
   ]
  },
  {
   "cell_type": "code",
   "execution_count": 24,
   "id": "ba476d59",
   "metadata": {},
   "outputs": [
    {
     "name": "stdout",
     "output_type": "stream",
     "text": [
      "[0.24305316622257764, 0.18053567340110366, 0.14323740902768567, 0.1101637646049343, 0.16319189322412744]\n"
     ]
    }
   ],
   "source": [
    "kf = KFold(n_splits=5)\n",
    "\n",
    "mse = []\n",
    "for train_index, test_index in kf.split(wage):\n",
    "    s = ((np.log(wage.iloc[test_index][\"wage\"]) - wresult.predict(wage.iloc[test_index]))**2).mean()\n",
    "    mse.append(s)\n",
    "\n",
    "print(mse)"
   ]
  },
  {
   "cell_type": "code",
   "execution_count": 25,
   "id": "c7691d42",
   "metadata": {},
   "outputs": [
    {
     "name": "stdout",
     "output_type": "stream",
     "text": [
      "The RMSE for our original model is: [0.49300423 0.4248949  0.37846718 0.33190927 0.40397016]\n",
      "The RMSE mean is: 0.4064491482455998\n"
     ]
    }
   ],
   "source": [
    "rmse = np.sqrt(mse)\n",
    "print(\"The RMSE for our original model is:\", rmse)\n",
    "print(\"The RMSE mean is:\", rmse.mean())"
   ]
  },
  {
   "cell_type": "code",
   "execution_count": 26,
   "id": "af2d626a",
   "metadata": {},
   "outputs": [
    {
     "name": "stdout",
     "output_type": "stream",
     "text": [
      "[0.24735632581240968, 0.18132947053209889, 0.14642438618641718, 0.10991613247531455, 0.16073950446255464]\n"
     ]
    }
   ],
   "source": [
    "kf = KFold(n_splits=5)\n",
    "\n",
    "sub_mse = []\n",
    "for train_index, test_index in kf.split(wage):\n",
    "    s = ((np.log(wage.iloc[test_index][\"wage\"]) - sub_wresult.predict(wage.iloc[test_index]))**2).mean()\n",
    "    sub_mse.append(s)\n",
    "\n",
    "print(sub_mse)"
   ]
  },
  {
   "cell_type": "code",
   "execution_count": 27,
   "id": "c53f8670",
   "metadata": {},
   "outputs": [
    {
     "name": "stdout",
     "output_type": "stream",
     "text": [
      "The RMSE for our sub-model is: [0.4973493  0.42582798 0.3826544  0.33153602 0.40092331]\n",
      "The RMSE mean for the sub-model is: 0.4076582023938375\n"
     ]
    }
   ],
   "source": [
    "sub_rmse = np.sqrt(sub_mse)\n",
    "print(\"The RMSE for our sub-model is:\", sub_rmse)\n",
    "print(\"The RMSE mean for the sub-model is:\", sub_rmse.mean())"
   ]
  },
  {
   "cell_type": "code",
   "execution_count": 28,
   "id": "8a8d0c0f",
   "metadata": {},
   "outputs": [
    {
     "name": "stdout",
     "output_type": "stream",
     "text": [
      "On average, the original model is better\n"
     ]
    }
   ],
   "source": [
    "if rmse.mean()-sub_rmse.mean() < 0:\n",
    "    print(\"On average, the original model is better\")\n",
    "if rmse.mean()-sub_rmse.mean() > 0:\n",
    "    print(\"On average, the sub-model is better\")\n",
    "if rmse.mean()-sub_rmse.mean() == 0:\n",
    "    print(\"On average, the models perform equally\")"
   ]
  },
  {
   "cell_type": "markdown",
   "id": "1f912a56",
   "metadata": {},
   "source": [
    "## PART 2"
   ]
  },
  {
   "cell_type": "markdown",
   "id": "4f4503a2",
   "metadata": {},
   "source": [
    "### Use the VOTE1 dataset from the Wooldridge python module to answer the following question. Import this data into your notebook."
   ]
  },
  {
   "cell_type": "code",
   "execution_count": 29,
   "id": "524b968e",
   "metadata": {},
   "outputs": [
    {
     "data": {
      "text/html": [
       "<div>\n",
       "<style scoped>\n",
       "    .dataframe tbody tr th:only-of-type {\n",
       "        vertical-align: middle;\n",
       "    }\n",
       "\n",
       "    .dataframe tbody tr th {\n",
       "        vertical-align: top;\n",
       "    }\n",
       "\n",
       "    .dataframe thead th {\n",
       "        text-align: right;\n",
       "    }\n",
       "</style>\n",
       "<table border=\"1\" class=\"dataframe\">\n",
       "  <thead>\n",
       "    <tr style=\"text-align: right;\">\n",
       "      <th></th>\n",
       "      <th>state</th>\n",
       "      <th>district</th>\n",
       "      <th>democA</th>\n",
       "      <th>voteA</th>\n",
       "      <th>expendA</th>\n",
       "      <th>expendB</th>\n",
       "      <th>prtystrA</th>\n",
       "      <th>lexpendA</th>\n",
       "      <th>lexpendB</th>\n",
       "      <th>shareA</th>\n",
       "    </tr>\n",
       "  </thead>\n",
       "  <tbody>\n",
       "    <tr>\n",
       "      <th>0</th>\n",
       "      <td>AL</td>\n",
       "      <td>7</td>\n",
       "      <td>1</td>\n",
       "      <td>68</td>\n",
       "      <td>328.295990</td>\n",
       "      <td>8.737000</td>\n",
       "      <td>41</td>\n",
       "      <td>5.793916</td>\n",
       "      <td>2.167567</td>\n",
       "      <td>97.407669</td>\n",
       "    </tr>\n",
       "    <tr>\n",
       "      <th>1</th>\n",
       "      <td>AK</td>\n",
       "      <td>1</td>\n",
       "      <td>0</td>\n",
       "      <td>62</td>\n",
       "      <td>626.377014</td>\n",
       "      <td>402.476990</td>\n",
       "      <td>60</td>\n",
       "      <td>6.439952</td>\n",
       "      <td>5.997638</td>\n",
       "      <td>60.881039</td>\n",
       "    </tr>\n",
       "    <tr>\n",
       "      <th>2</th>\n",
       "      <td>AZ</td>\n",
       "      <td>2</td>\n",
       "      <td>1</td>\n",
       "      <td>73</td>\n",
       "      <td>99.607002</td>\n",
       "      <td>3.065000</td>\n",
       "      <td>55</td>\n",
       "      <td>4.601233</td>\n",
       "      <td>1.120048</td>\n",
       "      <td>97.014763</td>\n",
       "    </tr>\n",
       "    <tr>\n",
       "      <th>3</th>\n",
       "      <td>AZ</td>\n",
       "      <td>3</td>\n",
       "      <td>0</td>\n",
       "      <td>69</td>\n",
       "      <td>319.690002</td>\n",
       "      <td>26.281000</td>\n",
       "      <td>64</td>\n",
       "      <td>5.767352</td>\n",
       "      <td>3.268846</td>\n",
       "      <td>92.403702</td>\n",
       "    </tr>\n",
       "    <tr>\n",
       "      <th>4</th>\n",
       "      <td>AR</td>\n",
       "      <td>3</td>\n",
       "      <td>0</td>\n",
       "      <td>75</td>\n",
       "      <td>159.220993</td>\n",
       "      <td>60.054001</td>\n",
       "      <td>66</td>\n",
       "      <td>5.070293</td>\n",
       "      <td>4.095244</td>\n",
       "      <td>72.612473</td>\n",
       "    </tr>\n",
       "  </tbody>\n",
       "</table>\n",
       "</div>"
      ],
      "text/plain": [
       "  state  district  democA  voteA     expendA     expendB  prtystrA  lexpendA  \\\n",
       "0    AL         7       1     68  328.295990    8.737000        41  5.793916   \n",
       "1    AK         1       0     62  626.377014  402.476990        60  6.439952   \n",
       "2    AZ         2       1     73   99.607002    3.065000        55  4.601233   \n",
       "3    AZ         3       0     69  319.690002   26.281000        64  5.767352   \n",
       "4    AR         3       0     75  159.220993   60.054001        66  5.070293   \n",
       "\n",
       "   lexpendB     shareA  \n",
       "0  2.167567  97.407669  \n",
       "1  5.997638  60.881039  \n",
       "2  1.120048  97.014763  \n",
       "3  3.268846  92.403702  \n",
       "4  4.095244  72.612473  "
      ]
     },
     "execution_count": 29,
     "metadata": {},
     "output_type": "execute_result"
    }
   ],
   "source": [
    "vote = woo.data(\"vote1\")\n",
    "vote.head()"
   ]
  },
  {
   "cell_type": "markdown",
   "id": "7af67b9a",
   "metadata": {},
   "source": [
    "### Consider a model with an interaction between expenditures: \n",
    "### voteA = β0 + β1prtystrA + β2expendA + β3expendB + β4expendA ∗ expendB\n",
    "### What is the partial effect of expendB on voteA, holding prtystrA and expendA fixed? What is the partial effect of expendA on voteA? Is the expected sign for b4 obvious?"
   ]
  },
  {
   "cell_type": "markdown",
   "id": "1fc1ef19",
   "metadata": {},
   "source": [
    "Partial effect of expendB on voteA: "
   ]
  },
  {
   "cell_type": "markdown",
   "id": "e31267a8",
   "metadata": {},
   "source": [
    "$ \\frac{\\partial voteA}{\\partial expendB}=\\beta_{3}+\\beta _{4}expendA $"
   ]
  },
  {
   "cell_type": "markdown",
   "id": "48d1bf34",
   "metadata": {},
   "source": [
    "Partial effect on expendA on voteA:"
   ]
  },
  {
   "cell_type": "markdown",
   "id": "03760963",
   "metadata": {},
   "source": [
    "$ \\frac{\\partial voteA}{\\partial expendA}=\\beta_{2}+\\beta _{4}expendB $"
   ]
  },
  {
   "cell_type": "markdown",
   "id": "4b70d131",
   "metadata": {},
   "source": [
    "$ b_{4} $ sign is not obvious. $ b_{3} $ will be most likely negative, as the more candidate B spends on his campaign, the less votes A receives. However, the sign of $ b_{4} $ is ambiguous. Mathematically, it should be negative, yet it has to be wondered whether the increase of B expenses has a higher effect on *voteA* than the increase of A expenditure. It has to be verified by running a regression."
   ]
  },
  {
   "cell_type": "markdown",
   "id": "d837a99b",
   "metadata": {},
   "source": [
    "### Estimate the equation in part (a) and report the results in the usual form. Is the interaction term statistically significant?"
   ]
  },
  {
   "cell_type": "code",
   "execution_count": 30,
   "id": "5e89d3db",
   "metadata": {},
   "outputs": [
    {
     "data": {
      "text/html": [
       "<table class=\"simpletable\">\n",
       "<caption>OLS Regression Results</caption>\n",
       "<tr>\n",
       "  <th>Dep. Variable:</th>          <td>voteA</td>      <th>  R-squared:         </th> <td>   0.571</td>\n",
       "</tr>\n",
       "<tr>\n",
       "  <th>Model:</th>                   <td>OLS</td>       <th>  Adj. R-squared:    </th> <td>   0.561</td>\n",
       "</tr>\n",
       "<tr>\n",
       "  <th>Method:</th>             <td>Least Squares</td>  <th>  F-statistic:       </th> <td>   55.86</td>\n",
       "</tr>\n",
       "<tr>\n",
       "  <th>Date:</th>             <td>Sun, 30 Oct 2022</td> <th>  Prob (F-statistic):</th> <td>6.77e-30</td>\n",
       "</tr>\n",
       "<tr>\n",
       "  <th>Time:</th>                 <td>20:26:16</td>     <th>  Log-Likelihood:    </th> <td> -659.75</td>\n",
       "</tr>\n",
       "<tr>\n",
       "  <th>No. Observations:</th>      <td>   173</td>      <th>  AIC:               </th> <td>   1329.</td>\n",
       "</tr>\n",
       "<tr>\n",
       "  <th>Df Residuals:</th>          <td>   168</td>      <th>  BIC:               </th> <td>   1345.</td>\n",
       "</tr>\n",
       "<tr>\n",
       "  <th>Df Model:</th>              <td>     4</td>      <th>                     </th>     <td> </td>   \n",
       "</tr>\n",
       "<tr>\n",
       "  <th>Covariance Type:</th>      <td>nonrobust</td>    <th>                     </th>     <td> </td>   \n",
       "</tr>\n",
       "</table>\n",
       "<table class=\"simpletable\">\n",
       "<tr>\n",
       "         <td></td>            <th>coef</th>     <th>std err</th>      <th>t</th>      <th>P>|t|</th>  <th>[0.025</th>    <th>0.975]</th>  \n",
       "</tr>\n",
       "<tr>\n",
       "  <th>Intercept</th>       <td>   32.1174</td> <td>    4.591</td> <td>    6.995</td> <td> 0.000</td> <td>   23.054</td> <td>   41.181</td>\n",
       "</tr>\n",
       "<tr>\n",
       "  <th>prtystrA</th>        <td>    0.3419</td> <td>    0.088</td> <td>    3.886</td> <td> 0.000</td> <td>    0.168</td> <td>    0.516</td>\n",
       "</tr>\n",
       "<tr>\n",
       "  <th>expendA</th>         <td>    0.0383</td> <td>    0.005</td> <td>    7.718</td> <td> 0.000</td> <td>    0.028</td> <td>    0.048</td>\n",
       "</tr>\n",
       "<tr>\n",
       "  <th>expendB</th>         <td>   -0.0317</td> <td>    0.005</td> <td>   -6.915</td> <td> 0.000</td> <td>   -0.041</td> <td>   -0.023</td>\n",
       "</tr>\n",
       "<tr>\n",
       "  <th>expendA:expendB</th> <td>-6.629e-06</td> <td> 7.19e-06</td> <td>   -0.923</td> <td> 0.358</td> <td>-2.08e-05</td> <td> 7.56e-06</td>\n",
       "</tr>\n",
       "</table>\n",
       "<table class=\"simpletable\">\n",
       "<tr>\n",
       "  <th>Omnibus:</th>       <td> 1.031</td> <th>  Durbin-Watson:     </th> <td>   1.362</td>\n",
       "</tr>\n",
       "<tr>\n",
       "  <th>Prob(Omnibus):</th> <td> 0.597</td> <th>  Jarque-Bera (JB):  </th> <td>   1.007</td>\n",
       "</tr>\n",
       "<tr>\n",
       "  <th>Skew:</th>          <td>-0.004</td> <th>  Prob(JB):          </th> <td>   0.604</td>\n",
       "</tr>\n",
       "<tr>\n",
       "  <th>Kurtosis:</th>      <td> 2.626</td> <th>  Cond. No.          </th> <td>1.60e+06</td>\n",
       "</tr>\n",
       "</table><br/><br/>Notes:<br/>[1] Standard Errors assume that the covariance matrix of the errors is correctly specified.<br/>[2] The condition number is large, 1.6e+06. This might indicate that there are<br/>strong multicollinearity or other numerical problems."
      ],
      "text/plain": [
       "<class 'statsmodels.iolib.summary.Summary'>\n",
       "\"\"\"\n",
       "                            OLS Regression Results                            \n",
       "==============================================================================\n",
       "Dep. Variable:                  voteA   R-squared:                       0.571\n",
       "Model:                            OLS   Adj. R-squared:                  0.561\n",
       "Method:                 Least Squares   F-statistic:                     55.86\n",
       "Date:                Sun, 30 Oct 2022   Prob (F-statistic):           6.77e-30\n",
       "Time:                        20:26:16   Log-Likelihood:                -659.75\n",
       "No. Observations:                 173   AIC:                             1329.\n",
       "Df Residuals:                     168   BIC:                             1345.\n",
       "Df Model:                           4                                         \n",
       "Covariance Type:            nonrobust                                         \n",
       "===================================================================================\n",
       "                      coef    std err          t      P>|t|      [0.025      0.975]\n",
       "-----------------------------------------------------------------------------------\n",
       "Intercept          32.1174      4.591      6.995      0.000      23.054      41.181\n",
       "prtystrA            0.3419      0.088      3.886      0.000       0.168       0.516\n",
       "expendA             0.0383      0.005      7.718      0.000       0.028       0.048\n",
       "expendB            -0.0317      0.005     -6.915      0.000      -0.041      -0.023\n",
       "expendA:expendB -6.629e-06   7.19e-06     -0.923      0.358   -2.08e-05    7.56e-06\n",
       "==============================================================================\n",
       "Omnibus:                        1.031   Durbin-Watson:                   1.362\n",
       "Prob(Omnibus):                  0.597   Jarque-Bera (JB):                1.007\n",
       "Skew:                          -0.004   Prob(JB):                        0.604\n",
       "Kurtosis:                       2.626   Cond. No.                     1.60e+06\n",
       "==============================================================================\n",
       "\n",
       "Notes:\n",
       "[1] Standard Errors assume that the covariance matrix of the errors is correctly specified.\n",
       "[2] The condition number is large, 1.6e+06. This might indicate that there are\n",
       "strong multicollinearity or other numerical problems.\n",
       "\"\"\""
      ]
     },
     "execution_count": 30,
     "metadata": {},
     "output_type": "execute_result"
    }
   ],
   "source": [
    "vreg = smf.ols('voteA ~ prtystrA + expendA + expendB + expendA*expendB', vote)\n",
    "vresult = vreg.fit()\n",
    "vresult.summary()"
   ]
  },
  {
   "cell_type": "markdown",
   "id": "65cdfc8a",
   "metadata": {},
   "source": [
    "The interaction term p-value is 0.358, therefore, the coefficient cannot be considered significant."
   ]
  },
  {
   "cell_type": "markdown",
   "id": "67dc3900",
   "metadata": {},
   "source": [
    "### Find the average of expendA in the sample. Fix expendA at 300 (for 300,000). What is the estimated effect of another 100,000 spent by Candidate B on voteA? Is this a large effect?"
   ]
  },
  {
   "cell_type": "code",
   "execution_count": 31,
   "id": "e201b676",
   "metadata": {},
   "outputs": [
    {
     "name": "stdout",
     "output_type": "stream",
     "text": [
      "The mean of expendA is: 310.6110049300111 which corresponds to 310611.0049300111 dollars\n"
     ]
    }
   ],
   "source": [
    "print(\"The mean of expendA is:\", vote.expendA.mean(), \"which corresponds to\", vote.expendA.mean()*1000, \"dollars\" )"
   ]
  },
  {
   "cell_type": "code",
   "execution_count": 32,
   "id": "deefda73",
   "metadata": {},
   "outputs": [
    {
     "name": "stdout",
     "output_type": "stream",
     "text": [
      "The effect of another 100,000 spent by B on VoteA is -3.371269302928471\n"
     ]
    }
   ],
   "source": [
    "d_voteA_B = (vresult.params[3]+vresult.params[4]*300)*100\n",
    "print(f\"The effect of another 100,000 spent by B on VoteA is\", d_voteA_B)"
   ]
  },
  {
   "cell_type": "markdown",
   "id": "6899f299",
   "metadata": {},
   "source": [
    "This is a pretty large effect, especially when considering the insignificance of $ b_{4} $."
   ]
  },
  {
   "cell_type": "markdown",
   "id": "32d04866",
   "metadata": {},
   "source": [
    "### Now fix expendB at 100. What is the estimated effect of ΔexpendA = 100 on voteA? Does this make sense?"
   ]
  },
  {
   "cell_type": "code",
   "execution_count": 33,
   "id": "6938b9ef",
   "metadata": {},
   "outputs": [
    {
     "name": "stdout",
     "output_type": "stream",
     "text": [
      "The effect of another 100,000 spent by A on VoteA is 3.7617990628060536\n"
     ]
    }
   ],
   "source": [
    "d_voteA_A = (vresult.params[2]+vresult.params[4]*100)*100\n",
    "print(f\"The effect of another 100,000 spent by A on VoteA is\", d_voteA_A)"
   ]
  },
  {
   "cell_type": "markdown",
   "id": "73462981",
   "metadata": {},
   "source": [
    "This makes sense, indeed, if candidate A increases its expenditure for the votes, *voteA* is gonna increase."
   ]
  },
  {
   "cell_type": "markdown",
   "id": "fb5361e0",
   "metadata": {},
   "source": [
    "### Now, estimate a model that replaces the interaction with shareA, Candidate A’s percentage share of total campaign expenditures. Does it make sense to hold both expendA and expendB fixed, while changing shareA?"
   ]
  },
  {
   "cell_type": "code",
   "execution_count": 34,
   "id": "1a27867c",
   "metadata": {},
   "outputs": [
    {
     "data": {
      "text/html": [
       "<table class=\"simpletable\">\n",
       "<caption>OLS Regression Results</caption>\n",
       "<tr>\n",
       "  <th>Dep. Variable:</th>          <td>voteA</td>      <th>  R-squared:         </th> <td>   0.868</td>\n",
       "</tr>\n",
       "<tr>\n",
       "  <th>Model:</th>                   <td>OLS</td>       <th>  Adj. R-squared:    </th> <td>   0.865</td>\n",
       "</tr>\n",
       "<tr>\n",
       "  <th>Method:</th>             <td>Least Squares</td>  <th>  F-statistic:       </th> <td>   276.5</td>\n",
       "</tr>\n",
       "<tr>\n",
       "  <th>Date:</th>             <td>Sun, 30 Oct 2022</td> <th>  Prob (F-statistic):</th> <td>9.03e-73</td>\n",
       "</tr>\n",
       "<tr>\n",
       "  <th>Time:</th>                 <td>20:26:23</td>     <th>  Log-Likelihood:    </th> <td> -557.66</td>\n",
       "</tr>\n",
       "<tr>\n",
       "  <th>No. Observations:</th>      <td>   173</td>      <th>  AIC:               </th> <td>   1125.</td>\n",
       "</tr>\n",
       "<tr>\n",
       "  <th>Df Residuals:</th>          <td>   168</td>      <th>  BIC:               </th> <td>   1141.</td>\n",
       "</tr>\n",
       "<tr>\n",
       "  <th>Df Model:</th>              <td>     4</td>      <th>                     </th>     <td> </td>   \n",
       "</tr>\n",
       "<tr>\n",
       "  <th>Covariance Type:</th>      <td>nonrobust</td>    <th>                     </th>     <td> </td>   \n",
       "</tr>\n",
       "</table>\n",
       "<table class=\"simpletable\">\n",
       "<tr>\n",
       "      <td></td>         <th>coef</th>     <th>std err</th>      <th>t</th>      <th>P>|t|</th>  <th>[0.025</th>    <th>0.975]</th>  \n",
       "</tr>\n",
       "<tr>\n",
       "  <th>Intercept</th> <td>   18.1954</td> <td>    2.568</td> <td>    7.086</td> <td> 0.000</td> <td>   13.126</td> <td>   23.265</td>\n",
       "</tr>\n",
       "<tr>\n",
       "  <th>prtystrA</th>  <td>    0.1573</td> <td>    0.050</td> <td>    3.165</td> <td> 0.002</td> <td>    0.059</td> <td>    0.255</td>\n",
       "</tr>\n",
       "<tr>\n",
       "  <th>expendA</th>   <td>   -0.0067</td> <td>    0.003</td> <td>   -2.354</td> <td> 0.020</td> <td>   -0.012</td> <td>   -0.001</td>\n",
       "</tr>\n",
       "<tr>\n",
       "  <th>expendB</th>   <td>    0.0043</td> <td>    0.003</td> <td>    1.637</td> <td> 0.104</td> <td>   -0.001</td> <td>    0.009</td>\n",
       "</tr>\n",
       "<tr>\n",
       "  <th>shareA</th>    <td>    0.4944</td> <td>    0.025</td> <td>   19.535</td> <td> 0.000</td> <td>    0.444</td> <td>    0.544</td>\n",
       "</tr>\n",
       "</table>\n",
       "<table class=\"simpletable\">\n",
       "<tr>\n",
       "  <th>Omnibus:</th>       <td>36.148</td> <th>  Durbin-Watson:     </th> <td>   1.743</td>\n",
       "</tr>\n",
       "<tr>\n",
       "  <th>Prob(Omnibus):</th> <td> 0.000</td> <th>  Jarque-Bera (JB):  </th> <td> 112.238</td>\n",
       "</tr>\n",
       "<tr>\n",
       "  <th>Skew:</th>          <td> 0.789</td> <th>  Prob(JB):          </th> <td>4.24e-25</td>\n",
       "</tr>\n",
       "<tr>\n",
       "  <th>Kurtosis:</th>      <td> 6.616</td> <th>  Cond. No.          </th> <td>3.05e+03</td>\n",
       "</tr>\n",
       "</table><br/><br/>Notes:<br/>[1] Standard Errors assume that the covariance matrix of the errors is correctly specified.<br/>[2] The condition number is large, 3.05e+03. This might indicate that there are<br/>strong multicollinearity or other numerical problems."
      ],
      "text/plain": [
       "<class 'statsmodels.iolib.summary.Summary'>\n",
       "\"\"\"\n",
       "                            OLS Regression Results                            \n",
       "==============================================================================\n",
       "Dep. Variable:                  voteA   R-squared:                       0.868\n",
       "Model:                            OLS   Adj. R-squared:                  0.865\n",
       "Method:                 Least Squares   F-statistic:                     276.5\n",
       "Date:                Sun, 30 Oct 2022   Prob (F-statistic):           9.03e-73\n",
       "Time:                        20:26:23   Log-Likelihood:                -557.66\n",
       "No. Observations:                 173   AIC:                             1125.\n",
       "Df Residuals:                     168   BIC:                             1141.\n",
       "Df Model:                           4                                         \n",
       "Covariance Type:            nonrobust                                         \n",
       "==============================================================================\n",
       "                 coef    std err          t      P>|t|      [0.025      0.975]\n",
       "------------------------------------------------------------------------------\n",
       "Intercept     18.1954      2.568      7.086      0.000      13.126      23.265\n",
       "prtystrA       0.1573      0.050      3.165      0.002       0.059       0.255\n",
       "expendA       -0.0067      0.003     -2.354      0.020      -0.012      -0.001\n",
       "expendB        0.0043      0.003      1.637      0.104      -0.001       0.009\n",
       "shareA         0.4944      0.025     19.535      0.000       0.444       0.544\n",
       "==============================================================================\n",
       "Omnibus:                       36.148   Durbin-Watson:                   1.743\n",
       "Prob(Omnibus):                  0.000   Jarque-Bera (JB):              112.238\n",
       "Skew:                           0.789   Prob(JB):                     4.24e-25\n",
       "Kurtosis:                       6.616   Cond. No.                     3.05e+03\n",
       "==============================================================================\n",
       "\n",
       "Notes:\n",
       "[1] Standard Errors assume that the covariance matrix of the errors is correctly specified.\n",
       "[2] The condition number is large, 3.05e+03. This might indicate that there are\n",
       "strong multicollinearity or other numerical problems.\n",
       "\"\"\""
      ]
     },
     "execution_count": 34,
     "metadata": {},
     "output_type": "execute_result"
    }
   ],
   "source": [
    "vresult2 = smf.ols('voteA ~ prtystrA + expendA + expendB + shareA', vote).fit()\n",
    "vresult2.summary()"
   ]
  },
  {
   "cell_type": "markdown",
   "id": "e9ca5b4e",
   "metadata": {},
   "source": [
    "When substituting the interaction term with *shareA*, the goodness of the model is much higher;"
   ]
  },
  {
   "cell_type": "code",
   "execution_count": 35,
   "id": "1f2db694",
   "metadata": {},
   "outputs": [
    {
     "name": "stdout",
     "output_type": "stream",
     "text": [
      "The R^2 for the original model was: 0.5708314698187538\n",
      "The R^2 for the new model is: 0.868149136389488\n"
     ]
    }
   ],
   "source": [
    "print(\"The R^2 for the original model was:\", vresult.rsquared)\n",
    "print(\"The R^2 for the new model is:\", vresult2.rsquared)"
   ]
  },
  {
   "cell_type": "markdown",
   "id": "323fee6a",
   "metadata": {},
   "source": [
    "The variable *shareA* is equal to $ shareA = \\frac{expendA}{expendA+expendB} * 100 $. "
   ]
  },
  {
   "cell_type": "markdown",
   "id": "e50b853c",
   "metadata": {},
   "source": [
    "As *expendA* and *expendB* are part (fucntion) of *shareA*, it does not make any sense to keep them constant; the nominator and denominator are both fixed."
   ]
  },
  {
   "cell_type": "markdown",
   "id": "6924159a",
   "metadata": {},
   "source": [
    "$ \\frac{\\partial voteA}{\\partial expendB}= \\beta_{3}+\\beta _{4}*\\frac{expendA}{(expendA+expendB)^2} $ is the derivative of the formula above for $ B_{2} $."
   ]
  }
 ],
 "metadata": {
  "kernelspec": {
   "display_name": "Python 3 (ipykernel)",
   "language": "python",
   "name": "python3"
  },
  "language_info": {
   "codemirror_mode": {
    "name": "ipython",
    "version": 3
   },
   "file_extension": ".py",
   "mimetype": "text/x-python",
   "name": "python",
   "nbconvert_exporter": "python",
   "pygments_lexer": "ipython3",
   "version": "3.9.12"
  }
 },
 "nbformat": 4,
 "nbformat_minor": 5
}
