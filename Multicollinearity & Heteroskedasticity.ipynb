{
 "cells": [
  {
   "cell_type": "markdown",
   "id": "36981b7c",
   "metadata": {},
   "source": [
    "# 4"
   ]
  },
  {
   "cell_type": "code",
   "execution_count": 2,
   "id": "5e75d9a9",
   "metadata": {},
   "outputs": [],
   "source": [
    "import pandas as pd\n",
    "import numpy as np\n",
    "import wooldridge as woo\n",
    "import matplotlib.pyplot as plt\n",
    "import seaborn as sns\n",
    "import scipy.stats as stats\n",
    "import statsmodels.formula.api as smf\n",
    "import statsmodels.stats.api as sms\n",
    "import scipy.stats\n",
    "import numpy.ma as ma\n",
    "import patsy as pt\n",
    "import statsmodels.stats.outliers_influence as smo\n",
    "import statsmodels.api as sm\n",
    "from simple_colors import *\n",
    "from RegscorePy import mallow\n",
    "from sklearn.model_selection import KFold\n",
    "import warnings "
   ]
  },
  {
   "cell_type": "markdown",
   "id": "737c5028",
   "metadata": {},
   "source": [
    "## PART 1"
   ]
  },
  {
   "cell_type": "markdown",
   "id": "32e88623",
   "metadata": {},
   "source": [
    "### Use the data in DISCRIM from wooldridge to answer this question."
   ]
  },
  {
   "cell_type": "code",
   "execution_count": 3,
   "id": "9319d99e",
   "metadata": {},
   "outputs": [
    {
     "data": {
      "text/html": [
       "<div>\n",
       "<style scoped>\n",
       "    .dataframe tbody tr th:only-of-type {\n",
       "        vertical-align: middle;\n",
       "    }\n",
       "\n",
       "    .dataframe tbody tr th {\n",
       "        vertical-align: top;\n",
       "    }\n",
       "\n",
       "    .dataframe thead th {\n",
       "        text-align: right;\n",
       "    }\n",
       "</style>\n",
       "<table border=\"1\" class=\"dataframe\">\n",
       "  <thead>\n",
       "    <tr style=\"text-align: right;\">\n",
       "      <th></th>\n",
       "      <th>psoda</th>\n",
       "      <th>pfries</th>\n",
       "      <th>pentree</th>\n",
       "      <th>wagest</th>\n",
       "      <th>nmgrs</th>\n",
       "      <th>nregs</th>\n",
       "      <th>hrsopen</th>\n",
       "      <th>emp</th>\n",
       "      <th>psoda2</th>\n",
       "      <th>pfries2</th>\n",
       "      <th>...</th>\n",
       "      <th>county</th>\n",
       "      <th>lpsoda</th>\n",
       "      <th>lpfries</th>\n",
       "      <th>lhseval</th>\n",
       "      <th>lincome</th>\n",
       "      <th>ldensity</th>\n",
       "      <th>NJ</th>\n",
       "      <th>BK</th>\n",
       "      <th>KFC</th>\n",
       "      <th>RR</th>\n",
       "    </tr>\n",
       "  </thead>\n",
       "  <tbody>\n",
       "    <tr>\n",
       "      <th>0</th>\n",
       "      <td>1.12</td>\n",
       "      <td>1.06</td>\n",
       "      <td>1.02</td>\n",
       "      <td>4.25</td>\n",
       "      <td>3.0</td>\n",
       "      <td>5.0</td>\n",
       "      <td>16.0</td>\n",
       "      <td>27.5</td>\n",
       "      <td>1.11</td>\n",
       "      <td>1.11</td>\n",
       "      <td>...</td>\n",
       "      <td>18</td>\n",
       "      <td>0.113329</td>\n",
       "      <td>0.058269</td>\n",
       "      <td>11.906993</td>\n",
       "      <td>10.704008</td>\n",
       "      <td>8.301521</td>\n",
       "      <td>1</td>\n",
       "      <td>0</td>\n",
       "      <td>0</td>\n",
       "      <td>1</td>\n",
       "    </tr>\n",
       "    <tr>\n",
       "      <th>1</th>\n",
       "      <td>1.06</td>\n",
       "      <td>0.91</td>\n",
       "      <td>0.95</td>\n",
       "      <td>4.75</td>\n",
       "      <td>3.0</td>\n",
       "      <td>3.0</td>\n",
       "      <td>16.5</td>\n",
       "      <td>21.5</td>\n",
       "      <td>1.05</td>\n",
       "      <td>0.89</td>\n",
       "      <td>...</td>\n",
       "      <td>18</td>\n",
       "      <td>0.058269</td>\n",
       "      <td>-0.094311</td>\n",
       "      <td>11.906993</td>\n",
       "      <td>10.704008</td>\n",
       "      <td>8.301521</td>\n",
       "      <td>1</td>\n",
       "      <td>1</td>\n",
       "      <td>0</td>\n",
       "      <td>0</td>\n",
       "    </tr>\n",
       "    <tr>\n",
       "      <th>2</th>\n",
       "      <td>1.06</td>\n",
       "      <td>0.91</td>\n",
       "      <td>0.98</td>\n",
       "      <td>4.25</td>\n",
       "      <td>3.0</td>\n",
       "      <td>5.0</td>\n",
       "      <td>18.0</td>\n",
       "      <td>30.0</td>\n",
       "      <td>1.05</td>\n",
       "      <td>0.94</td>\n",
       "      <td>...</td>\n",
       "      <td>12</td>\n",
       "      <td>0.058269</td>\n",
       "      <td>-0.094311</td>\n",
       "      <td>12.038836</td>\n",
       "      <td>10.625319</td>\n",
       "      <td>9.341369</td>\n",
       "      <td>1</td>\n",
       "      <td>1</td>\n",
       "      <td>0</td>\n",
       "      <td>0</td>\n",
       "    </tr>\n",
       "    <tr>\n",
       "      <th>3</th>\n",
       "      <td>1.12</td>\n",
       "      <td>1.02</td>\n",
       "      <td>1.06</td>\n",
       "      <td>5.00</td>\n",
       "      <td>4.0</td>\n",
       "      <td>5.0</td>\n",
       "      <td>16.0</td>\n",
       "      <td>27.5</td>\n",
       "      <td>1.15</td>\n",
       "      <td>1.05</td>\n",
       "      <td>...</td>\n",
       "      <td>10</td>\n",
       "      <td>0.113329</td>\n",
       "      <td>0.019803</td>\n",
       "      <td>12.052921</td>\n",
       "      <td>10.827071</td>\n",
       "      <td>9.029418</td>\n",
       "      <td>1</td>\n",
       "      <td>0</td>\n",
       "      <td>0</td>\n",
       "      <td>1</td>\n",
       "    </tr>\n",
       "    <tr>\n",
       "      <th>4</th>\n",
       "      <td>1.12</td>\n",
       "      <td>NaN</td>\n",
       "      <td>0.49</td>\n",
       "      <td>5.00</td>\n",
       "      <td>3.0</td>\n",
       "      <td>3.0</td>\n",
       "      <td>16.0</td>\n",
       "      <td>5.0</td>\n",
       "      <td>1.04</td>\n",
       "      <td>1.01</td>\n",
       "      <td>...</td>\n",
       "      <td>10</td>\n",
       "      <td>0.113329</td>\n",
       "      <td>NaN</td>\n",
       "      <td>12.425610</td>\n",
       "      <td>11.188399</td>\n",
       "      <td>6.579251</td>\n",
       "      <td>1</td>\n",
       "      <td>1</td>\n",
       "      <td>0</td>\n",
       "      <td>0</td>\n",
       "    </tr>\n",
       "  </tbody>\n",
       "</table>\n",
       "<p>5 rows × 37 columns</p>\n",
       "</div>"
      ],
      "text/plain": [
       "   psoda  pfries  pentree  wagest  nmgrs  nregs  hrsopen   emp  psoda2  \\\n",
       "0   1.12    1.06     1.02    4.25    3.0    5.0     16.0  27.5    1.11   \n",
       "1   1.06    0.91     0.95    4.75    3.0    3.0     16.5  21.5    1.05   \n",
       "2   1.06    0.91     0.98    4.25    3.0    5.0     18.0  30.0    1.05   \n",
       "3   1.12    1.02     1.06    5.00    4.0    5.0     16.0  27.5    1.15   \n",
       "4   1.12     NaN     0.49    5.00    3.0    3.0     16.0   5.0    1.04   \n",
       "\n",
       "   pfries2  ...  county    lpsoda   lpfries    lhseval    lincome  ldensity  \\\n",
       "0     1.11  ...      18  0.113329  0.058269  11.906993  10.704008  8.301521   \n",
       "1     0.89  ...      18  0.058269 -0.094311  11.906993  10.704008  8.301521   \n",
       "2     0.94  ...      12  0.058269 -0.094311  12.038836  10.625319  9.341369   \n",
       "3     1.05  ...      10  0.113329  0.019803  12.052921  10.827071  9.029418   \n",
       "4     1.01  ...      10  0.113329       NaN  12.425610  11.188399  6.579251   \n",
       "\n",
       "   NJ  BK  KFC  RR  \n",
       "0   1   0    0   1  \n",
       "1   1   1    0   0  \n",
       "2   1   1    0   0  \n",
       "3   1   0    0   1  \n",
       "4   1   1    0   0  \n",
       "\n",
       "[5 rows x 37 columns]"
      ]
     },
     "execution_count": 3,
     "metadata": {},
     "output_type": "execute_result"
    }
   ],
   "source": [
    "disc = woo.data(\"DISCRIM\")\n",
    "disc.head()"
   ]
  },
  {
   "cell_type": "code",
   "execution_count": 4,
   "id": "be4ffc76",
   "metadata": {},
   "outputs": [
    {
     "data": {
      "text/html": [
       "<div>\n",
       "<style scoped>\n",
       "    .dataframe tbody tr th:only-of-type {\n",
       "        vertical-align: middle;\n",
       "    }\n",
       "\n",
       "    .dataframe tbody tr th {\n",
       "        vertical-align: top;\n",
       "    }\n",
       "\n",
       "    .dataframe thead th {\n",
       "        text-align: right;\n",
       "    }\n",
       "</style>\n",
       "<table border=\"1\" class=\"dataframe\">\n",
       "  <thead>\n",
       "    <tr style=\"text-align: right;\">\n",
       "      <th></th>\n",
       "      <th>psoda</th>\n",
       "      <th>pfries</th>\n",
       "      <th>pentree</th>\n",
       "      <th>wagest</th>\n",
       "      <th>nmgrs</th>\n",
       "      <th>nregs</th>\n",
       "      <th>hrsopen</th>\n",
       "      <th>emp</th>\n",
       "      <th>psoda2</th>\n",
       "      <th>pfries2</th>\n",
       "      <th>...</th>\n",
       "      <th>county</th>\n",
       "      <th>lpsoda</th>\n",
       "      <th>lpfries</th>\n",
       "      <th>lhseval</th>\n",
       "      <th>lincome</th>\n",
       "      <th>ldensity</th>\n",
       "      <th>NJ</th>\n",
       "      <th>BK</th>\n",
       "      <th>KFC</th>\n",
       "      <th>RR</th>\n",
       "    </tr>\n",
       "  </thead>\n",
       "  <tbody>\n",
       "    <tr>\n",
       "      <th>count</th>\n",
       "      <td>402.000000</td>\n",
       "      <td>393.000000</td>\n",
       "      <td>398.000000</td>\n",
       "      <td>390.000000</td>\n",
       "      <td>404.000000</td>\n",
       "      <td>388.000000</td>\n",
       "      <td>410.000000</td>\n",
       "      <td>404.000000</td>\n",
       "      <td>388.000000</td>\n",
       "      <td>382.000000</td>\n",
       "      <td>...</td>\n",
       "      <td>410.000000</td>\n",
       "      <td>402.000000</td>\n",
       "      <td>393.000000</td>\n",
       "      <td>409.000000</td>\n",
       "      <td>409.000000</td>\n",
       "      <td>409.000000</td>\n",
       "      <td>410.000000</td>\n",
       "      <td>410.000000</td>\n",
       "      <td>410.000000</td>\n",
       "      <td>410.000000</td>\n",
       "    </tr>\n",
       "    <tr>\n",
       "      <th>mean</th>\n",
       "      <td>1.044876</td>\n",
       "      <td>0.921985</td>\n",
       "      <td>1.322186</td>\n",
       "      <td>4.615641</td>\n",
       "      <td>3.420297</td>\n",
       "      <td>3.608247</td>\n",
       "      <td>14.439024</td>\n",
       "      <td>17.621906</td>\n",
       "      <td>1.044948</td>\n",
       "      <td>0.941230</td>\n",
       "      <td>...</td>\n",
       "      <td>13.658537</td>\n",
       "      <td>0.040321</td>\n",
       "      <td>-0.087813</td>\n",
       "      <td>11.828533</td>\n",
       "      <td>10.719937</td>\n",
       "      <td>7.958750</td>\n",
       "      <td>0.807317</td>\n",
       "      <td>0.417073</td>\n",
       "      <td>0.195122</td>\n",
       "      <td>0.241463</td>\n",
       "    </tr>\n",
       "    <tr>\n",
       "      <th>std</th>\n",
       "      <td>0.088687</td>\n",
       "      <td>0.105881</td>\n",
       "      <td>0.643084</td>\n",
       "      <td>0.347015</td>\n",
       "      <td>1.018408</td>\n",
       "      <td>1.243540</td>\n",
       "      <td>2.809987</td>\n",
       "      <td>9.423264</td>\n",
       "      <td>0.093567</td>\n",
       "      <td>0.109304</td>\n",
       "      <td>...</td>\n",
       "      <td>8.045439</td>\n",
       "      <td>0.084730</td>\n",
       "      <td>0.115152</td>\n",
       "      <td>0.389349</td>\n",
       "      <td>0.284479</td>\n",
       "      <td>0.995858</td>\n",
       "      <td>0.394888</td>\n",
       "      <td>0.493678</td>\n",
       "      <td>0.396779</td>\n",
       "      <td>0.428493</td>\n",
       "    </tr>\n",
       "    <tr>\n",
       "      <th>min</th>\n",
       "      <td>0.730000</td>\n",
       "      <td>0.670000</td>\n",
       "      <td>0.490000</td>\n",
       "      <td>4.250000</td>\n",
       "      <td>1.000000</td>\n",
       "      <td>1.000000</td>\n",
       "      <td>7.000000</td>\n",
       "      <td>3.000000</td>\n",
       "      <td>0.410000</td>\n",
       "      <td>0.690000</td>\n",
       "      <td>...</td>\n",
       "      <td>1.000000</td>\n",
       "      <td>-0.314711</td>\n",
       "      <td>-0.400478</td>\n",
       "      <td>10.431170</td>\n",
       "      <td>9.675268</td>\n",
       "      <td>5.093750</td>\n",
       "      <td>0.000000</td>\n",
       "      <td>0.000000</td>\n",
       "      <td>0.000000</td>\n",
       "      <td>0.000000</td>\n",
       "    </tr>\n",
       "    <tr>\n",
       "      <th>25%</th>\n",
       "      <td>0.980000</td>\n",
       "      <td>0.850000</td>\n",
       "      <td>0.950000</td>\n",
       "      <td>4.250000</td>\n",
       "      <td>3.000000</td>\n",
       "      <td>3.000000</td>\n",
       "      <td>12.000000</td>\n",
       "      <td>11.375000</td>\n",
       "      <td>1.000000</td>\n",
       "      <td>0.840000</td>\n",
       "      <td>...</td>\n",
       "      <td>6.000000</td>\n",
       "      <td>-0.020203</td>\n",
       "      <td>-0.162519</td>\n",
       "      <td>11.588960</td>\n",
       "      <td>10.542257</td>\n",
       "      <td>7.418181</td>\n",
       "      <td>1.000000</td>\n",
       "      <td>0.000000</td>\n",
       "      <td>0.000000</td>\n",
       "      <td>0.000000</td>\n",
       "    </tr>\n",
       "    <tr>\n",
       "      <th>50%</th>\n",
       "      <td>1.060000</td>\n",
       "      <td>0.930000</td>\n",
       "      <td>1.020000</td>\n",
       "      <td>4.500000</td>\n",
       "      <td>3.000000</td>\n",
       "      <td>3.000000</td>\n",
       "      <td>15.500000</td>\n",
       "      <td>16.375000</td>\n",
       "      <td>1.050000</td>\n",
       "      <td>0.940000</td>\n",
       "      <td>...</td>\n",
       "      <td>14.000000</td>\n",
       "      <td>0.058269</td>\n",
       "      <td>-0.072571</td>\n",
       "      <td>11.865693</td>\n",
       "      <td>10.742292</td>\n",
       "      <td>7.961370</td>\n",
       "      <td>1.000000</td>\n",
       "      <td>0.000000</td>\n",
       "      <td>0.000000</td>\n",
       "      <td>0.000000</td>\n",
       "    </tr>\n",
       "    <tr>\n",
       "      <th>75%</th>\n",
       "      <td>1.085000</td>\n",
       "      <td>1.000000</td>\n",
       "      <td>1.470000</td>\n",
       "      <td>4.950000</td>\n",
       "      <td>4.000000</td>\n",
       "      <td>4.000000</td>\n",
       "      <td>16.000000</td>\n",
       "      <td>21.000000</td>\n",
       "      <td>1.102500</td>\n",
       "      <td>1.010000</td>\n",
       "      <td>...</td>\n",
       "      <td>20.000000</td>\n",
       "      <td>0.081548</td>\n",
       "      <td>0.000000</td>\n",
       "      <td>12.082774</td>\n",
       "      <td>10.914743</td>\n",
       "      <td>8.641179</td>\n",
       "      <td>1.000000</td>\n",
       "      <td>1.000000</td>\n",
       "      <td>0.000000</td>\n",
       "      <td>0.000000</td>\n",
       "    </tr>\n",
       "    <tr>\n",
       "      <th>max</th>\n",
       "      <td>1.490000</td>\n",
       "      <td>1.270000</td>\n",
       "      <td>3.950000</td>\n",
       "      <td>5.750000</td>\n",
       "      <td>10.000000</td>\n",
       "      <td>8.000000</td>\n",
       "      <td>24.000000</td>\n",
       "      <td>80.000000</td>\n",
       "      <td>1.400000</td>\n",
       "      <td>1.370000</td>\n",
       "      <td>...</td>\n",
       "      <td>29.000000</td>\n",
       "      <td>0.398776</td>\n",
       "      <td>0.239017</td>\n",
       "      <td>13.067696</td>\n",
       "      <td>11.824292</td>\n",
       "      <td>10.631929</td>\n",
       "      <td>1.000000</td>\n",
       "      <td>1.000000</td>\n",
       "      <td>1.000000</td>\n",
       "      <td>1.000000</td>\n",
       "    </tr>\n",
       "  </tbody>\n",
       "</table>\n",
       "<p>8 rows × 37 columns</p>\n",
       "</div>"
      ],
      "text/plain": [
       "            psoda      pfries     pentree      wagest       nmgrs       nregs  \\\n",
       "count  402.000000  393.000000  398.000000  390.000000  404.000000  388.000000   \n",
       "mean     1.044876    0.921985    1.322186    4.615641    3.420297    3.608247   \n",
       "std      0.088687    0.105881    0.643084    0.347015    1.018408    1.243540   \n",
       "min      0.730000    0.670000    0.490000    4.250000    1.000000    1.000000   \n",
       "25%      0.980000    0.850000    0.950000    4.250000    3.000000    3.000000   \n",
       "50%      1.060000    0.930000    1.020000    4.500000    3.000000    3.000000   \n",
       "75%      1.085000    1.000000    1.470000    4.950000    4.000000    4.000000   \n",
       "max      1.490000    1.270000    3.950000    5.750000   10.000000    8.000000   \n",
       "\n",
       "          hrsopen         emp      psoda2     pfries2  ...      county  \\\n",
       "count  410.000000  404.000000  388.000000  382.000000  ...  410.000000   \n",
       "mean    14.439024   17.621906    1.044948    0.941230  ...   13.658537   \n",
       "std      2.809987    9.423264    0.093567    0.109304  ...    8.045439   \n",
       "min      7.000000    3.000000    0.410000    0.690000  ...    1.000000   \n",
       "25%     12.000000   11.375000    1.000000    0.840000  ...    6.000000   \n",
       "50%     15.500000   16.375000    1.050000    0.940000  ...   14.000000   \n",
       "75%     16.000000   21.000000    1.102500    1.010000  ...   20.000000   \n",
       "max     24.000000   80.000000    1.400000    1.370000  ...   29.000000   \n",
       "\n",
       "           lpsoda     lpfries     lhseval     lincome    ldensity          NJ  \\\n",
       "count  402.000000  393.000000  409.000000  409.000000  409.000000  410.000000   \n",
       "mean     0.040321   -0.087813   11.828533   10.719937    7.958750    0.807317   \n",
       "std      0.084730    0.115152    0.389349    0.284479    0.995858    0.394888   \n",
       "min     -0.314711   -0.400478   10.431170    9.675268    5.093750    0.000000   \n",
       "25%     -0.020203   -0.162519   11.588960   10.542257    7.418181    1.000000   \n",
       "50%      0.058269   -0.072571   11.865693   10.742292    7.961370    1.000000   \n",
       "75%      0.081548    0.000000   12.082774   10.914743    8.641179    1.000000   \n",
       "max      0.398776    0.239017   13.067696   11.824292   10.631929    1.000000   \n",
       "\n",
       "               BK         KFC          RR  \n",
       "count  410.000000  410.000000  410.000000  \n",
       "mean     0.417073    0.195122    0.241463  \n",
       "std      0.493678    0.396779    0.428493  \n",
       "min      0.000000    0.000000    0.000000  \n",
       "25%      0.000000    0.000000    0.000000  \n",
       "50%      0.000000    0.000000    0.000000  \n",
       "75%      1.000000    0.000000    0.000000  \n",
       "max      1.000000    1.000000    1.000000  \n",
       "\n",
       "[8 rows x 37 columns]"
      ]
     },
     "execution_count": 4,
     "metadata": {},
     "output_type": "execute_result"
    }
   ],
   "source": [
    "disc.describe()"
   ]
  },
  {
   "cell_type": "code",
   "execution_count": 5,
   "id": "dbccf970",
   "metadata": {},
   "outputs": [
    {
     "data": {
      "text/plain": [
       "psoda        8\n",
       "pfries      17\n",
       "pentree     12\n",
       "wagest      20\n",
       "nmgrs        6\n",
       "nregs       22\n",
       "hrsopen      0\n",
       "emp          6\n",
       "psoda2      22\n",
       "pfries2     28\n",
       "pentree2    24\n",
       "wagest2     21\n",
       "nmgrs2       6\n",
       "nregs2      22\n",
       "hrsopen2    11\n",
       "emp2        13\n",
       "compown      0\n",
       "chain        0\n",
       "density      1\n",
       "crmrte       1\n",
       "state        0\n",
       "prpblck      1\n",
       "prppov       1\n",
       "prpncar      1\n",
       "hseval       1\n",
       "nstores      0\n",
       "income       1\n",
       "county       0\n",
       "lpsoda       8\n",
       "lpfries     17\n",
       "lhseval      1\n",
       "lincome      1\n",
       "ldensity     1\n",
       "NJ           0\n",
       "BK           0\n",
       "KFC          0\n",
       "RR           0\n",
       "dtype: int64"
      ]
     },
     "execution_count": 5,
     "metadata": {},
     "output_type": "execute_result"
    }
   ],
   "source": [
    "disc.isnull().sum()"
   ]
  },
  {
   "cell_type": "markdown",
   "id": "92080c4b",
   "metadata": {},
   "source": [
    "### Estimate the regression model $ log(psoda) = β_{0} + β_{1}prpblck + β_{2}log(income) + β_{3}prppov + u $  and report the results in the usual form. Is $ β_{1} $ statistically different from zero at the 5% level against a two-sided alternative? What about at the 1% level?\n"
   ]
  },
  {
   "cell_type": "code",
   "execution_count": 6,
   "id": "890a55bb",
   "metadata": {},
   "outputs": [
    {
     "data": {
      "text/html": [
       "<table class=\"simpletable\">\n",
       "<caption>OLS Regression Results</caption>\n",
       "<tr>\n",
       "  <th>Dep. Variable:</th>      <td>np.log(psoda)</td>  <th>  R-squared:         </th> <td>   0.087</td>\n",
       "</tr>\n",
       "<tr>\n",
       "  <th>Model:</th>                   <td>OLS</td>       <th>  Adj. R-squared:    </th> <td>   0.080</td>\n",
       "</tr>\n",
       "<tr>\n",
       "  <th>Method:</th>             <td>Least Squares</td>  <th>  F-statistic:       </th> <td>   12.60</td>\n",
       "</tr>\n",
       "<tr>\n",
       "  <th>Date:</th>             <td>Fri, 18 Nov 2022</td> <th>  Prob (F-statistic):</th> <td>6.92e-08</td>\n",
       "</tr>\n",
       "<tr>\n",
       "  <th>Time:</th>                 <td>18:50:44</td>     <th>  Log-Likelihood:    </th> <td>  439.04</td>\n",
       "</tr>\n",
       "<tr>\n",
       "  <th>No. Observations:</th>      <td>   401</td>      <th>  AIC:               </th> <td>  -870.1</td>\n",
       "</tr>\n",
       "<tr>\n",
       "  <th>Df Residuals:</th>          <td>   397</td>      <th>  BIC:               </th> <td>  -854.1</td>\n",
       "</tr>\n",
       "<tr>\n",
       "  <th>Df Model:</th>              <td>     3</td>      <th>                     </th>     <td> </td>   \n",
       "</tr>\n",
       "<tr>\n",
       "  <th>Covariance Type:</th>      <td>nonrobust</td>    <th>                     </th>     <td> </td>   \n",
       "</tr>\n",
       "</table>\n",
       "<table class=\"simpletable\">\n",
       "<tr>\n",
       "         <td></td>           <th>coef</th>     <th>std err</th>      <th>t</th>      <th>P>|t|</th>  <th>[0.025</th>    <th>0.975]</th>  \n",
       "</tr>\n",
       "<tr>\n",
       "  <th>Intercept</th>      <td>   -1.4633</td> <td>    0.294</td> <td>   -4.982</td> <td> 0.000</td> <td>   -2.041</td> <td>   -0.886</td>\n",
       "</tr>\n",
       "<tr>\n",
       "  <th>prpblck</th>        <td>    0.0728</td> <td>    0.031</td> <td>    2.373</td> <td> 0.018</td> <td>    0.013</td> <td>    0.133</td>\n",
       "</tr>\n",
       "<tr>\n",
       "  <th>np.log(income)</th> <td>    0.1370</td> <td>    0.027</td> <td>    5.119</td> <td> 0.000</td> <td>    0.084</td> <td>    0.190</td>\n",
       "</tr>\n",
       "<tr>\n",
       "  <th>prppov</th>         <td>    0.3804</td> <td>    0.133</td> <td>    2.864</td> <td> 0.004</td> <td>    0.119</td> <td>    0.641</td>\n",
       "</tr>\n",
       "</table>\n",
       "<table class=\"simpletable\">\n",
       "<tr>\n",
       "  <th>Omnibus:</th>       <td>12.002</td> <th>  Durbin-Watson:     </th> <td>   1.727</td>\n",
       "</tr>\n",
       "<tr>\n",
       "  <th>Prob(Omnibus):</th> <td> 0.002</td> <th>  Jarque-Bera (JB):  </th> <td>  24.056</td>\n",
       "</tr>\n",
       "<tr>\n",
       "  <th>Skew:</th>          <td>-0.014</td> <th>  Prob(JB):          </th> <td>5.97e-06</td>\n",
       "</tr>\n",
       "<tr>\n",
       "  <th>Kurtosis:</th>      <td> 4.200</td> <th>  Cond. No.          </th> <td>    834.</td>\n",
       "</tr>\n",
       "</table><br/><br/>Notes:<br/>[1] Standard Errors assume that the covariance matrix of the errors is correctly specified."
      ],
      "text/plain": [
       "<class 'statsmodels.iolib.summary.Summary'>\n",
       "\"\"\"\n",
       "                            OLS Regression Results                            \n",
       "==============================================================================\n",
       "Dep. Variable:          np.log(psoda)   R-squared:                       0.087\n",
       "Model:                            OLS   Adj. R-squared:                  0.080\n",
       "Method:                 Least Squares   F-statistic:                     12.60\n",
       "Date:                Fri, 18 Nov 2022   Prob (F-statistic):           6.92e-08\n",
       "Time:                        18:50:44   Log-Likelihood:                 439.04\n",
       "No. Observations:                 401   AIC:                            -870.1\n",
       "Df Residuals:                     397   BIC:                            -854.1\n",
       "Df Model:                           3                                         \n",
       "Covariance Type:            nonrobust                                         \n",
       "==================================================================================\n",
       "                     coef    std err          t      P>|t|      [0.025      0.975]\n",
       "----------------------------------------------------------------------------------\n",
       "Intercept         -1.4633      0.294     -4.982      0.000      -2.041      -0.886\n",
       "prpblck            0.0728      0.031      2.373      0.018       0.013       0.133\n",
       "np.log(income)     0.1370      0.027      5.119      0.000       0.084       0.190\n",
       "prppov             0.3804      0.133      2.864      0.004       0.119       0.641\n",
       "==============================================================================\n",
       "Omnibus:                       12.002   Durbin-Watson:                   1.727\n",
       "Prob(Omnibus):                  0.002   Jarque-Bera (JB):               24.056\n",
       "Skew:                          -0.014   Prob(JB):                     5.97e-06\n",
       "Kurtosis:                       4.200   Cond. No.                         834.\n",
       "==============================================================================\n",
       "\n",
       "Notes:\n",
       "[1] Standard Errors assume that the covariance matrix of the errors is correctly specified.\n",
       "\"\"\""
      ]
     },
     "execution_count": 6,
     "metadata": {},
     "output_type": "execute_result"
    }
   ],
   "source": [
    "result = smf.ols('np.log(psoda) ~ prpblck + np.log(income) + prppov', disc).fit()\n",
    "result.summary()"
   ]
  },
  {
   "cell_type": "markdown",
   "id": "5703180b",
   "metadata": {},
   "source": [
    "The p-value for $ B_{1} $ is 0.018. Therefore, $ B_{1} $ is statistically different from 0 at the 5% level, yet not at the 1% level."
   ]
  },
  {
   "cell_type": "markdown",
   "id": "1ce8a490",
   "metadata": {},
   "source": [
    "### What is the correlation between $ log(income) $ and $ prppov $? VIF? Is each variable statistically significant in any case? Report the two-sided p-values."
   ]
  },
  {
   "cell_type": "code",
   "execution_count": 7,
   "id": "5a5b8b26",
   "metadata": {},
   "outputs": [
    {
     "name": "stdout",
     "output_type": "stream",
     "text": [
      "[[1.0 -0.8384669733579039]\n",
      " [-0.8384669733579039 1.0]]\n"
     ]
    }
   ],
   "source": [
    "print(ma.corrcoef(ma.masked_invalid(np.log(disc.income)), ma.masked_invalid(disc.prppov)))"
   ]
  },
  {
   "cell_type": "markdown",
   "id": "93e06f47",
   "metadata": {},
   "source": [
    "The correlation coefficient between $ log(income) $ and $ prppov $ is -0.838, suggesting multicollinearity between the two variables. "
   ]
  },
  {
   "cell_type": "code",
   "execution_count": 8,
   "id": "4d97018b",
   "metadata": {},
   "outputs": [
    {
     "name": "stdout",
     "output_type": "stream",
     "text": [
      "VIF: \n",
      "[5.22495302e+03 1.92215952e+00 3.51872083e+00 4.91521981e+00]\n",
      "\n"
     ]
    }
   ],
   "source": [
    "y, X = pt.dmatrices('np.log(psoda) ~ prpblck + np.log(income) + prppov',\n",
    "                    data=disc, return_type='dataframe')\n",
    "\n",
    "K = X.shape[1]\n",
    "VIF = np.empty(K)\n",
    "for i in range(K):\n",
    "    VIF[i] = smo.variance_inflation_factor(X.values, i)\n",
    "print(f'VIF: \\n{VIF}\\n')"
   ]
  },
  {
   "cell_type": "markdown",
   "id": "b2e2bc96",
   "metadata": {},
   "source": [
    "Moreover, $ prppov $ is beyond the VIF treshold set at 4, suggesting again multicollinearity."
   ]
  },
  {
   "cell_type": "code",
   "execution_count": 9,
   "id": "5f8da798",
   "metadata": {},
   "outputs": [
    {
     "name": "stdout",
     "output_type": "stream",
     "text": [
      "The p-value for log(income) is: 4.802040557260267e-07\n",
      "The p-value for prppov is: 0.004400360031387504\n"
     ]
    }
   ],
   "source": [
    "print(\"The p-value for log(income) is:\", result.pvalues[2])\n",
    "print(\"The p-value for prppov is:\", result.pvalues[3])"
   ]
  },
  {
   "cell_type": "markdown",
   "id": "cea6a4e4",
   "metadata": {},
   "source": [
    "However, the p-values for the two variables suggest that both $ log(income) $ and $ prppov $ are statistically significant."
   ]
  },
  {
   "cell_type": "markdown",
   "id": "bf1d3f61",
   "metadata": {},
   "source": [
    "### To the regression in part (a), add the variable log(hseval). Interpret its coefficient and report the two-sided p-value for $ H_{0} : βlog(hseval) = 0 $."
   ]
  },
  {
   "cell_type": "code",
   "execution_count": 10,
   "id": "bbb908af",
   "metadata": {},
   "outputs": [
    {
     "data": {
      "text/html": [
       "<table class=\"simpletable\">\n",
       "<caption>OLS Regression Results</caption>\n",
       "<tr>\n",
       "  <th>Dep. Variable:</th>      <td>np.log(psoda)</td>  <th>  R-squared:         </th> <td>   0.184</td>\n",
       "</tr>\n",
       "<tr>\n",
       "  <th>Model:</th>                   <td>OLS</td>       <th>  Adj. R-squared:    </th> <td>   0.176</td>\n",
       "</tr>\n",
       "<tr>\n",
       "  <th>Method:</th>             <td>Least Squares</td>  <th>  F-statistic:       </th> <td>   22.31</td>\n",
       "</tr>\n",
       "<tr>\n",
       "  <th>Date:</th>             <td>Fri, 18 Nov 2022</td> <th>  Prob (F-statistic):</th> <td>1.24e-16</td>\n",
       "</tr>\n",
       "<tr>\n",
       "  <th>Time:</th>                 <td>18:50:44</td>     <th>  Log-Likelihood:    </th> <td>  461.55</td>\n",
       "</tr>\n",
       "<tr>\n",
       "  <th>No. Observations:</th>      <td>   401</td>      <th>  AIC:               </th> <td>  -913.1</td>\n",
       "</tr>\n",
       "<tr>\n",
       "  <th>Df Residuals:</th>          <td>   396</td>      <th>  BIC:               </th> <td>  -893.1</td>\n",
       "</tr>\n",
       "<tr>\n",
       "  <th>Df Model:</th>              <td>     4</td>      <th>                     </th>     <td> </td>   \n",
       "</tr>\n",
       "<tr>\n",
       "  <th>Covariance Type:</th>      <td>nonrobust</td>    <th>                     </th>     <td> </td>   \n",
       "</tr>\n",
       "</table>\n",
       "<table class=\"simpletable\">\n",
       "<tr>\n",
       "         <td></td>           <th>coef</th>     <th>std err</th>      <th>t</th>      <th>P>|t|</th>  <th>[0.025</th>    <th>0.975]</th>  \n",
       "</tr>\n",
       "<tr>\n",
       "  <th>Intercept</th>      <td>   -0.8415</td> <td>    0.292</td> <td>   -2.878</td> <td> 0.004</td> <td>   -1.416</td> <td>   -0.267</td>\n",
       "</tr>\n",
       "<tr>\n",
       "  <th>prpblck</th>        <td>    0.0976</td> <td>    0.029</td> <td>    3.334</td> <td> 0.001</td> <td>    0.040</td> <td>    0.155</td>\n",
       "</tr>\n",
       "<tr>\n",
       "  <th>np.log(income)</th> <td>   -0.0530</td> <td>    0.038</td> <td>   -1.412</td> <td> 0.159</td> <td>   -0.127</td> <td>    0.021</td>\n",
       "</tr>\n",
       "<tr>\n",
       "  <th>prppov</th>         <td>    0.0521</td> <td>    0.134</td> <td>    0.388</td> <td> 0.699</td> <td>   -0.212</td> <td>    0.317</td>\n",
       "</tr>\n",
       "<tr>\n",
       "  <th>np.log(hseval)</th> <td>    0.1213</td> <td>    0.018</td> <td>    6.860</td> <td> 0.000</td> <td>    0.087</td> <td>    0.156</td>\n",
       "</tr>\n",
       "</table>\n",
       "<table class=\"simpletable\">\n",
       "<tr>\n",
       "  <th>Omnibus:</th>       <td>16.452</td> <th>  Durbin-Watson:     </th> <td>   1.973</td>\n",
       "</tr>\n",
       "<tr>\n",
       "  <th>Prob(Omnibus):</th> <td> 0.000</td> <th>  Jarque-Bera (JB):  </th> <td>  40.077</td>\n",
       "</tr>\n",
       "<tr>\n",
       "  <th>Skew:</th>          <td>-0.016</td> <th>  Prob(JB):          </th> <td>1.98e-09</td>\n",
       "</tr>\n",
       "<tr>\n",
       "  <th>Kurtosis:</th>      <td> 4.548</td> <th>  Cond. No.          </th> <td>1.31e+03</td>\n",
       "</tr>\n",
       "</table><br/><br/>Notes:<br/>[1] Standard Errors assume that the covariance matrix of the errors is correctly specified.<br/>[2] The condition number is large, 1.31e+03. This might indicate that there are<br/>strong multicollinearity or other numerical problems."
      ],
      "text/plain": [
       "<class 'statsmodels.iolib.summary.Summary'>\n",
       "\"\"\"\n",
       "                            OLS Regression Results                            \n",
       "==============================================================================\n",
       "Dep. Variable:          np.log(psoda)   R-squared:                       0.184\n",
       "Model:                            OLS   Adj. R-squared:                  0.176\n",
       "Method:                 Least Squares   F-statistic:                     22.31\n",
       "Date:                Fri, 18 Nov 2022   Prob (F-statistic):           1.24e-16\n",
       "Time:                        18:50:44   Log-Likelihood:                 461.55\n",
       "No. Observations:                 401   AIC:                            -913.1\n",
       "Df Residuals:                     396   BIC:                            -893.1\n",
       "Df Model:                           4                                         \n",
       "Covariance Type:            nonrobust                                         \n",
       "==================================================================================\n",
       "                     coef    std err          t      P>|t|      [0.025      0.975]\n",
       "----------------------------------------------------------------------------------\n",
       "Intercept         -0.8415      0.292     -2.878      0.004      -1.416      -0.267\n",
       "prpblck            0.0976      0.029      3.334      0.001       0.040       0.155\n",
       "np.log(income)    -0.0530      0.038     -1.412      0.159      -0.127       0.021\n",
       "prppov             0.0521      0.134      0.388      0.699      -0.212       0.317\n",
       "np.log(hseval)     0.1213      0.018      6.860      0.000       0.087       0.156\n",
       "==============================================================================\n",
       "Omnibus:                       16.452   Durbin-Watson:                   1.973\n",
       "Prob(Omnibus):                  0.000   Jarque-Bera (JB):               40.077\n",
       "Skew:                          -0.016   Prob(JB):                     1.98e-09\n",
       "Kurtosis:                       4.548   Cond. No.                     1.31e+03\n",
       "==============================================================================\n",
       "\n",
       "Notes:\n",
       "[1] Standard Errors assume that the covariance matrix of the errors is correctly specified.\n",
       "[2] The condition number is large, 1.31e+03. This might indicate that there are\n",
       "strong multicollinearity or other numerical problems.\n",
       "\"\"\""
      ]
     },
     "execution_count": 10,
     "metadata": {},
     "output_type": "execute_result"
    }
   ],
   "source": [
    "result2 = smf.ols('np.log(psoda) ~ prpblck + np.log(income) + prppov + np.log(hseval)', disc).fit()\n",
    "result2.summary()"
   ]
  },
  {
   "cell_type": "code",
   "execution_count": 11,
   "id": "dce893d1",
   "metadata": {},
   "outputs": [
    {
     "name": "stdout",
     "output_type": "stream",
     "text": [
      "The p-value for log(hseval) is: 2.6681248076804145e-11\n"
     ]
    }
   ],
   "source": [
    "print(\"The p-value for log(hseval) is:\", result2.pvalues[4])"
   ]
  },
  {
   "cell_type": "markdown",
   "id": "f54200dd",
   "metadata": {},
   "source": [
    "The p-value for $ log(hseval) $ suggests that the variable is statistically significant."
   ]
  },
  {
   "cell_type": "markdown",
   "id": "bc9ecaf1",
   "metadata": {},
   "source": [
    "An increase of 1% in housing medial value increases the price of a medium soda by around 0.1213% - when the other variables are fixed."
   ]
  },
  {
   "cell_type": "markdown",
   "id": "8983dcc2",
   "metadata": {},
   "source": [
    "### In the regression in part (c), what happens to the individual statistical significance of $ log(income) $ and $ prppov $? Are these variables jointly significant? (Compute a p-value.) What do you make of your answers?"
   ]
  },
  {
   "cell_type": "code",
   "execution_count": 12,
   "id": "200f1253",
   "metadata": {},
   "outputs": [
    {
     "name": "stdout",
     "output_type": "stream",
     "text": [
      "The new p-value for log(income) is: 0.1587064623592347\n",
      "The new p-value for prppov is: 0.6985706123569336\n"
     ]
    }
   ],
   "source": [
    "print(\"The new p-value for log(income) is:\", result2.pvalues[2])\n",
    "print(\"The new p-value for prppov is:\", result2.pvalues[3])"
   ]
  },
  {
   "cell_type": "markdown",
   "id": "c73d2e03",
   "metadata": {},
   "source": [
    "Both $ log(income) $ and $ prppov $ are not statistically significant in the new model."
   ]
  },
  {
   "cell_type": "code",
   "execution_count": 13,
   "id": "b184ce4d",
   "metadata": {},
   "outputs": [
    {
     "data": {
      "text/plain": [
       "<class 'statsmodels.stats.contrast.ContrastResults'>\n",
       "<F test: F=3.522687204208135, p=0.030448537491840212, df_denom=396, df_num=2>"
      ]
     },
     "execution_count": 13,
     "metadata": {},
     "output_type": "execute_result"
    }
   ],
   "source": [
    "hypotheses = [\"np.log(income) = 0\", \"prppov = 0\"]\n",
    "result2.f_test(hypotheses) "
   ]
  },
  {
   "cell_type": "markdown",
   "id": "ab6d7ba6",
   "metadata": {},
   "source": [
    "However, as shown by the F-test, the two variables are jointly significant at the 5% level."
   ]
  },
  {
   "cell_type": "markdown",
   "id": "cc07d467",
   "metadata": {},
   "source": [
    "This can happen because $ log(income) $ and $ prppov $ are multicorrelated; they are individually insignificant but jointly significant."
   ]
  },
  {
   "cell_type": "markdown",
   "id": "3cbf64a7",
   "metadata": {},
   "source": [
    "### Given the results of the previous regressions, which one would you report as most reliable in determining whether the racial makeup of a zip code influences local fast-food prices?"
   ]
  },
  {
   "cell_type": "markdown",
   "id": "699a20b6",
   "metadata": {},
   "source": [
    "Given the result of both regression, I would expect model 2 to be more reliable in predicting the influence of racial makeup in fast-food prices. As a matter of fact, the second model contains more variables to explain the y-variable and has a better R squared. Even thought $ log(income) $ and $ prppov $ are multicorrelated and unsignificant, this should not be a concern for our prediction, also becuase they are jointly significant. "
   ]
  },
  {
   "cell_type": "code",
   "execution_count": 14,
   "id": "c32d2b04",
   "metadata": {},
   "outputs": [
    {
     "name": "stdout",
     "output_type": "stream",
     "text": [
      "AIC for model 1 is:  -870.0718830241235\n",
      "AIC for model 2 is:  -913.0952568304301\n"
     ]
    }
   ],
   "source": [
    "print(\"AIC for model 1 is: \", result.aic)\n",
    "print(\"AIC for model 2 is: \", result2.aic)"
   ]
  },
  {
   "cell_type": "code",
   "execution_count": 15,
   "id": "434ca37e",
   "metadata": {},
   "outputs": [
    {
     "name": "stdout",
     "output_type": "stream",
     "text": [
      "BIC for model 1 is:  -854.0960373148972\n",
      "BIC for model 2 is:  -893.1254496938973\n"
     ]
    }
   ],
   "source": [
    "print(\"BIC for model 1 is: \", result.bic)\n",
    "print(\"BIC for model 2 is: \", result2.bic)"
   ]
  },
  {
   "cell_type": "markdown",
   "id": "ec6145c5",
   "metadata": {},
   "source": [
    "Both AIC and BIC confirm that model 2 is the best model."
   ]
  },
  {
   "cell_type": "markdown",
   "id": "89958542",
   "metadata": {},
   "source": [
    "## PART 2"
   ]
  },
  {
   "cell_type": "markdown",
   "id": "02cdacdd",
   "metadata": {},
   "source": [
    "### Use the VOTE1 dataset from theWooldridge python module to answer the following question. Import this data into your notebook"
   ]
  },
  {
   "cell_type": "code",
   "execution_count": 16,
   "id": "127a4d83",
   "metadata": {},
   "outputs": [
    {
     "data": {
      "text/html": [
       "<div>\n",
       "<style scoped>\n",
       "    .dataframe tbody tr th:only-of-type {\n",
       "        vertical-align: middle;\n",
       "    }\n",
       "\n",
       "    .dataframe tbody tr th {\n",
       "        vertical-align: top;\n",
       "    }\n",
       "\n",
       "    .dataframe thead th {\n",
       "        text-align: right;\n",
       "    }\n",
       "</style>\n",
       "<table border=\"1\" class=\"dataframe\">\n",
       "  <thead>\n",
       "    <tr style=\"text-align: right;\">\n",
       "      <th></th>\n",
       "      <th>state</th>\n",
       "      <th>district</th>\n",
       "      <th>democA</th>\n",
       "      <th>voteA</th>\n",
       "      <th>expendA</th>\n",
       "      <th>expendB</th>\n",
       "      <th>prtystrA</th>\n",
       "      <th>lexpendA</th>\n",
       "      <th>lexpendB</th>\n",
       "      <th>shareA</th>\n",
       "    </tr>\n",
       "  </thead>\n",
       "  <tbody>\n",
       "    <tr>\n",
       "      <th>0</th>\n",
       "      <td>AL</td>\n",
       "      <td>7</td>\n",
       "      <td>1</td>\n",
       "      <td>68</td>\n",
       "      <td>328.295990</td>\n",
       "      <td>8.737000</td>\n",
       "      <td>41</td>\n",
       "      <td>5.793916</td>\n",
       "      <td>2.167567</td>\n",
       "      <td>97.407669</td>\n",
       "    </tr>\n",
       "    <tr>\n",
       "      <th>1</th>\n",
       "      <td>AK</td>\n",
       "      <td>1</td>\n",
       "      <td>0</td>\n",
       "      <td>62</td>\n",
       "      <td>626.377014</td>\n",
       "      <td>402.476990</td>\n",
       "      <td>60</td>\n",
       "      <td>6.439952</td>\n",
       "      <td>5.997638</td>\n",
       "      <td>60.881039</td>\n",
       "    </tr>\n",
       "    <tr>\n",
       "      <th>2</th>\n",
       "      <td>AZ</td>\n",
       "      <td>2</td>\n",
       "      <td>1</td>\n",
       "      <td>73</td>\n",
       "      <td>99.607002</td>\n",
       "      <td>3.065000</td>\n",
       "      <td>55</td>\n",
       "      <td>4.601233</td>\n",
       "      <td>1.120048</td>\n",
       "      <td>97.014763</td>\n",
       "    </tr>\n",
       "    <tr>\n",
       "      <th>3</th>\n",
       "      <td>AZ</td>\n",
       "      <td>3</td>\n",
       "      <td>0</td>\n",
       "      <td>69</td>\n",
       "      <td>319.690002</td>\n",
       "      <td>26.281000</td>\n",
       "      <td>64</td>\n",
       "      <td>5.767352</td>\n",
       "      <td>3.268846</td>\n",
       "      <td>92.403702</td>\n",
       "    </tr>\n",
       "    <tr>\n",
       "      <th>4</th>\n",
       "      <td>AR</td>\n",
       "      <td>3</td>\n",
       "      <td>0</td>\n",
       "      <td>75</td>\n",
       "      <td>159.220993</td>\n",
       "      <td>60.054001</td>\n",
       "      <td>66</td>\n",
       "      <td>5.070293</td>\n",
       "      <td>4.095244</td>\n",
       "      <td>72.612473</td>\n",
       "    </tr>\n",
       "  </tbody>\n",
       "</table>\n",
       "</div>"
      ],
      "text/plain": [
       "  state  district  democA  voteA     expendA     expendB  prtystrA  lexpendA  \\\n",
       "0    AL         7       1     68  328.295990    8.737000        41  5.793916   \n",
       "1    AK         1       0     62  626.377014  402.476990        60  6.439952   \n",
       "2    AZ         2       1     73   99.607002    3.065000        55  4.601233   \n",
       "3    AZ         3       0     69  319.690002   26.281000        64  5.767352   \n",
       "4    AR         3       0     75  159.220993   60.054001        66  5.070293   \n",
       "\n",
       "   lexpendB     shareA  \n",
       "0  2.167567  97.407669  \n",
       "1  5.997638  60.881039  \n",
       "2  1.120048  97.014763  \n",
       "3  3.268846  92.403702  \n",
       "4  4.095244  72.612473  "
      ]
     },
     "execution_count": 16,
     "metadata": {},
     "output_type": "execute_result"
    }
   ],
   "source": [
    "vote = woo.data(\"VOTE1\")\n",
    "vote.head()"
   ]
  },
  {
   "cell_type": "code",
   "execution_count": 17,
   "id": "f910ec1a",
   "metadata": {},
   "outputs": [
    {
     "data": {
      "text/html": [
       "<div>\n",
       "<style scoped>\n",
       "    .dataframe tbody tr th:only-of-type {\n",
       "        vertical-align: middle;\n",
       "    }\n",
       "\n",
       "    .dataframe tbody tr th {\n",
       "        vertical-align: top;\n",
       "    }\n",
       "\n",
       "    .dataframe thead th {\n",
       "        text-align: right;\n",
       "    }\n",
       "</style>\n",
       "<table border=\"1\" class=\"dataframe\">\n",
       "  <thead>\n",
       "    <tr style=\"text-align: right;\">\n",
       "      <th></th>\n",
       "      <th>district</th>\n",
       "      <th>democA</th>\n",
       "      <th>voteA</th>\n",
       "      <th>expendA</th>\n",
       "      <th>expendB</th>\n",
       "      <th>prtystrA</th>\n",
       "      <th>lexpendA</th>\n",
       "      <th>lexpendB</th>\n",
       "      <th>shareA</th>\n",
       "    </tr>\n",
       "  </thead>\n",
       "  <tbody>\n",
       "    <tr>\n",
       "      <th>count</th>\n",
       "      <td>173.000000</td>\n",
       "      <td>173.000000</td>\n",
       "      <td>173.000000</td>\n",
       "      <td>173.000000</td>\n",
       "      <td>173.000000</td>\n",
       "      <td>173.000000</td>\n",
       "      <td>173.000000</td>\n",
       "      <td>173.000000</td>\n",
       "      <td>173.000000</td>\n",
       "    </tr>\n",
       "    <tr>\n",
       "      <th>mean</th>\n",
       "      <td>8.838150</td>\n",
       "      <td>0.554913</td>\n",
       "      <td>50.502890</td>\n",
       "      <td>310.611005</td>\n",
       "      <td>305.088537</td>\n",
       "      <td>49.757225</td>\n",
       "      <td>5.025556</td>\n",
       "      <td>4.944369</td>\n",
       "      <td>51.076545</td>\n",
       "    </tr>\n",
       "    <tr>\n",
       "      <th>std</th>\n",
       "      <td>8.768823</td>\n",
       "      <td>0.498418</td>\n",
       "      <td>16.784761</td>\n",
       "      <td>280.985381</td>\n",
       "      <td>306.278339</td>\n",
       "      <td>9.983650</td>\n",
       "      <td>1.601602</td>\n",
       "      <td>1.571143</td>\n",
       "      <td>33.483575</td>\n",
       "    </tr>\n",
       "    <tr>\n",
       "      <th>min</th>\n",
       "      <td>1.000000</td>\n",
       "      <td>0.000000</td>\n",
       "      <td>16.000000</td>\n",
       "      <td>0.302000</td>\n",
       "      <td>0.930000</td>\n",
       "      <td>22.000000</td>\n",
       "      <td>-1.197328</td>\n",
       "      <td>-0.072571</td>\n",
       "      <td>0.094635</td>\n",
       "    </tr>\n",
       "    <tr>\n",
       "      <th>25%</th>\n",
       "      <td>3.000000</td>\n",
       "      <td>0.000000</td>\n",
       "      <td>36.000000</td>\n",
       "      <td>81.634003</td>\n",
       "      <td>60.054001</td>\n",
       "      <td>44.000000</td>\n",
       "      <td>4.402246</td>\n",
       "      <td>4.095244</td>\n",
       "      <td>18.867996</td>\n",
       "    </tr>\n",
       "    <tr>\n",
       "      <th>50%</th>\n",
       "      <td>6.000000</td>\n",
       "      <td>1.000000</td>\n",
       "      <td>50.000000</td>\n",
       "      <td>242.781998</td>\n",
       "      <td>221.529999</td>\n",
       "      <td>50.000000</td>\n",
       "      <td>5.492164</td>\n",
       "      <td>5.400558</td>\n",
       "      <td>50.849903</td>\n",
       "    </tr>\n",
       "    <tr>\n",
       "      <th>75%</th>\n",
       "      <td>11.000000</td>\n",
       "      <td>1.000000</td>\n",
       "      <td>65.000000</td>\n",
       "      <td>457.410004</td>\n",
       "      <td>450.716003</td>\n",
       "      <td>56.000000</td>\n",
       "      <td>6.125580</td>\n",
       "      <td>6.110837</td>\n",
       "      <td>84.255096</td>\n",
       "    </tr>\n",
       "    <tr>\n",
       "      <th>max</th>\n",
       "      <td>42.000000</td>\n",
       "      <td>1.000000</td>\n",
       "      <td>84.000000</td>\n",
       "      <td>1470.673950</td>\n",
       "      <td>1548.192993</td>\n",
       "      <td>71.000000</td>\n",
       "      <td>7.293476</td>\n",
       "      <td>7.344844</td>\n",
       "      <td>99.495003</td>\n",
       "    </tr>\n",
       "  </tbody>\n",
       "</table>\n",
       "</div>"
      ],
      "text/plain": [
       "         district      democA       voteA      expendA      expendB  \\\n",
       "count  173.000000  173.000000  173.000000   173.000000   173.000000   \n",
       "mean     8.838150    0.554913   50.502890   310.611005   305.088537   \n",
       "std      8.768823    0.498418   16.784761   280.985381   306.278339   \n",
       "min      1.000000    0.000000   16.000000     0.302000     0.930000   \n",
       "25%      3.000000    0.000000   36.000000    81.634003    60.054001   \n",
       "50%      6.000000    1.000000   50.000000   242.781998   221.529999   \n",
       "75%     11.000000    1.000000   65.000000   457.410004   450.716003   \n",
       "max     42.000000    1.000000   84.000000  1470.673950  1548.192993   \n",
       "\n",
       "         prtystrA    lexpendA    lexpendB      shareA  \n",
       "count  173.000000  173.000000  173.000000  173.000000  \n",
       "mean    49.757225    5.025556    4.944369   51.076545  \n",
       "std      9.983650    1.601602    1.571143   33.483575  \n",
       "min     22.000000   -1.197328   -0.072571    0.094635  \n",
       "25%     44.000000    4.402246    4.095244   18.867996  \n",
       "50%     50.000000    5.492164    5.400558   50.849903  \n",
       "75%     56.000000    6.125580    6.110837   84.255096  \n",
       "max     71.000000    7.293476    7.344844   99.495003  "
      ]
     },
     "execution_count": 17,
     "metadata": {},
     "output_type": "execute_result"
    }
   ],
   "source": [
    "vote.describe()"
   ]
  },
  {
   "cell_type": "code",
   "execution_count": 18,
   "id": "d1c0ecbb",
   "metadata": {},
   "outputs": [
    {
     "data": {
      "text/plain": [
       "state       0\n",
       "district    0\n",
       "democA      0\n",
       "voteA       0\n",
       "expendA     0\n",
       "expendB     0\n",
       "prtystrA    0\n",
       "lexpendA    0\n",
       "lexpendB    0\n",
       "shareA      0\n",
       "dtype: int64"
      ]
     },
     "execution_count": 18,
     "metadata": {},
     "output_type": "execute_result"
    }
   ],
   "source": [
    "vote.isnull().sum()"
   ]
  },
  {
   "cell_type": "markdown",
   "id": "41ef516b",
   "metadata": {},
   "source": [
    "### Estimate the following model: $ voteA = β_{0} + β_{1}prtystrA + β_{2}log(expendA) + β_{3}democA + β_{4}log(expendB) + u $ <br> Obtain the OLS residuals, $ \\hat{u}_{i} $, and regress these on all of the independent variables. Explain why you obtain $ R^2 $ = 0."
   ]
  },
  {
   "cell_type": "code",
   "execution_count": 19,
   "id": "bb58fee0",
   "metadata": {},
   "outputs": [
    {
     "data": {
      "text/html": [
       "<table class=\"simpletable\">\n",
       "<caption>OLS Regression Results</caption>\n",
       "<tr>\n",
       "  <th>Dep. Variable:</th>          <td>voteA</td>      <th>  R-squared:         </th> <td>   0.801</td>\n",
       "</tr>\n",
       "<tr>\n",
       "  <th>Model:</th>                   <td>OLS</td>       <th>  Adj. R-squared:    </th> <td>   0.796</td>\n",
       "</tr>\n",
       "<tr>\n",
       "  <th>Method:</th>             <td>Least Squares</td>  <th>  F-statistic:       </th> <td>   169.2</td>\n",
       "</tr>\n",
       "<tr>\n",
       "  <th>Date:</th>             <td>Fri, 18 Nov 2022</td> <th>  Prob (F-statistic):</th> <td>8.09e-58</td>\n",
       "</tr>\n",
       "<tr>\n",
       "  <th>Time:</th>                 <td>18:50:45</td>     <th>  Log-Likelihood:    </th> <td> -593.20</td>\n",
       "</tr>\n",
       "<tr>\n",
       "  <th>No. Observations:</th>      <td>   173</td>      <th>  AIC:               </th> <td>   1196.</td>\n",
       "</tr>\n",
       "<tr>\n",
       "  <th>Df Residuals:</th>          <td>   168</td>      <th>  BIC:               </th> <td>   1212.</td>\n",
       "</tr>\n",
       "<tr>\n",
       "  <th>Df Model:</th>              <td>     4</td>      <th>                     </th>     <td> </td>   \n",
       "</tr>\n",
       "<tr>\n",
       "  <th>Covariance Type:</th>      <td>nonrobust</td>    <th>                     </th>     <td> </td>   \n",
       "</tr>\n",
       "</table>\n",
       "<table class=\"simpletable\">\n",
       "<tr>\n",
       "         <td></td>            <th>coef</th>     <th>std err</th>      <th>t</th>      <th>P>|t|</th>  <th>[0.025</th>    <th>0.975]</th>  \n",
       "</tr>\n",
       "<tr>\n",
       "  <th>Intercept</th>       <td>   37.6614</td> <td>    4.736</td> <td>    7.952</td> <td> 0.000</td> <td>   28.312</td> <td>   47.011</td>\n",
       "</tr>\n",
       "<tr>\n",
       "  <th>prtystrA</th>        <td>    0.2519</td> <td>    0.071</td> <td>    3.534</td> <td> 0.001</td> <td>    0.111</td> <td>    0.393</td>\n",
       "</tr>\n",
       "<tr>\n",
       "  <th>np.log(expendA)</th> <td>    5.7793</td> <td>    0.392</td> <td>   14.750</td> <td> 0.000</td> <td>    5.006</td> <td>    6.553</td>\n",
       "</tr>\n",
       "<tr>\n",
       "  <th>democA</th>          <td>    3.7929</td> <td>    1.407</td> <td>    2.697</td> <td> 0.008</td> <td>    1.016</td> <td>    6.570</td>\n",
       "</tr>\n",
       "<tr>\n",
       "  <th>np.log(expendB)</th> <td>   -6.2378</td> <td>    0.397</td> <td>  -15.694</td> <td> 0.000</td> <td>   -7.022</td> <td>   -5.453</td>\n",
       "</tr>\n",
       "</table>\n",
       "<table class=\"simpletable\">\n",
       "<tr>\n",
       "  <th>Omnibus:</th>       <td> 6.304</td> <th>  Durbin-Watson:     </th> <td>   1.525</td>\n",
       "</tr>\n",
       "<tr>\n",
       "  <th>Prob(Omnibus):</th> <td> 0.043</td> <th>  Jarque-Bera (JB):  </th> <td>   6.030</td>\n",
       "</tr>\n",
       "<tr>\n",
       "  <th>Skew:</th>          <td> 0.448</td> <th>  Prob(JB):          </th> <td>  0.0491</td>\n",
       "</tr>\n",
       "<tr>\n",
       "  <th>Kurtosis:</th>      <td> 3.182</td> <th>  Cond. No.          </th> <td>    429.</td>\n",
       "</tr>\n",
       "</table><br/><br/>Notes:<br/>[1] Standard Errors assume that the covariance matrix of the errors is correctly specified."
      ],
      "text/plain": [
       "<class 'statsmodels.iolib.summary.Summary'>\n",
       "\"\"\"\n",
       "                            OLS Regression Results                            \n",
       "==============================================================================\n",
       "Dep. Variable:                  voteA   R-squared:                       0.801\n",
       "Model:                            OLS   Adj. R-squared:                  0.796\n",
       "Method:                 Least Squares   F-statistic:                     169.2\n",
       "Date:                Fri, 18 Nov 2022   Prob (F-statistic):           8.09e-58\n",
       "Time:                        18:50:45   Log-Likelihood:                -593.20\n",
       "No. Observations:                 173   AIC:                             1196.\n",
       "Df Residuals:                     168   BIC:                             1212.\n",
       "Df Model:                           4                                         \n",
       "Covariance Type:            nonrobust                                         \n",
       "===================================================================================\n",
       "                      coef    std err          t      P>|t|      [0.025      0.975]\n",
       "-----------------------------------------------------------------------------------\n",
       "Intercept          37.6614      4.736      7.952      0.000      28.312      47.011\n",
       "prtystrA            0.2519      0.071      3.534      0.001       0.111       0.393\n",
       "np.log(expendA)     5.7793      0.392     14.750      0.000       5.006       6.553\n",
       "democA              3.7929      1.407      2.697      0.008       1.016       6.570\n",
       "np.log(expendB)    -6.2378      0.397    -15.694      0.000      -7.022      -5.453\n",
       "==============================================================================\n",
       "Omnibus:                        6.304   Durbin-Watson:                   1.525\n",
       "Prob(Omnibus):                  0.043   Jarque-Bera (JB):                6.030\n",
       "Skew:                           0.448   Prob(JB):                       0.0491\n",
       "Kurtosis:                       3.182   Cond. No.                         429.\n",
       "==============================================================================\n",
       "\n",
       "Notes:\n",
       "[1] Standard Errors assume that the covariance matrix of the errors is correctly specified.\n",
       "\"\"\""
      ]
     },
     "execution_count": 19,
     "metadata": {},
     "output_type": "execute_result"
    }
   ],
   "source": [
    "fit = smf.ols('voteA ~ prtystrA + np.log(expendA) + democA + np.log(expendB)', vote).fit()\n",
    "fit.summary()"
   ]
  },
  {
   "cell_type": "code",
   "execution_count": 20,
   "id": "fa7669ee",
   "metadata": {},
   "outputs": [
    {
     "data": {
      "text/html": [
       "<table class=\"simpletable\">\n",
       "<caption>OLS Regression Results</caption>\n",
       "<tr>\n",
       "  <th>Dep. Variable:</th>        <td>fit.resid</td>    <th>  R-squared:         </th> <td>   0.000</td>\n",
       "</tr>\n",
       "<tr>\n",
       "  <th>Model:</th>                   <td>OLS</td>       <th>  Adj. R-squared:    </th> <td>  -0.024</td>\n",
       "</tr>\n",
       "<tr>\n",
       "  <th>Method:</th>             <td>Least Squares</td>  <th>  F-statistic:       </th> <td>   0.000</td>\n",
       "</tr>\n",
       "<tr>\n",
       "  <th>Date:</th>             <td>Fri, 18 Nov 2022</td> <th>  Prob (F-statistic):</th>  <td>  1.00</td> \n",
       "</tr>\n",
       "<tr>\n",
       "  <th>Time:</th>                 <td>18:50:45</td>     <th>  Log-Likelihood:    </th> <td> -593.20</td>\n",
       "</tr>\n",
       "<tr>\n",
       "  <th>No. Observations:</th>      <td>   173</td>      <th>  AIC:               </th> <td>   1196.</td>\n",
       "</tr>\n",
       "<tr>\n",
       "  <th>Df Residuals:</th>          <td>   168</td>      <th>  BIC:               </th> <td>   1212.</td>\n",
       "</tr>\n",
       "<tr>\n",
       "  <th>Df Model:</th>              <td>     4</td>      <th>                     </th>     <td> </td>   \n",
       "</tr>\n",
       "<tr>\n",
       "  <th>Covariance Type:</th>      <td>nonrobust</td>    <th>                     </th>     <td> </td>   \n",
       "</tr>\n",
       "</table>\n",
       "<table class=\"simpletable\">\n",
       "<tr>\n",
       "         <td></td>            <th>coef</th>     <th>std err</th>      <th>t</th>      <th>P>|t|</th>  <th>[0.025</th>    <th>0.975]</th>  \n",
       "</tr>\n",
       "<tr>\n",
       "  <th>Intercept</th>       <td>-1.465e-14</td> <td>    4.736</td> <td>-3.09e-15</td> <td> 1.000</td> <td>   -9.350</td> <td>    9.350</td>\n",
       "</tr>\n",
       "<tr>\n",
       "  <th>prtystrA</th>        <td> -1.11e-16</td> <td>    0.071</td> <td>-1.56e-15</td> <td> 1.000</td> <td>   -0.141</td> <td>    0.141</td>\n",
       "</tr>\n",
       "<tr>\n",
       "  <th>np.log(expendA)</th> <td> 8.771e-15</td> <td>    0.392</td> <td> 2.24e-14</td> <td> 1.000</td> <td>   -0.774</td> <td>    0.774</td>\n",
       "</tr>\n",
       "<tr>\n",
       "  <th>democA</th>          <td> 2.665e-15</td> <td>    1.407</td> <td> 1.89e-15</td> <td> 1.000</td> <td>   -2.777</td> <td>    2.777</td>\n",
       "</tr>\n",
       "<tr>\n",
       "  <th>np.log(expendB)</th> <td> 4.441e-16</td> <td>    0.397</td> <td> 1.12e-15</td> <td> 1.000</td> <td>   -0.785</td> <td>    0.785</td>\n",
       "</tr>\n",
       "</table>\n",
       "<table class=\"simpletable\">\n",
       "<tr>\n",
       "  <th>Omnibus:</th>       <td> 6.304</td> <th>  Durbin-Watson:     </th> <td>   1.525</td>\n",
       "</tr>\n",
       "<tr>\n",
       "  <th>Prob(Omnibus):</th> <td> 0.043</td> <th>  Jarque-Bera (JB):  </th> <td>   6.030</td>\n",
       "</tr>\n",
       "<tr>\n",
       "  <th>Skew:</th>          <td> 0.448</td> <th>  Prob(JB):          </th> <td>  0.0491</td>\n",
       "</tr>\n",
       "<tr>\n",
       "  <th>Kurtosis:</th>      <td> 3.182</td> <th>  Cond. No.          </th> <td>    429.</td>\n",
       "</tr>\n",
       "</table><br/><br/>Notes:<br/>[1] Standard Errors assume that the covariance matrix of the errors is correctly specified."
      ],
      "text/plain": [
       "<class 'statsmodels.iolib.summary.Summary'>\n",
       "\"\"\"\n",
       "                            OLS Regression Results                            \n",
       "==============================================================================\n",
       "Dep. Variable:              fit.resid   R-squared:                       0.000\n",
       "Model:                            OLS   Adj. R-squared:                 -0.024\n",
       "Method:                 Least Squares   F-statistic:                     0.000\n",
       "Date:                Fri, 18 Nov 2022   Prob (F-statistic):               1.00\n",
       "Time:                        18:50:45   Log-Likelihood:                -593.20\n",
       "No. Observations:                 173   AIC:                             1196.\n",
       "Df Residuals:                     168   BIC:                             1212.\n",
       "Df Model:                           4                                         \n",
       "Covariance Type:            nonrobust                                         \n",
       "===================================================================================\n",
       "                      coef    std err          t      P>|t|      [0.025      0.975]\n",
       "-----------------------------------------------------------------------------------\n",
       "Intercept       -1.465e-14      4.736  -3.09e-15      1.000      -9.350       9.350\n",
       "prtystrA         -1.11e-16      0.071  -1.56e-15      1.000      -0.141       0.141\n",
       "np.log(expendA)  8.771e-15      0.392   2.24e-14      1.000      -0.774       0.774\n",
       "democA           2.665e-15      1.407   1.89e-15      1.000      -2.777       2.777\n",
       "np.log(expendB)  4.441e-16      0.397   1.12e-15      1.000      -0.785       0.785\n",
       "==============================================================================\n",
       "Omnibus:                        6.304   Durbin-Watson:                   1.525\n",
       "Prob(Omnibus):                  0.043   Jarque-Bera (JB):                6.030\n",
       "Skew:                           0.448   Prob(JB):                       0.0491\n",
       "Kurtosis:                       3.182   Cond. No.                         429.\n",
       "==============================================================================\n",
       "\n",
       "Notes:\n",
       "[1] Standard Errors assume that the covariance matrix of the errors is correctly specified.\n",
       "\"\"\""
      ]
     },
     "execution_count": 20,
     "metadata": {},
     "output_type": "execute_result"
    }
   ],
   "source": [
    "u_fit = smf.ols('fit.resid ~ prtystrA + np.log(expendA) + democA + np.log(expendB)', vote).fit()\n",
    "u_fit.summary()"
   ]
  },
  {
   "cell_type": "markdown",
   "id": "34d4fa19",
   "metadata": {},
   "source": [
    "We would expect a $ R^2 $ equals to 0 because, as the OLS assumption claims, errors in the sample should not be correlated to the independent variables. Therefore, the predictors should not be able to explain the error term (so we have $ R^2 $=0)."
   ]
  },
  {
   "cell_type": "markdown",
   "id": "37ad96f3",
   "metadata": {},
   "source": [
    "### Now, compute the Breusch-Pagan test for heteroskedasticity. Use the F statistic version and report the p-value."
   ]
  },
  {
   "cell_type": "code",
   "execution_count": 21,
   "id": "bd255632",
   "metadata": {},
   "outputs": [
    {
     "name": "stdout",
     "output_type": "stream",
     "text": [
      "BP Results:\n",
      "[('Lagrange multiplier statistic', 9.093355957811157), ('p-value', 0.05880791685694346), ('f-value', 2.330112683716247), ('f p-value', 0.058057514088555584)]\n"
     ]
    }
   ],
   "source": [
    "name = [\"Lagrange multiplier statistic\", \"p-value\", \"f-value\", \"f p-value\"]\n",
    "test = sms.het_breuschpagan(fit.resid, fit.model.exog)\n",
    "print(\"BP Results:\")\n",
    "print(list(zip(name, test)))"
   ]
  },
  {
   "cell_type": "markdown",
   "id": "db52d24b",
   "metadata": {},
   "source": [
    "As the f p-value is about 0.058, we fail to reject $ H_{0} $ and assume there might not be heteroskedasticity for alpha set at 5% and 1%. "
   ]
  },
  {
   "cell_type": "markdown",
   "id": "d6003540",
   "metadata": {},
   "source": [
    "### Compute the special case of the White test for heteroskedasticity, again using the F statistic form. How strong is the evidence for heteroskedasticity now?"
   ]
  },
  {
   "cell_type": "markdown",
   "id": "bc4891e5",
   "metadata": {},
   "source": [
    "**Classic White test**"
   ]
  },
  {
   "cell_type": "code",
   "execution_count": 22,
   "id": "d3e8468b",
   "metadata": {},
   "outputs": [
    {
     "name": "stdout",
     "output_type": "stream",
     "text": [
      "White Test Results:\n",
      "[('Lagrange multiplier statistic', 31.101516025646937), ('p-value', 0.0032582616087888055), ('f-value', 2.680757782482806), ('f p-value', 0.0019733250042552435)]\n"
     ]
    }
   ],
   "source": [
    "name = [\"Lagrange multiplier statistic\", \"p-value\", \"f-value\", \"f p-value\"]\n",
    "test = sm.stats.diagnostic.het_white(fit.resid, fit.model.exog)\n",
    "print(\"White Test Results:\")\n",
    "print(list(zip(name, test)))"
   ]
  },
  {
   "cell_type": "markdown",
   "id": "bc920a15",
   "metadata": {},
   "source": [
    "According to the classic White test, there is evidence of heteroskedasticity."
   ]
  },
  {
   "cell_type": "markdown",
   "id": "483b6658",
   "metadata": {},
   "source": [
    "**Special case White test**"
   ]
  },
  {
   "cell_type": "code",
   "execution_count": 23,
   "id": "d8d6408d",
   "metadata": {},
   "outputs": [
    {
     "data": {
      "text/html": [
       "<table class=\"simpletable\">\n",
       "<caption>OLS Regression Results</caption>\n",
       "<tr>\n",
       "  <th>Dep. Variable:</th>    <td>np.square(fit.resid)</td> <th>  R-squared:         </th> <td>   0.032</td>\n",
       "</tr>\n",
       "<tr>\n",
       "  <th>Model:</th>                     <td>OLS</td>         <th>  Adj. R-squared:    </th> <td>   0.020</td>\n",
       "</tr>\n",
       "<tr>\n",
       "  <th>Method:</th>               <td>Least Squares</td>    <th>  F-statistic:       </th> <td>   2.786</td>\n",
       "</tr>\n",
       "<tr>\n",
       "  <th>Date:</th>               <td>Fri, 18 Nov 2022</td>   <th>  Prob (F-statistic):</th>  <td>0.0645</td> \n",
       "</tr>\n",
       "<tr>\n",
       "  <th>Time:</th>                   <td>18:50:47</td>       <th>  Log-Likelihood:    </th> <td> -1005.6</td>\n",
       "</tr>\n",
       "<tr>\n",
       "  <th>No. Observations:</th>        <td>   173</td>        <th>  AIC:               </th> <td>   2017.</td>\n",
       "</tr>\n",
       "<tr>\n",
       "  <th>Df Residuals:</th>            <td>   170</td>        <th>  BIC:               </th> <td>   2027.</td>\n",
       "</tr>\n",
       "<tr>\n",
       "  <th>Df Model:</th>                <td>     2</td>        <th>                     </th>     <td> </td>   \n",
       "</tr>\n",
       "<tr>\n",
       "  <th>Covariance Type:</th>        <td>nonrobust</td>      <th>                     </th>     <td> </td>   \n",
       "</tr>\n",
       "</table>\n",
       "<table class=\"simpletable\">\n",
       "<tr>\n",
       "               <td></td>                  <th>coef</th>     <th>std err</th>      <th>t</th>      <th>P>|t|</th>  <th>[0.025</th>    <th>0.975]</th>  \n",
       "</tr>\n",
       "<tr>\n",
       "  <th>Intercept</th>                   <td>  171.8584</td> <td>   53.142</td> <td>    3.234</td> <td> 0.001</td> <td>   66.955</td> <td>  276.762</td>\n",
       "</tr>\n",
       "<tr>\n",
       "  <th>fit.fittedvalues</th>            <td>   -4.2637</td> <td>    2.167</td> <td>   -1.968</td> <td> 0.051</td> <td>   -8.540</td> <td>    0.013</td>\n",
       "</tr>\n",
       "<tr>\n",
       "  <th>np.square(fit.fittedvalues)</th> <td>    0.0357</td> <td>    0.021</td> <td>    1.682</td> <td> 0.094</td> <td>   -0.006</td> <td>    0.078</td>\n",
       "</tr>\n",
       "</table>\n",
       "<table class=\"simpletable\">\n",
       "<tr>\n",
       "  <th>Omnibus:</th>       <td>136.013</td> <th>  Durbin-Watson:     </th> <td>   1.957</td> \n",
       "</tr>\n",
       "<tr>\n",
       "  <th>Prob(Omnibus):</th> <td> 0.000</td>  <th>  Jarque-Bera (JB):  </th> <td>1393.398</td> \n",
       "</tr>\n",
       "<tr>\n",
       "  <th>Skew:</th>          <td> 2.927</td>  <th>  Prob(JB):          </th> <td>2.68e-303</td>\n",
       "</tr>\n",
       "<tr>\n",
       "  <th>Kurtosis:</th>      <td>15.611</td>  <th>  Cond. No.          </th> <td>2.71e+04</td> \n",
       "</tr>\n",
       "</table><br/><br/>Notes:<br/>[1] Standard Errors assume that the covariance matrix of the errors is correctly specified.<br/>[2] The condition number is large, 2.71e+04. This might indicate that there are<br/>strong multicollinearity or other numerical problems."
      ],
      "text/plain": [
       "<class 'statsmodels.iolib.summary.Summary'>\n",
       "\"\"\"\n",
       "                             OLS Regression Results                             \n",
       "================================================================================\n",
       "Dep. Variable:     np.square(fit.resid)   R-squared:                       0.032\n",
       "Model:                              OLS   Adj. R-squared:                  0.020\n",
       "Method:                   Least Squares   F-statistic:                     2.786\n",
       "Date:                  Fri, 18 Nov 2022   Prob (F-statistic):             0.0645\n",
       "Time:                          18:50:47   Log-Likelihood:                -1005.6\n",
       "No. Observations:                   173   AIC:                             2017.\n",
       "Df Residuals:                       170   BIC:                             2027.\n",
       "Df Model:                             2                                         \n",
       "Covariance Type:              nonrobust                                         \n",
       "===============================================================================================\n",
       "                                  coef    std err          t      P>|t|      [0.025      0.975]\n",
       "-----------------------------------------------------------------------------------------------\n",
       "Intercept                     171.8584     53.142      3.234      0.001      66.955     276.762\n",
       "fit.fittedvalues               -4.2637      2.167     -1.968      0.051      -8.540       0.013\n",
       "np.square(fit.fittedvalues)     0.0357      0.021      1.682      0.094      -0.006       0.078\n",
       "==============================================================================\n",
       "Omnibus:                      136.013   Durbin-Watson:                   1.957\n",
       "Prob(Omnibus):                  0.000   Jarque-Bera (JB):             1393.398\n",
       "Skew:                           2.927   Prob(JB):                    2.68e-303\n",
       "Kurtosis:                      15.611   Cond. No.                     2.71e+04\n",
       "==============================================================================\n",
       "\n",
       "Notes:\n",
       "[1] Standard Errors assume that the covariance matrix of the errors is correctly specified.\n",
       "[2] The condition number is large, 2.71e+04. This might indicate that there are\n",
       "strong multicollinearity or other numerical problems.\n",
       "\"\"\""
      ]
     },
     "execution_count": 23,
     "metadata": {},
     "output_type": "execute_result"
    }
   ],
   "source": [
    "fit_sqr = smf.ols('np.square(fit.resid) ~ fit.fittedvalues + np.square(fit.fittedvalues)', vote).fit()\n",
    "fit_sqr.summary()"
   ]
  },
  {
   "cell_type": "code",
   "execution_count": 24,
   "id": "e695acd6",
   "metadata": {},
   "outputs": [
    {
     "data": {
      "text/plain": [
       "<class 'statsmodels.stats.contrast.ContrastResults'>\n",
       "<F test: F=2.785827373447078, p=0.06449619861136317, df_denom=170, df_num=2>"
      ]
     },
     "execution_count": 24,
     "metadata": {},
     "output_type": "execute_result"
    }
   ],
   "source": [
    "hypotheses = [\"fit.fittedvalues = 0\", \"np.square(fit.fittedvalues) = 0\"]\n",
    "fit_sqr.f_test(hypotheses)"
   ]
  },
  {
   "cell_type": "markdown",
   "id": "027493a3",
   "metadata": {},
   "source": [
    "The F-test for this regression is the result for the special case for the White test - we are giving some restriction to the parameters. It tells us that there is even less evidence for heteroskedasticity than the BP test. We accept $ H_{0} $."
   ]
  },
  {
   "cell_type": "markdown",
   "id": "71c00d0b",
   "metadata": {},
   "source": [
    "### Estimate two more models. For the first use robust standard errors (HC0) and for the second use the FGLS procedure. Note any changes in your standard errors, significance level, and coefficients."
   ]
  },
  {
   "cell_type": "markdown",
   "id": "28fd0b7e",
   "metadata": {},
   "source": [
    "**Model 1 - HC0**"
   ]
  },
  {
   "cell_type": "code",
   "execution_count": 25,
   "id": "619803f9",
   "metadata": {},
   "outputs": [
    {
     "data": {
      "text/html": [
       "<table class=\"simpletable\">\n",
       "<caption>OLS Regression Results</caption>\n",
       "<tr>\n",
       "  <th>Dep. Variable:</th>          <td>voteA</td>      <th>  R-squared:         </th> <td>   0.801</td>\n",
       "</tr>\n",
       "<tr>\n",
       "  <th>Model:</th>                   <td>OLS</td>       <th>  Adj. R-squared:    </th> <td>   0.796</td>\n",
       "</tr>\n",
       "<tr>\n",
       "  <th>Method:</th>             <td>Least Squares</td>  <th>  F-statistic:       </th> <td>   169.1</td>\n",
       "</tr>\n",
       "<tr>\n",
       "  <th>Date:</th>             <td>Fri, 18 Nov 2022</td> <th>  Prob (F-statistic):</th> <td>8.58e-58</td>\n",
       "</tr>\n",
       "<tr>\n",
       "  <th>Time:</th>                 <td>18:50:48</td>     <th>  Log-Likelihood:    </th> <td> -593.20</td>\n",
       "</tr>\n",
       "<tr>\n",
       "  <th>No. Observations:</th>      <td>   173</td>      <th>  AIC:               </th> <td>   1196.</td>\n",
       "</tr>\n",
       "<tr>\n",
       "  <th>Df Residuals:</th>          <td>   168</td>      <th>  BIC:               </th> <td>   1212.</td>\n",
       "</tr>\n",
       "<tr>\n",
       "  <th>Df Model:</th>              <td>     4</td>      <th>                     </th>     <td> </td>   \n",
       "</tr>\n",
       "<tr>\n",
       "  <th>Covariance Type:</th>         <td>HC0</td>       <th>                     </th>     <td> </td>   \n",
       "</tr>\n",
       "</table>\n",
       "<table class=\"simpletable\">\n",
       "<tr>\n",
       "         <td></td>            <th>coef</th>     <th>std err</th>      <th>z</th>      <th>P>|z|</th>  <th>[0.025</th>    <th>0.975]</th>  \n",
       "</tr>\n",
       "<tr>\n",
       "  <th>Intercept</th>       <td>   37.6614</td> <td>    4.355</td> <td>    8.649</td> <td> 0.000</td> <td>   29.127</td> <td>   46.196</td>\n",
       "</tr>\n",
       "<tr>\n",
       "  <th>prtystrA</th>        <td>    0.2519</td> <td>    0.065</td> <td>    3.870</td> <td> 0.000</td> <td>    0.124</td> <td>    0.380</td>\n",
       "</tr>\n",
       "<tr>\n",
       "  <th>np.log(expendA)</th> <td>    5.7793</td> <td>    0.525</td> <td>   11.000</td> <td> 0.000</td> <td>    4.750</td> <td>    6.809</td>\n",
       "</tr>\n",
       "<tr>\n",
       "  <th>democA</th>          <td>    3.7929</td> <td>    1.431</td> <td>    2.651</td> <td> 0.008</td> <td>    0.988</td> <td>    6.598</td>\n",
       "</tr>\n",
       "<tr>\n",
       "  <th>np.log(expendB)</th> <td>   -6.2378</td> <td>    0.351</td> <td>  -17.773</td> <td> 0.000</td> <td>   -6.926</td> <td>   -5.550</td>\n",
       "</tr>\n",
       "</table>\n",
       "<table class=\"simpletable\">\n",
       "<tr>\n",
       "  <th>Omnibus:</th>       <td> 6.304</td> <th>  Durbin-Watson:     </th> <td>   1.525</td>\n",
       "</tr>\n",
       "<tr>\n",
       "  <th>Prob(Omnibus):</th> <td> 0.043</td> <th>  Jarque-Bera (JB):  </th> <td>   6.030</td>\n",
       "</tr>\n",
       "<tr>\n",
       "  <th>Skew:</th>          <td> 0.448</td> <th>  Prob(JB):          </th> <td>  0.0491</td>\n",
       "</tr>\n",
       "<tr>\n",
       "  <th>Kurtosis:</th>      <td> 3.182</td> <th>  Cond. No.          </th> <td>    429.</td>\n",
       "</tr>\n",
       "</table><br/><br/>Notes:<br/>[1] Standard Errors are heteroscedasticity robust (HC0)"
      ],
      "text/plain": [
       "<class 'statsmodels.iolib.summary.Summary'>\n",
       "\"\"\"\n",
       "                            OLS Regression Results                            \n",
       "==============================================================================\n",
       "Dep. Variable:                  voteA   R-squared:                       0.801\n",
       "Model:                            OLS   Adj. R-squared:                  0.796\n",
       "Method:                 Least Squares   F-statistic:                     169.1\n",
       "Date:                Fri, 18 Nov 2022   Prob (F-statistic):           8.58e-58\n",
       "Time:                        18:50:48   Log-Likelihood:                -593.20\n",
       "No. Observations:                 173   AIC:                             1196.\n",
       "Df Residuals:                     168   BIC:                             1212.\n",
       "Df Model:                           4                                         \n",
       "Covariance Type:                  HC0                                         \n",
       "===================================================================================\n",
       "                      coef    std err          z      P>|z|      [0.025      0.975]\n",
       "-----------------------------------------------------------------------------------\n",
       "Intercept          37.6614      4.355      8.649      0.000      29.127      46.196\n",
       "prtystrA            0.2519      0.065      3.870      0.000       0.124       0.380\n",
       "np.log(expendA)     5.7793      0.525     11.000      0.000       4.750       6.809\n",
       "democA              3.7929      1.431      2.651      0.008       0.988       6.598\n",
       "np.log(expendB)    -6.2378      0.351    -17.773      0.000      -6.926      -5.550\n",
       "==============================================================================\n",
       "Omnibus:                        6.304   Durbin-Watson:                   1.525\n",
       "Prob(Omnibus):                  0.043   Jarque-Bera (JB):                6.030\n",
       "Skew:                           0.448   Prob(JB):                       0.0491\n",
       "Kurtosis:                       3.182   Cond. No.                         429.\n",
       "==============================================================================\n",
       "\n",
       "Notes:\n",
       "[1] Standard Errors are heteroscedasticity robust (HC0)\n",
       "\"\"\""
      ]
     },
     "execution_count": 25,
     "metadata": {},
     "output_type": "execute_result"
    }
   ],
   "source": [
    "HC0_fit = smf.ols('voteA ~ prtystrA + np.log(expendA) + democA + np.log(expendB)', vote).fit(cov_type = 'HC0')\n",
    "HC0_fit.summary()"
   ]
  },
  {
   "cell_type": "code",
   "execution_count": 26,
   "id": "6e6b16be",
   "metadata": {},
   "outputs": [
    {
     "name": "stdout",
     "output_type": "stream",
     "text": [
      "The SE for the original model was:\n",
      " Intercept          4.736036\n",
      "prtystrA           0.071293\n",
      "np.log(expendA)    0.391820\n",
      "democA             1.406520\n",
      "np.log(expendB)    0.397460\n",
      "dtype: float64\n",
      "The SE for the HC0 model is:\n",
      " Intercept          4.354614\n",
      "prtystrA           0.065101\n",
      "np.log(expendA)    0.525381\n",
      "democA             1.431029\n",
      "np.log(expendB)    0.350974\n",
      "dtype: float64\n"
     ]
    }
   ],
   "source": [
    "# SE\n",
    "print(\"The SE for the original model was:\\n\", fit.bse)\n",
    "print(\"The SE for the HC0 model is:\\n\", HC0_fit.bse)"
   ]
  },
  {
   "cell_type": "markdown",
   "id": "60c35da2",
   "metadata": {},
   "source": [
    "SE went down for the intercept, $ prtystrA $, and $ log(expendB) $. However, it increased for $ log(expendA) $ and $ democA$."
   ]
  },
  {
   "cell_type": "code",
   "execution_count": 27,
   "id": "10f97de3",
   "metadata": {},
   "outputs": [
    {
     "name": "stdout",
     "output_type": "stream",
     "text": [
      "The p-values for the original model were:\n",
      " Intercept          2.564412e-13\n",
      "prtystrA           5.296255e-04\n",
      "np.log(expendA)    4.029908e-32\n",
      "democA             7.716801e-03\n",
      "np.log(expendB)    9.342922e-35\n",
      "dtype: float64\n",
      "The z-values for the HC0 model are:\n",
      " Intercept          5.212495e-18\n",
      "prtystrA           1.090056e-04\n",
      "np.log(expendA)    3.813122e-28\n",
      "democA             8.037236e-03\n",
      "np.log(expendB)    1.145213e-70\n",
      "dtype: float64\n"
     ]
    }
   ],
   "source": [
    "# Significance\n",
    "print(\"The p-values for the original model were:\\n\", fit.pvalues)\n",
    "print(\"The z-values for the HC0 model are:\\n\", HC0_fit.pvalues)"
   ]
  },
  {
   "cell_type": "markdown",
   "id": "b93009ab",
   "metadata": {},
   "source": [
    "The coefficients remain statistically significant."
   ]
  },
  {
   "cell_type": "code",
   "execution_count": 28,
   "id": "714f2e86",
   "metadata": {},
   "outputs": [
    {
     "name": "stdout",
     "output_type": "stream",
     "text": [
      "The parameters for the original model were:\n",
      " Intercept          37.661415\n",
      "prtystrA            0.251918\n",
      "np.log(expendA)     5.779294\n",
      "democA              3.792944\n",
      "np.log(expendB)    -6.237836\n",
      "dtype: float64\n",
      "The parameters for the HC0 model are:\n",
      " Intercept          37.661415\n",
      "prtystrA            0.251918\n",
      "np.log(expendA)     5.779294\n",
      "democA              3.792944\n",
      "np.log(expendB)    -6.237836\n",
      "dtype: float64\n"
     ]
    }
   ],
   "source": [
    "# Coefficients\n",
    "print(\"The parameters for the original model were:\\n\", fit.params)\n",
    "print(\"The parameters for the HC0 model are:\\n\", HC0_fit.params)"
   ]
  },
  {
   "cell_type": "markdown",
   "id": "8067834b",
   "metadata": {},
   "source": [
    "It appears the coefficient did not change or hardly changed - due apporximation reasons maybe we do not see it."
   ]
  },
  {
   "cell_type": "markdown",
   "id": "efd102e3",
   "metadata": {},
   "source": [
    "**Model 2 - FGLS**"
   ]
  },
  {
   "cell_type": "code",
   "execution_count": 29,
   "id": "a8c18b67",
   "metadata": {},
   "outputs": [],
   "source": [
    "u2 = fit.resid**2"
   ]
  },
  {
   "cell_type": "code",
   "execution_count": 30,
   "id": "c9ae22d5",
   "metadata": {},
   "outputs": [
    {
     "data": {
      "text/html": [
       "<table class=\"simpletable\">\n",
       "<caption>OLS Regression Results</caption>\n",
       "<tr>\n",
       "  <th>Dep. Variable:</th>       <td>np.log(u2)</td>    <th>  R-squared:         </th> <td>   0.037</td>\n",
       "</tr>\n",
       "<tr>\n",
       "  <th>Model:</th>                   <td>OLS</td>       <th>  Adj. R-squared:    </th> <td>   0.014</td>\n",
       "</tr>\n",
       "<tr>\n",
       "  <th>Method:</th>             <td>Least Squares</td>  <th>  F-statistic:       </th> <td>   1.633</td>\n",
       "</tr>\n",
       "<tr>\n",
       "  <th>Date:</th>             <td>Fri, 18 Nov 2022</td> <th>  Prob (F-statistic):</th>  <td> 0.168</td> \n",
       "</tr>\n",
       "<tr>\n",
       "  <th>Time:</th>                 <td>18:50:52</td>     <th>  Log-Likelihood:    </th> <td> -372.96</td>\n",
       "</tr>\n",
       "<tr>\n",
       "  <th>No. Observations:</th>      <td>   173</td>      <th>  AIC:               </th> <td>   755.9</td>\n",
       "</tr>\n",
       "<tr>\n",
       "  <th>Df Residuals:</th>          <td>   168</td>      <th>  BIC:               </th> <td>   771.7</td>\n",
       "</tr>\n",
       "<tr>\n",
       "  <th>Df Model:</th>              <td>     4</td>      <th>                     </th>     <td> </td>   \n",
       "</tr>\n",
       "<tr>\n",
       "  <th>Covariance Type:</th>      <td>nonrobust</td>    <th>                     </th>     <td> </td>   \n",
       "</tr>\n",
       "</table>\n",
       "<table class=\"simpletable\">\n",
       "<tr>\n",
       "         <td></td>            <th>coef</th>     <th>std err</th>      <th>t</th>      <th>P>|t|</th>  <th>[0.025</th>    <th>0.975]</th>  \n",
       "</tr>\n",
       "<tr>\n",
       "  <th>Intercept</th>       <td>    4.9597</td> <td>    1.326</td> <td>    3.740</td> <td> 0.000</td> <td>    2.342</td> <td>    7.577</td>\n",
       "</tr>\n",
       "<tr>\n",
       "  <th>prtystrA</th>        <td>   -0.0250</td> <td>    0.020</td> <td>   -1.251</td> <td> 0.213</td> <td>   -0.064</td> <td>    0.014</td>\n",
       "</tr>\n",
       "<tr>\n",
       "  <th>np.log(expendA)</th> <td>   -0.0358</td> <td>    0.110</td> <td>   -0.326</td> <td> 0.744</td> <td>   -0.252</td> <td>    0.181</td>\n",
       "</tr>\n",
       "<tr>\n",
       "  <th>democA</th>          <td>    0.2127</td> <td>    0.394</td> <td>    0.540</td> <td> 0.590</td> <td>   -0.565</td> <td>    0.990</td>\n",
       "</tr>\n",
       "<tr>\n",
       "  <th>np.log(expendB)</th> <td>   -0.1728</td> <td>    0.111</td> <td>   -1.553</td> <td> 0.122</td> <td>   -0.392</td> <td>    0.047</td>\n",
       "</tr>\n",
       "</table>\n",
       "<table class=\"simpletable\">\n",
       "<tr>\n",
       "  <th>Omnibus:</th>       <td>57.246</td> <th>  Durbin-Watson:     </th> <td>   1.931</td>\n",
       "</tr>\n",
       "<tr>\n",
       "  <th>Prob(Omnibus):</th> <td> 0.000</td> <th>  Jarque-Bera (JB):  </th> <td> 137.908</td>\n",
       "</tr>\n",
       "<tr>\n",
       "  <th>Skew:</th>          <td>-1.437</td> <th>  Prob(JB):          </th> <td>1.13e-30</td>\n",
       "</tr>\n",
       "<tr>\n",
       "  <th>Kurtosis:</th>      <td> 6.298</td> <th>  Cond. No.          </th> <td>    429.</td>\n",
       "</tr>\n",
       "</table><br/><br/>Notes:<br/>[1] Standard Errors assume that the covariance matrix of the errors is correctly specified."
      ],
      "text/plain": [
       "<class 'statsmodels.iolib.summary.Summary'>\n",
       "\"\"\"\n",
       "                            OLS Regression Results                            \n",
       "==============================================================================\n",
       "Dep. Variable:             np.log(u2)   R-squared:                       0.037\n",
       "Model:                            OLS   Adj. R-squared:                  0.014\n",
       "Method:                 Least Squares   F-statistic:                     1.633\n",
       "Date:                Fri, 18 Nov 2022   Prob (F-statistic):              0.168\n",
       "Time:                        18:50:52   Log-Likelihood:                -372.96\n",
       "No. Observations:                 173   AIC:                             755.9\n",
       "Df Residuals:                     168   BIC:                             771.7\n",
       "Df Model:                           4                                         \n",
       "Covariance Type:            nonrobust                                         \n",
       "===================================================================================\n",
       "                      coef    std err          t      P>|t|      [0.025      0.975]\n",
       "-----------------------------------------------------------------------------------\n",
       "Intercept           4.9597      1.326      3.740      0.000       2.342       7.577\n",
       "prtystrA           -0.0250      0.020     -1.251      0.213      -0.064       0.014\n",
       "np.log(expendA)    -0.0358      0.110     -0.326      0.744      -0.252       0.181\n",
       "democA              0.2127      0.394      0.540      0.590      -0.565       0.990\n",
       "np.log(expendB)    -0.1728      0.111     -1.553      0.122      -0.392       0.047\n",
       "==============================================================================\n",
       "Omnibus:                       57.246   Durbin-Watson:                   1.931\n",
       "Prob(Omnibus):                  0.000   Jarque-Bera (JB):              137.908\n",
       "Skew:                          -1.437   Prob(JB):                     1.13e-30\n",
       "Kurtosis:                       6.298   Cond. No.                         429.\n",
       "==============================================================================\n",
       "\n",
       "Notes:\n",
       "[1] Standard Errors assume that the covariance matrix of the errors is correctly specified.\n",
       "\"\"\""
      ]
     },
     "execution_count": 30,
     "metadata": {},
     "output_type": "execute_result"
    }
   ],
   "source": [
    "u2_fit = smf.ols('np.log(u2) ~ prtystrA + np.log(expendA) + democA + np.log(expendB)', vote).fit()\n",
    "u2_fit.summary()"
   ]
  },
  {
   "cell_type": "code",
   "execution_count": 31,
   "id": "89c1dbe1",
   "metadata": {},
   "outputs": [],
   "source": [
    "u2_fitvalues = u2_fit.fittedvalues\n",
    "vari = np.exp(u2_fitvalues)\n",
    "w = 1/vari**2"
   ]
  },
  {
   "cell_type": "code",
   "execution_count": 32,
   "id": "b50d0195",
   "metadata": {},
   "outputs": [
    {
     "data": {
      "text/html": [
       "<table class=\"simpletable\">\n",
       "<caption>WLS Regression Results</caption>\n",
       "<tr>\n",
       "  <th>Dep. Variable:</th>          <td>voteA</td>      <th>  R-squared:         </th> <td>   0.776</td>\n",
       "</tr>\n",
       "<tr>\n",
       "  <th>Model:</th>                   <td>WLS</td>       <th>  Adj. R-squared:    </th> <td>   0.771</td>\n",
       "</tr>\n",
       "<tr>\n",
       "  <th>Method:</th>             <td>Least Squares</td>  <th>  F-statistic:       </th> <td>   145.8</td>\n",
       "</tr>\n",
       "<tr>\n",
       "  <th>Date:</th>             <td>Fri, 18 Nov 2022</td> <th>  Prob (F-statistic):</th> <td>1.56e-53</td>\n",
       "</tr>\n",
       "<tr>\n",
       "  <th>Time:</th>                 <td>18:50:54</td>     <th>  Log-Likelihood:    </th> <td> -600.44</td>\n",
       "</tr>\n",
       "<tr>\n",
       "  <th>No. Observations:</th>      <td>   173</td>      <th>  AIC:               </th> <td>   1211.</td>\n",
       "</tr>\n",
       "<tr>\n",
       "  <th>Df Residuals:</th>          <td>   168</td>      <th>  BIC:               </th> <td>   1227.</td>\n",
       "</tr>\n",
       "<tr>\n",
       "  <th>Df Model:</th>              <td>     4</td>      <th>                     </th>     <td> </td>   \n",
       "</tr>\n",
       "<tr>\n",
       "  <th>Covariance Type:</th>      <td>nonrobust</td>    <th>                     </th>     <td> </td>   \n",
       "</tr>\n",
       "</table>\n",
       "<table class=\"simpletable\">\n",
       "<tr>\n",
       "         <td></td>            <th>coef</th>     <th>std err</th>      <th>t</th>      <th>P>|t|</th>  <th>[0.025</th>    <th>0.975]</th>  \n",
       "</tr>\n",
       "<tr>\n",
       "  <th>Intercept</th>       <td>   43.9099</td> <td>    4.915</td> <td>    8.934</td> <td> 0.000</td> <td>   34.207</td> <td>   53.612</td>\n",
       "</tr>\n",
       "<tr>\n",
       "  <th>prtystrA</th>        <td>    0.1898</td> <td>    0.071</td> <td>    2.691</td> <td> 0.008</td> <td>    0.051</td> <td>    0.329</td>\n",
       "</tr>\n",
       "<tr>\n",
       "  <th>np.log(expendA)</th> <td>    6.1749</td> <td>    0.386</td> <td>   16.012</td> <td> 0.000</td> <td>    5.414</td> <td>    6.936</td>\n",
       "</tr>\n",
       "<tr>\n",
       "  <th>democA</th>          <td>    2.4745</td> <td>    1.327</td> <td>    1.865</td> <td> 0.064</td> <td>   -0.145</td> <td>    5.094</td>\n",
       "</tr>\n",
       "<tr>\n",
       "  <th>np.log(expendB)</th> <td>   -7.0865</td> <td>    0.432</td> <td>  -16.398</td> <td> 0.000</td> <td>   -7.940</td> <td>   -6.233</td>\n",
       "</tr>\n",
       "</table>\n",
       "<table class=\"simpletable\">\n",
       "<tr>\n",
       "  <th>Omnibus:</th>       <td> 4.729</td> <th>  Durbin-Watson:     </th> <td>   1.567</td>\n",
       "</tr>\n",
       "<tr>\n",
       "  <th>Prob(Omnibus):</th> <td> 0.094</td> <th>  Jarque-Bera (JB):  </th> <td>   5.006</td>\n",
       "</tr>\n",
       "<tr>\n",
       "  <th>Skew:</th>          <td> 0.227</td> <th>  Prob(JB):          </th> <td>  0.0818</td>\n",
       "</tr>\n",
       "<tr>\n",
       "  <th>Kurtosis:</th>      <td> 3.699</td> <th>  Cond. No.          </th> <td>    548.</td>\n",
       "</tr>\n",
       "</table><br/><br/>Notes:<br/>[1] Standard Errors assume that the covariance matrix of the errors is correctly specified."
      ],
      "text/plain": [
       "<class 'statsmodels.iolib.summary.Summary'>\n",
       "\"\"\"\n",
       "                            WLS Regression Results                            \n",
       "==============================================================================\n",
       "Dep. Variable:                  voteA   R-squared:                       0.776\n",
       "Model:                            WLS   Adj. R-squared:                  0.771\n",
       "Method:                 Least Squares   F-statistic:                     145.8\n",
       "Date:                Fri, 18 Nov 2022   Prob (F-statistic):           1.56e-53\n",
       "Time:                        18:50:54   Log-Likelihood:                -600.44\n",
       "No. Observations:                 173   AIC:                             1211.\n",
       "Df Residuals:                     168   BIC:                             1227.\n",
       "Df Model:                           4                                         \n",
       "Covariance Type:            nonrobust                                         \n",
       "===================================================================================\n",
       "                      coef    std err          t      P>|t|      [0.025      0.975]\n",
       "-----------------------------------------------------------------------------------\n",
       "Intercept          43.9099      4.915      8.934      0.000      34.207      53.612\n",
       "prtystrA            0.1898      0.071      2.691      0.008       0.051       0.329\n",
       "np.log(expendA)     6.1749      0.386     16.012      0.000       5.414       6.936\n",
       "democA              2.4745      1.327      1.865      0.064      -0.145       5.094\n",
       "np.log(expendB)    -7.0865      0.432    -16.398      0.000      -7.940      -6.233\n",
       "==============================================================================\n",
       "Omnibus:                        4.729   Durbin-Watson:                   1.567\n",
       "Prob(Omnibus):                  0.094   Jarque-Bera (JB):                5.006\n",
       "Skew:                           0.227   Prob(JB):                       0.0818\n",
       "Kurtosis:                       3.699   Cond. No.                         548.\n",
       "==============================================================================\n",
       "\n",
       "Notes:\n",
       "[1] Standard Errors assume that the covariance matrix of the errors is correctly specified.\n",
       "\"\"\""
      ]
     },
     "execution_count": 32,
     "metadata": {},
     "output_type": "execute_result"
    }
   ],
   "source": [
    "wls_fit = smf.wls('voteA ~ prtystrA + np.log(expendA) + democA + np.log(expendB)', weights = w, data = vote).fit()\n",
    "wls_fit.summary()"
   ]
  },
  {
   "cell_type": "code",
   "execution_count": 33,
   "id": "f16a9212",
   "metadata": {},
   "outputs": [
    {
     "name": "stdout",
     "output_type": "stream",
     "text": [
      "The SE for the original model was:\n",
      " Intercept          4.736036\n",
      "prtystrA           0.071293\n",
      "np.log(expendA)    0.391820\n",
      "democA             1.406520\n",
      "np.log(expendB)    0.397460\n",
      "dtype: float64\n",
      "The SE for the FGLS model is:\n",
      " Intercept          4.914740\n",
      "prtystrA           0.070516\n",
      "np.log(expendA)    0.385641\n",
      "democA             1.326701\n",
      "np.log(expendB)    0.432148\n",
      "dtype: float64\n"
     ]
    }
   ],
   "source": [
    "# SE\n",
    "print(\"The SE for the original model was:\\n\", fit.bse)\n",
    "print(\"The SE for the FGLS model is:\\n\", wls_fit.bse)"
   ]
  },
  {
   "cell_type": "markdown",
   "id": "580292b4",
   "metadata": {},
   "source": [
    "The SEs for the coefficients changed. There has been an increase for the SE of the intercept, and $ log(expendB) $. The other SEs decreased. "
   ]
  },
  {
   "cell_type": "code",
   "execution_count": 34,
   "id": "53907e29",
   "metadata": {},
   "outputs": [
    {
     "name": "stdout",
     "output_type": "stream",
     "text": [
      "The p-values for the original model were:\n",
      " Intercept          2.564412e-13\n",
      "prtystrA           5.296255e-04\n",
      "np.log(expendA)    4.029908e-32\n",
      "democA             7.716801e-03\n",
      "np.log(expendB)    9.342922e-35\n",
      "dtype: float64\n",
      "The p-values for the FGLS model are:\n",
      " Intercept          7.041221e-16\n",
      "prtystrA           7.837046e-03\n",
      "np.log(expendA)    1.232256e-35\n",
      "democA             6.389885e-02\n",
      "np.log(expendB)    1.062321e-36\n",
      "dtype: float64\n"
     ]
    }
   ],
   "source": [
    "# Significance\n",
    "print(\"The p-values for the original model were:\\n\", fit.pvalues)\n",
    "print(\"The p-values for the FGLS model are:\\n\", wls_fit.pvalues)"
   ]
  },
  {
   "cell_type": "markdown",
   "id": "9de130f6",
   "metadata": {},
   "source": [
    "The p-values are pretty much the same; however, in the FGLS model $ democA $ is not significant for alpha 0.05 or 0.01."
   ]
  },
  {
   "cell_type": "code",
   "execution_count": 35,
   "id": "9c06ef72",
   "metadata": {},
   "outputs": [
    {
     "name": "stdout",
     "output_type": "stream",
     "text": [
      "The parameters for the original model were:\n",
      " Intercept          37.661415\n",
      "prtystrA            0.251918\n",
      "np.log(expendA)     5.779294\n",
      "democA              3.792944\n",
      "np.log(expendB)    -6.237836\n",
      "dtype: float64\n",
      "The parameters for the FGLS model are:\n",
      " Intercept          43.909854\n",
      "prtystrA            0.189781\n",
      "np.log(expendA)     6.174878\n",
      "democA              2.474548\n",
      "np.log(expendB)    -7.086457\n",
      "dtype: float64\n"
     ]
    }
   ],
   "source": [
    "# Coefficients\n",
    "print(\"The parameters for the original model were:\\n\", fit.params)\n",
    "print(\"The parameters for the FGLS model are:\\n\", wls_fit.params)"
   ]
  },
  {
   "cell_type": "markdown",
   "id": "211b8759",
   "metadata": {},
   "source": [
    "Differently from the HC0 model, the coefficients changed - even though the variation is not too large."
   ]
  }
 ],
 "metadata": {
  "kernelspec": {
   "display_name": "Python 3 (ipykernel)",
   "language": "python",
   "name": "python3"
  },
  "language_info": {
   "codemirror_mode": {
    "name": "ipython",
    "version": 3
   },
   "file_extension": ".py",
   "mimetype": "text/x-python",
   "name": "python",
   "nbconvert_exporter": "python",
   "pygments_lexer": "ipython3",
   "version": "3.9.12"
  }
 },
 "nbformat": 4,
 "nbformat_minor": 5
}
